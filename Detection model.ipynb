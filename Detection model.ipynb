{
  "nbformat": 4,
  "nbformat_minor": 0,
  "metadata": {
    "colab": {
      "provenance": [],
      "gpuType": "T4"
    },
    "kernelspec": {
      "name": "python3",
      "display_name": "Python 3"
    },
    "language_info": {
      "name": "python"
    },
    "accelerator": "GPU"
  },
  "cells": [
    {
      "cell_type": "code",
      "source": [
        "!pip install ultralytics roboflow\n",
        "!pip install inference-sdk\n"
      ],
      "metadata": {
        "colab": {
          "base_uri": "https://localhost:8080/"
        },
        "id": "YFuB3i-Z3jqo",
        "outputId": "ed08fde6-5842-40df-fb67-899852eadca5"
      },
      "execution_count": 3,
      "outputs": [
        {
          "output_type": "stream",
          "name": "stdout",
          "text": [
            "Collecting ultralytics\n",
            "  Downloading ultralytics-8.3.170-py3-none-any.whl.metadata (37 kB)\n",
            "Collecting roboflow\n",
            "  Downloading roboflow-1.2.3-py3-none-any.whl.metadata (9.7 kB)\n",
            "Requirement already satisfied: numpy>=1.23.0 in /usr/local/lib/python3.11/dist-packages (from ultralytics) (2.0.2)\n",
            "Requirement already satisfied: matplotlib>=3.3.0 in /usr/local/lib/python3.11/dist-packages (from ultralytics) (3.10.0)\n",
            "Requirement already satisfied: opencv-python>=4.6.0 in /usr/local/lib/python3.11/dist-packages (from ultralytics) (4.12.0.88)\n",
            "Requirement already satisfied: pillow>=7.1.2 in /usr/local/lib/python3.11/dist-packages (from ultralytics) (11.3.0)\n",
            "Requirement already satisfied: pyyaml>=5.3.1 in /usr/local/lib/python3.11/dist-packages (from ultralytics) (6.0.2)\n",
            "Requirement already satisfied: requests>=2.23.0 in /usr/local/lib/python3.11/dist-packages (from ultralytics) (2.32.3)\n",
            "Requirement already satisfied: scipy>=1.4.1 in /usr/local/lib/python3.11/dist-packages (from ultralytics) (1.16.0)\n",
            "Requirement already satisfied: torch>=1.8.0 in /usr/local/lib/python3.11/dist-packages (from ultralytics) (2.6.0+cu124)\n",
            "Requirement already satisfied: torchvision>=0.9.0 in /usr/local/lib/python3.11/dist-packages (from ultralytics) (0.21.0+cu124)\n",
            "Requirement already satisfied: tqdm>=4.64.0 in /usr/local/lib/python3.11/dist-packages (from ultralytics) (4.67.1)\n",
            "Requirement already satisfied: psutil in /usr/local/lib/python3.11/dist-packages (from ultralytics) (5.9.5)\n",
            "Requirement already satisfied: py-cpuinfo in /usr/local/lib/python3.11/dist-packages (from ultralytics) (9.0.0)\n",
            "Requirement already satisfied: pandas>=1.1.4 in /usr/local/lib/python3.11/dist-packages (from ultralytics) (2.2.2)\n",
            "Collecting ultralytics-thop>=2.0.0 (from ultralytics)\n",
            "  Downloading ultralytics_thop-2.0.14-py3-none-any.whl.metadata (9.4 kB)\n",
            "Requirement already satisfied: certifi in /usr/local/lib/python3.11/dist-packages (from roboflow) (2025.7.14)\n",
            "Collecting idna==3.7 (from roboflow)\n",
            "  Downloading idna-3.7-py3-none-any.whl.metadata (9.9 kB)\n",
            "Requirement already satisfied: cycler in /usr/local/lib/python3.11/dist-packages (from roboflow) (0.12.1)\n",
            "Requirement already satisfied: kiwisolver>=1.3.1 in /usr/local/lib/python3.11/dist-packages (from roboflow) (1.4.8)\n",
            "Collecting opencv-python-headless==4.10.0.84 (from roboflow)\n",
            "  Downloading opencv_python_headless-4.10.0.84-cp37-abi3-manylinux_2_17_x86_64.manylinux2014_x86_64.whl.metadata (20 kB)\n",
            "Collecting pi-heif<2 (from roboflow)\n",
            "  Downloading pi_heif-1.0.0-cp311-cp311-manylinux_2_17_x86_64.manylinux2014_x86_64.whl.metadata (6.5 kB)\n",
            "Collecting pillow-avif-plugin<2 (from roboflow)\n",
            "  Downloading pillow_avif_plugin-1.5.2-cp311-cp311-manylinux_2_28_x86_64.whl.metadata (2.1 kB)\n",
            "Requirement already satisfied: python-dateutil in /usr/local/lib/python3.11/dist-packages (from roboflow) (2.9.0.post0)\n",
            "Collecting python-dotenv (from roboflow)\n",
            "  Downloading python_dotenv-1.1.1-py3-none-any.whl.metadata (24 kB)\n",
            "Requirement already satisfied: six in /usr/local/lib/python3.11/dist-packages (from roboflow) (1.17.0)\n",
            "Requirement already satisfied: urllib3>=1.26.6 in /usr/local/lib/python3.11/dist-packages (from roboflow) (2.5.0)\n",
            "Requirement already satisfied: requests-toolbelt in /usr/local/lib/python3.11/dist-packages (from roboflow) (1.0.0)\n",
            "Collecting filetype (from roboflow)\n",
            "  Downloading filetype-1.2.0-py2.py3-none-any.whl.metadata (6.5 kB)\n",
            "Requirement already satisfied: contourpy>=1.0.1 in /usr/local/lib/python3.11/dist-packages (from matplotlib>=3.3.0->ultralytics) (1.3.2)\n",
            "Requirement already satisfied: fonttools>=4.22.0 in /usr/local/lib/python3.11/dist-packages (from matplotlib>=3.3.0->ultralytics) (4.59.0)\n",
            "Requirement already satisfied: packaging>=20.0 in /usr/local/lib/python3.11/dist-packages (from matplotlib>=3.3.0->ultralytics) (25.0)\n",
            "Requirement already satisfied: pyparsing>=2.3.1 in /usr/local/lib/python3.11/dist-packages (from matplotlib>=3.3.0->ultralytics) (3.2.3)\n",
            "Requirement already satisfied: pytz>=2020.1 in /usr/local/lib/python3.11/dist-packages (from pandas>=1.1.4->ultralytics) (2025.2)\n",
            "Requirement already satisfied: tzdata>=2022.7 in /usr/local/lib/python3.11/dist-packages (from pandas>=1.1.4->ultralytics) (2025.2)\n",
            "Requirement already satisfied: charset-normalizer<4,>=2 in /usr/local/lib/python3.11/dist-packages (from requests>=2.23.0->ultralytics) (3.4.2)\n",
            "Requirement already satisfied: filelock in /usr/local/lib/python3.11/dist-packages (from torch>=1.8.0->ultralytics) (3.18.0)\n",
            "Requirement already satisfied: typing-extensions>=4.10.0 in /usr/local/lib/python3.11/dist-packages (from torch>=1.8.0->ultralytics) (4.14.1)\n",
            "Requirement already satisfied: networkx in /usr/local/lib/python3.11/dist-packages (from torch>=1.8.0->ultralytics) (3.5)\n",
            "Requirement already satisfied: jinja2 in /usr/local/lib/python3.11/dist-packages (from torch>=1.8.0->ultralytics) (3.1.6)\n",
            "Requirement already satisfied: fsspec in /usr/local/lib/python3.11/dist-packages (from torch>=1.8.0->ultralytics) (2025.3.0)\n",
            "Collecting nvidia-cuda-nvrtc-cu12==12.4.127 (from torch>=1.8.0->ultralytics)\n",
            "  Downloading nvidia_cuda_nvrtc_cu12-12.4.127-py3-none-manylinux2014_x86_64.whl.metadata (1.5 kB)\n",
            "Collecting nvidia-cuda-runtime-cu12==12.4.127 (from torch>=1.8.0->ultralytics)\n",
            "  Downloading nvidia_cuda_runtime_cu12-12.4.127-py3-none-manylinux2014_x86_64.whl.metadata (1.5 kB)\n",
            "Collecting nvidia-cuda-cupti-cu12==12.4.127 (from torch>=1.8.0->ultralytics)\n",
            "  Downloading nvidia_cuda_cupti_cu12-12.4.127-py3-none-manylinux2014_x86_64.whl.metadata (1.6 kB)\n",
            "Collecting nvidia-cudnn-cu12==9.1.0.70 (from torch>=1.8.0->ultralytics)\n",
            "  Downloading nvidia_cudnn_cu12-9.1.0.70-py3-none-manylinux2014_x86_64.whl.metadata (1.6 kB)\n",
            "Collecting nvidia-cublas-cu12==12.4.5.8 (from torch>=1.8.0->ultralytics)\n",
            "  Downloading nvidia_cublas_cu12-12.4.5.8-py3-none-manylinux2014_x86_64.whl.metadata (1.5 kB)\n",
            "Collecting nvidia-cufft-cu12==11.2.1.3 (from torch>=1.8.0->ultralytics)\n",
            "  Downloading nvidia_cufft_cu12-11.2.1.3-py3-none-manylinux2014_x86_64.whl.metadata (1.5 kB)\n",
            "Collecting nvidia-curand-cu12==10.3.5.147 (from torch>=1.8.0->ultralytics)\n",
            "  Downloading nvidia_curand_cu12-10.3.5.147-py3-none-manylinux2014_x86_64.whl.metadata (1.5 kB)\n",
            "Collecting nvidia-cusolver-cu12==11.6.1.9 (from torch>=1.8.0->ultralytics)\n",
            "  Downloading nvidia_cusolver_cu12-11.6.1.9-py3-none-manylinux2014_x86_64.whl.metadata (1.6 kB)\n",
            "Collecting nvidia-cusparse-cu12==12.3.1.170 (from torch>=1.8.0->ultralytics)\n",
            "  Downloading nvidia_cusparse_cu12-12.3.1.170-py3-none-manylinux2014_x86_64.whl.metadata (1.6 kB)\n",
            "Requirement already satisfied: nvidia-cusparselt-cu12==0.6.2 in /usr/local/lib/python3.11/dist-packages (from torch>=1.8.0->ultralytics) (0.6.2)\n",
            "Requirement already satisfied: nvidia-nccl-cu12==2.21.5 in /usr/local/lib/python3.11/dist-packages (from torch>=1.8.0->ultralytics) (2.21.5)\n",
            "Requirement already satisfied: nvidia-nvtx-cu12==12.4.127 in /usr/local/lib/python3.11/dist-packages (from torch>=1.8.0->ultralytics) (12.4.127)\n",
            "Collecting nvidia-nvjitlink-cu12==12.4.127 (from torch>=1.8.0->ultralytics)\n",
            "  Downloading nvidia_nvjitlink_cu12-12.4.127-py3-none-manylinux2014_x86_64.whl.metadata (1.5 kB)\n",
            "Requirement already satisfied: triton==3.2.0 in /usr/local/lib/python3.11/dist-packages (from torch>=1.8.0->ultralytics) (3.2.0)\n",
            "Requirement already satisfied: sympy==1.13.1 in /usr/local/lib/python3.11/dist-packages (from torch>=1.8.0->ultralytics) (1.13.1)\n",
            "Requirement already satisfied: mpmath<1.4,>=1.1.0 in /usr/local/lib/python3.11/dist-packages (from sympy==1.13.1->torch>=1.8.0->ultralytics) (1.3.0)\n",
            "Requirement already satisfied: MarkupSafe>=2.0 in /usr/local/lib/python3.11/dist-packages (from jinja2->torch>=1.8.0->ultralytics) (3.0.2)\n",
            "Downloading ultralytics-8.3.170-py3-none-any.whl (1.0 MB)\n",
            "\u001b[2K   \u001b[90m━━━━━━━━━━━━━━━━━━━━━━━━━━━━━━━━━━━━━━━━\u001b[0m \u001b[32m1.0/1.0 MB\u001b[0m \u001b[31m24.0 MB/s\u001b[0m eta \u001b[36m0:00:00\u001b[0m\n",
            "\u001b[?25hDownloading roboflow-1.2.3-py3-none-any.whl (86 kB)\n",
            "\u001b[2K   \u001b[90m━━━━━━━━━━━━━━━━━━━━━━━━━━━━━━━━━━━━━━━━\u001b[0m \u001b[32m86.9/86.9 kB\u001b[0m \u001b[31m9.6 MB/s\u001b[0m eta \u001b[36m0:00:00\u001b[0m\n",
            "\u001b[?25hDownloading idna-3.7-py3-none-any.whl (66 kB)\n",
            "\u001b[2K   \u001b[90m━━━━━━━━━━━━━━━━━━━━━━━━━━━━━━━━━━━━━━━━\u001b[0m \u001b[32m66.8/66.8 kB\u001b[0m \u001b[31m6.8 MB/s\u001b[0m eta \u001b[36m0:00:00\u001b[0m\n",
            "\u001b[?25hDownloading opencv_python_headless-4.10.0.84-cp37-abi3-manylinux_2_17_x86_64.manylinux2014_x86_64.whl (49.9 MB)\n",
            "\u001b[2K   \u001b[90m━━━━━━━━━━━━━━━━━━━━━━━━━━━━━━━━━━━━━━━━\u001b[0m \u001b[32m49.9/49.9 MB\u001b[0m \u001b[31m20.2 MB/s\u001b[0m eta \u001b[36m0:00:00\u001b[0m\n",
            "\u001b[?25hDownloading pi_heif-1.0.0-cp311-cp311-manylinux_2_17_x86_64.manylinux2014_x86_64.whl (1.2 MB)\n",
            "\u001b[2K   \u001b[90m━━━━━━━━━━━━━━━━━━━━━━━━━━━━━━━━━━━━━━━━\u001b[0m \u001b[32m1.2/1.2 MB\u001b[0m \u001b[31m76.3 MB/s\u001b[0m eta \u001b[36m0:00:00\u001b[0m\n",
            "\u001b[?25hDownloading pillow_avif_plugin-1.5.2-cp311-cp311-manylinux_2_28_x86_64.whl (4.2 MB)\n",
            "\u001b[2K   \u001b[90m━━━━━━━━━━━━━━━━━━━━━━━━━━━━━━━━━━━━━━━━\u001b[0m \u001b[32m4.2/4.2 MB\u001b[0m \u001b[31m45.9 MB/s\u001b[0m eta \u001b[36m0:00:00\u001b[0m\n",
            "\u001b[?25hDownloading nvidia_cublas_cu12-12.4.5.8-py3-none-manylinux2014_x86_64.whl (363.4 MB)\n",
            "\u001b[2K   \u001b[90m━━━━━━━━━━━━━━━━━━━━━━━━━━━━━━━━━━━━━━━━\u001b[0m \u001b[32m363.4/363.4 MB\u001b[0m \u001b[31m1.3 MB/s\u001b[0m eta \u001b[36m0:00:00\u001b[0m\n",
            "\u001b[?25hDownloading nvidia_cuda_cupti_cu12-12.4.127-py3-none-manylinux2014_x86_64.whl (13.8 MB)\n",
            "\u001b[2K   \u001b[90m━━━━━━━━━━━━━━━━━━━━━━━━━━━━━━━━━━━━━━━━\u001b[0m \u001b[32m13.8/13.8 MB\u001b[0m \u001b[31m116.1 MB/s\u001b[0m eta \u001b[36m0:00:00\u001b[0m\n",
            "\u001b[?25hDownloading nvidia_cuda_nvrtc_cu12-12.4.127-py3-none-manylinux2014_x86_64.whl (24.6 MB)\n",
            "\u001b[2K   \u001b[90m━━━━━━━━━━━━━━━━━━━━━━━━━━━━━━━━━━━━━━━━\u001b[0m \u001b[32m24.6/24.6 MB\u001b[0m \u001b[31m96.7 MB/s\u001b[0m eta \u001b[36m0:00:00\u001b[0m\n",
            "\u001b[?25hDownloading nvidia_cuda_runtime_cu12-12.4.127-py3-none-manylinux2014_x86_64.whl (883 kB)\n",
            "\u001b[2K   \u001b[90m━━━━━━━━━━━━━━━━━━━━━━━━━━━━━━━━━━━━━━━━\u001b[0m \u001b[32m883.7/883.7 kB\u001b[0m \u001b[31m60.4 MB/s\u001b[0m eta \u001b[36m0:00:00\u001b[0m\n",
            "\u001b[?25hDownloading nvidia_cudnn_cu12-9.1.0.70-py3-none-manylinux2014_x86_64.whl (664.8 MB)\n",
            "\u001b[2K   \u001b[90m━━━━━━━━━━━━━━━━━━━━━━━━━━━━━━━━━━━━━━━━\u001b[0m \u001b[32m664.8/664.8 MB\u001b[0m \u001b[31m3.0 MB/s\u001b[0m eta \u001b[36m0:00:00\u001b[0m\n",
            "\u001b[?25hDownloading nvidia_cufft_cu12-11.2.1.3-py3-none-manylinux2014_x86_64.whl (211.5 MB)\n",
            "\u001b[2K   \u001b[90m━━━━━━━━━━━━━━━━━━━━━━━━━━━━━━━━━━━━━━━━\u001b[0m \u001b[32m211.5/211.5 MB\u001b[0m \u001b[31m5.8 MB/s\u001b[0m eta \u001b[36m0:00:00\u001b[0m\n",
            "\u001b[?25hDownloading nvidia_curand_cu12-10.3.5.147-py3-none-manylinux2014_x86_64.whl (56.3 MB)\n",
            "\u001b[2K   \u001b[90m━━━━━━━━━━━━━━━━━━━━━━━━━━━━━━━━━━━━━━━━\u001b[0m \u001b[32m56.3/56.3 MB\u001b[0m \u001b[31m17.0 MB/s\u001b[0m eta \u001b[36m0:00:00\u001b[0m\n",
            "\u001b[?25hDownloading nvidia_cusolver_cu12-11.6.1.9-py3-none-manylinux2014_x86_64.whl (127.9 MB)\n",
            "\u001b[2K   \u001b[90m━━━━━━━━━━━━━━━━━━━━━━━━━━━━━━━━━━━━━━━━\u001b[0m \u001b[32m127.9/127.9 MB\u001b[0m \u001b[31m7.3 MB/s\u001b[0m eta \u001b[36m0:00:00\u001b[0m\n",
            "\u001b[?25hDownloading nvidia_cusparse_cu12-12.3.1.170-py3-none-manylinux2014_x86_64.whl (207.5 MB)\n",
            "\u001b[2K   \u001b[90m━━━━━━━━━━━━━━━━━━━━━━━━━━━━━━━━━━━━━━━━\u001b[0m \u001b[32m207.5/207.5 MB\u001b[0m \u001b[31m5.4 MB/s\u001b[0m eta \u001b[36m0:00:00\u001b[0m\n",
            "\u001b[?25hDownloading nvidia_nvjitlink_cu12-12.4.127-py3-none-manylinux2014_x86_64.whl (21.1 MB)\n",
            "\u001b[2K   \u001b[90m━━━━━━━━━━━━━━━━━━━━━━━━━━━━━━━━━━━━━━━━\u001b[0m \u001b[32m21.1/21.1 MB\u001b[0m \u001b[31m104.8 MB/s\u001b[0m eta \u001b[36m0:00:00\u001b[0m\n",
            "\u001b[?25hDownloading ultralytics_thop-2.0.14-py3-none-any.whl (26 kB)\n",
            "Downloading filetype-1.2.0-py2.py3-none-any.whl (19 kB)\n",
            "Downloading python_dotenv-1.1.1-py3-none-any.whl (20 kB)\n",
            "Installing collected packages: pillow-avif-plugin, filetype, python-dotenv, pi-heif, opencv-python-headless, nvidia-nvjitlink-cu12, nvidia-curand-cu12, nvidia-cufft-cu12, nvidia-cuda-runtime-cu12, nvidia-cuda-nvrtc-cu12, nvidia-cuda-cupti-cu12, nvidia-cublas-cu12, idna, nvidia-cusparse-cu12, nvidia-cudnn-cu12, nvidia-cusolver-cu12, roboflow, ultralytics-thop, ultralytics\n",
            "  Attempting uninstall: opencv-python-headless\n",
            "    Found existing installation: opencv-python-headless 4.12.0.88\n",
            "    Uninstalling opencv-python-headless-4.12.0.88:\n",
            "      Successfully uninstalled opencv-python-headless-4.12.0.88\n",
            "  Attempting uninstall: nvidia-nvjitlink-cu12\n",
            "    Found existing installation: nvidia-nvjitlink-cu12 12.5.82\n",
            "    Uninstalling nvidia-nvjitlink-cu12-12.5.82:\n",
            "      Successfully uninstalled nvidia-nvjitlink-cu12-12.5.82\n",
            "  Attempting uninstall: nvidia-curand-cu12\n",
            "    Found existing installation: nvidia-curand-cu12 10.3.6.82\n",
            "    Uninstalling nvidia-curand-cu12-10.3.6.82:\n",
            "      Successfully uninstalled nvidia-curand-cu12-10.3.6.82\n",
            "  Attempting uninstall: nvidia-cufft-cu12\n",
            "    Found existing installation: nvidia-cufft-cu12 11.2.3.61\n",
            "    Uninstalling nvidia-cufft-cu12-11.2.3.61:\n",
            "      Successfully uninstalled nvidia-cufft-cu12-11.2.3.61\n",
            "  Attempting uninstall: nvidia-cuda-runtime-cu12\n",
            "    Found existing installation: nvidia-cuda-runtime-cu12 12.5.82\n",
            "    Uninstalling nvidia-cuda-runtime-cu12-12.5.82:\n",
            "      Successfully uninstalled nvidia-cuda-runtime-cu12-12.5.82\n",
            "  Attempting uninstall: nvidia-cuda-nvrtc-cu12\n",
            "    Found existing installation: nvidia-cuda-nvrtc-cu12 12.5.82\n",
            "    Uninstalling nvidia-cuda-nvrtc-cu12-12.5.82:\n",
            "      Successfully uninstalled nvidia-cuda-nvrtc-cu12-12.5.82\n",
            "  Attempting uninstall: nvidia-cuda-cupti-cu12\n",
            "    Found existing installation: nvidia-cuda-cupti-cu12 12.5.82\n",
            "    Uninstalling nvidia-cuda-cupti-cu12-12.5.82:\n",
            "      Successfully uninstalled nvidia-cuda-cupti-cu12-12.5.82\n",
            "  Attempting uninstall: nvidia-cublas-cu12\n",
            "    Found existing installation: nvidia-cublas-cu12 12.5.3.2\n",
            "    Uninstalling nvidia-cublas-cu12-12.5.3.2:\n",
            "      Successfully uninstalled nvidia-cublas-cu12-12.5.3.2\n",
            "  Attempting uninstall: idna\n",
            "    Found existing installation: idna 3.10\n",
            "    Uninstalling idna-3.10:\n",
            "      Successfully uninstalled idna-3.10\n",
            "  Attempting uninstall: nvidia-cusparse-cu12\n",
            "    Found existing installation: nvidia-cusparse-cu12 12.5.1.3\n",
            "    Uninstalling nvidia-cusparse-cu12-12.5.1.3:\n",
            "      Successfully uninstalled nvidia-cusparse-cu12-12.5.1.3\n",
            "  Attempting uninstall: nvidia-cudnn-cu12\n",
            "    Found existing installation: nvidia-cudnn-cu12 9.3.0.75\n",
            "    Uninstalling nvidia-cudnn-cu12-9.3.0.75:\n",
            "      Successfully uninstalled nvidia-cudnn-cu12-9.3.0.75\n",
            "  Attempting uninstall: nvidia-cusolver-cu12\n",
            "    Found existing installation: nvidia-cusolver-cu12 11.6.3.83\n",
            "    Uninstalling nvidia-cusolver-cu12-11.6.3.83:\n",
            "      Successfully uninstalled nvidia-cusolver-cu12-11.6.3.83\n",
            "Successfully installed filetype-1.2.0 idna-3.7 nvidia-cublas-cu12-12.4.5.8 nvidia-cuda-cupti-cu12-12.4.127 nvidia-cuda-nvrtc-cu12-12.4.127 nvidia-cuda-runtime-cu12-12.4.127 nvidia-cudnn-cu12-9.1.0.70 nvidia-cufft-cu12-11.2.1.3 nvidia-curand-cu12-10.3.5.147 nvidia-cusolver-cu12-11.6.1.9 nvidia-cusparse-cu12-12.3.1.170 nvidia-nvjitlink-cu12-12.4.127 opencv-python-headless-4.10.0.84 pi-heif-1.0.0 pillow-avif-plugin-1.5.2 python-dotenv-1.1.1 roboflow-1.2.3 ultralytics-8.3.170 ultralytics-thop-2.0.14\n",
            "Collecting inference-sdk\n",
            "  Downloading inference_sdk-0.51.7-py3-none-any.whl.metadata (20 kB)\n",
            "Requirement already satisfied: requests<3.0.0,>=2.32.0 in /usr/local/lib/python3.11/dist-packages (from inference-sdk) (2.32.3)\n",
            "Collecting dataclasses-json~=0.6.0 (from inference-sdk)\n",
            "  Downloading dataclasses_json-0.6.7-py3-none-any.whl.metadata (25 kB)\n",
            "Collecting opencv-python<=4.10.0.84,>=4.8.1.78 (from inference-sdk)\n",
            "  Downloading opencv_python-4.10.0.84-cp37-abi3-manylinux_2_17_x86_64.manylinux2014_x86_64.whl.metadata (20 kB)\n",
            "Requirement already satisfied: pillow<12.0,>=11.0 in /usr/local/lib/python3.11/dist-packages (from inference-sdk) (11.3.0)\n",
            "Collecting supervision<0.26.0,>=0.25.1 (from inference-sdk)\n",
            "  Downloading supervision-0.25.1-py3-none-any.whl.metadata (14 kB)\n",
            "Requirement already satisfied: numpy<2.3.0,>=2.0.0 in /usr/local/lib/python3.11/dist-packages (from inference-sdk) (2.0.2)\n",
            "Collecting aiohttp<=3.10.11,>=3.9.0 (from inference-sdk)\n",
            "  Downloading aiohttp-3.10.11-cp311-cp311-manylinux_2_17_x86_64.manylinux2014_x86_64.whl.metadata (7.7 kB)\n",
            "Collecting backoff~=2.2.0 (from inference-sdk)\n",
            "  Downloading backoff-2.2.1-py3-none-any.whl.metadata (14 kB)\n",
            "Requirement already satisfied: py-cpuinfo~=9.0.0 in /usr/local/lib/python3.11/dist-packages (from inference-sdk) (9.0.0)\n",
            "Requirement already satisfied: aiohappyeyeballs>=2.3.0 in /usr/local/lib/python3.11/dist-packages (from aiohttp<=3.10.11,>=3.9.0->inference-sdk) (2.6.1)\n",
            "Requirement already satisfied: aiosignal>=1.1.2 in /usr/local/lib/python3.11/dist-packages (from aiohttp<=3.10.11,>=3.9.0->inference-sdk) (1.4.0)\n",
            "Requirement already satisfied: attrs>=17.3.0 in /usr/local/lib/python3.11/dist-packages (from aiohttp<=3.10.11,>=3.9.0->inference-sdk) (25.3.0)\n",
            "Requirement already satisfied: frozenlist>=1.1.1 in /usr/local/lib/python3.11/dist-packages (from aiohttp<=3.10.11,>=3.9.0->inference-sdk) (1.7.0)\n",
            "Requirement already satisfied: multidict<7.0,>=4.5 in /usr/local/lib/python3.11/dist-packages (from aiohttp<=3.10.11,>=3.9.0->inference-sdk) (6.6.3)\n",
            "Requirement already satisfied: yarl<2.0,>=1.12.0 in /usr/local/lib/python3.11/dist-packages (from aiohttp<=3.10.11,>=3.9.0->inference-sdk) (1.20.1)\n",
            "Collecting marshmallow<4.0.0,>=3.18.0 (from dataclasses-json~=0.6.0->inference-sdk)\n",
            "  Downloading marshmallow-3.26.1-py3-none-any.whl.metadata (7.3 kB)\n",
            "Collecting typing-inspect<1,>=0.4.0 (from dataclasses-json~=0.6.0->inference-sdk)\n",
            "  Downloading typing_inspect-0.9.0-py3-none-any.whl.metadata (1.5 kB)\n",
            "Requirement already satisfied: charset-normalizer<4,>=2 in /usr/local/lib/python3.11/dist-packages (from requests<3.0.0,>=2.32.0->inference-sdk) (3.4.2)\n",
            "Requirement already satisfied: idna<4,>=2.5 in /usr/local/lib/python3.11/dist-packages (from requests<3.0.0,>=2.32.0->inference-sdk) (3.7)\n",
            "Requirement already satisfied: urllib3<3,>=1.21.1 in /usr/local/lib/python3.11/dist-packages (from requests<3.0.0,>=2.32.0->inference-sdk) (2.5.0)\n",
            "Requirement already satisfied: certifi>=2017.4.17 in /usr/local/lib/python3.11/dist-packages (from requests<3.0.0,>=2.32.0->inference-sdk) (2025.7.14)\n",
            "Requirement already satisfied: contourpy>=1.0.7 in /usr/local/lib/python3.11/dist-packages (from supervision<0.26.0,>=0.25.1->inference-sdk) (1.3.2)\n",
            "Requirement already satisfied: defusedxml<0.8.0,>=0.7.1 in /usr/local/lib/python3.11/dist-packages (from supervision<0.26.0,>=0.25.1->inference-sdk) (0.7.1)\n",
            "Requirement already satisfied: matplotlib>=3.6.0 in /usr/local/lib/python3.11/dist-packages (from supervision<0.26.0,>=0.25.1->inference-sdk) (3.10.0)\n",
            "Requirement already satisfied: pyyaml>=5.3 in /usr/local/lib/python3.11/dist-packages (from supervision<0.26.0,>=0.25.1->inference-sdk) (6.0.2)\n",
            "Requirement already satisfied: scipy<2.0.0,>=1.10.0 in /usr/local/lib/python3.11/dist-packages (from supervision<0.26.0,>=0.25.1->inference-sdk) (1.16.0)\n",
            "Requirement already satisfied: tqdm>=4.62.3 in /usr/local/lib/python3.11/dist-packages (from supervision<0.26.0,>=0.25.1->inference-sdk) (4.67.1)\n",
            "Requirement already satisfied: typing-extensions>=4.2 in /usr/local/lib/python3.11/dist-packages (from aiosignal>=1.1.2->aiohttp<=3.10.11,>=3.9.0->inference-sdk) (4.14.1)\n",
            "Requirement already satisfied: packaging>=17.0 in /usr/local/lib/python3.11/dist-packages (from marshmallow<4.0.0,>=3.18.0->dataclasses-json~=0.6.0->inference-sdk) (25.0)\n",
            "Requirement already satisfied: cycler>=0.10 in /usr/local/lib/python3.11/dist-packages (from matplotlib>=3.6.0->supervision<0.26.0,>=0.25.1->inference-sdk) (0.12.1)\n",
            "Requirement already satisfied: fonttools>=4.22.0 in /usr/local/lib/python3.11/dist-packages (from matplotlib>=3.6.0->supervision<0.26.0,>=0.25.1->inference-sdk) (4.59.0)\n",
            "Requirement already satisfied: kiwisolver>=1.3.1 in /usr/local/lib/python3.11/dist-packages (from matplotlib>=3.6.0->supervision<0.26.0,>=0.25.1->inference-sdk) (1.4.8)\n",
            "Requirement already satisfied: pyparsing>=2.3.1 in /usr/local/lib/python3.11/dist-packages (from matplotlib>=3.6.0->supervision<0.26.0,>=0.25.1->inference-sdk) (3.2.3)\n",
            "Requirement already satisfied: python-dateutil>=2.7 in /usr/local/lib/python3.11/dist-packages (from matplotlib>=3.6.0->supervision<0.26.0,>=0.25.1->inference-sdk) (2.9.0.post0)\n",
            "Collecting mypy-extensions>=0.3.0 (from typing-inspect<1,>=0.4.0->dataclasses-json~=0.6.0->inference-sdk)\n",
            "  Downloading mypy_extensions-1.1.0-py3-none-any.whl.metadata (1.1 kB)\n",
            "Requirement already satisfied: propcache>=0.2.1 in /usr/local/lib/python3.11/dist-packages (from yarl<2.0,>=1.12.0->aiohttp<=3.10.11,>=3.9.0->inference-sdk) (0.3.2)\n",
            "Requirement already satisfied: six>=1.5 in /usr/local/lib/python3.11/dist-packages (from python-dateutil>=2.7->matplotlib>=3.6.0->supervision<0.26.0,>=0.25.1->inference-sdk) (1.17.0)\n",
            "Downloading inference_sdk-0.51.7-py3-none-any.whl (43 kB)\n",
            "\u001b[2K   \u001b[90m━━━━━━━━━━━━━━━━━━━━━━━━━━━━━━━━━━━━━━━━\u001b[0m \u001b[32m43.4/43.4 kB\u001b[0m \u001b[31m3.9 MB/s\u001b[0m eta \u001b[36m0:00:00\u001b[0m\n",
            "\u001b[?25hDownloading aiohttp-3.10.11-cp311-cp311-manylinux_2_17_x86_64.manylinux2014_x86_64.whl (1.3 MB)\n",
            "\u001b[2K   \u001b[90m━━━━━━━━━━━━━━━━━━━━━━━━━━━━━━━━━━━━━━━━\u001b[0m \u001b[32m1.3/1.3 MB\u001b[0m \u001b[31m28.4 MB/s\u001b[0m eta \u001b[36m0:00:00\u001b[0m\n",
            "\u001b[?25hDownloading backoff-2.2.1-py3-none-any.whl (15 kB)\n",
            "Downloading dataclasses_json-0.6.7-py3-none-any.whl (28 kB)\n",
            "Downloading opencv_python-4.10.0.84-cp37-abi3-manylinux_2_17_x86_64.manylinux2014_x86_64.whl (62.5 MB)\n",
            "\u001b[2K   \u001b[90m━━━━━━━━━━━━━━━━━━━━━━━━━━━━━━━━━━━━━━━━\u001b[0m \u001b[32m62.5/62.5 MB\u001b[0m \u001b[31m12.0 MB/s\u001b[0m eta \u001b[36m0:00:00\u001b[0m\n",
            "\u001b[?25hDownloading supervision-0.25.1-py3-none-any.whl (181 kB)\n",
            "\u001b[2K   \u001b[90m━━━━━━━━━━━━━━━━━━━━━━━━━━━━━━━━━━━━━━━━\u001b[0m \u001b[32m181.5/181.5 kB\u001b[0m \u001b[31m18.2 MB/s\u001b[0m eta \u001b[36m0:00:00\u001b[0m\n",
            "\u001b[?25hDownloading marshmallow-3.26.1-py3-none-any.whl (50 kB)\n",
            "\u001b[2K   \u001b[90m━━━━━━━━━━━━━━━━━━━━━━━━━━━━━━━━━━━━━━━━\u001b[0m \u001b[32m50.9/50.9 kB\u001b[0m \u001b[31m4.5 MB/s\u001b[0m eta \u001b[36m0:00:00\u001b[0m\n",
            "\u001b[?25hDownloading typing_inspect-0.9.0-py3-none-any.whl (8.8 kB)\n",
            "Downloading mypy_extensions-1.1.0-py3-none-any.whl (5.0 kB)\n",
            "Installing collected packages: opencv-python, mypy-extensions, marshmallow, backoff, typing-inspect, aiohttp, supervision, dataclasses-json, inference-sdk\n",
            "  Attempting uninstall: opencv-python\n",
            "    Found existing installation: opencv-python 4.12.0.88\n",
            "    Uninstalling opencv-python-4.12.0.88:\n",
            "      Successfully uninstalled opencv-python-4.12.0.88\n",
            "  Attempting uninstall: aiohttp\n",
            "    Found existing installation: aiohttp 3.12.14\n",
            "    Uninstalling aiohttp-3.12.14:\n",
            "      Successfully uninstalled aiohttp-3.12.14\n",
            "Successfully installed aiohttp-3.10.11 backoff-2.2.1 dataclasses-json-0.6.7 inference-sdk-0.51.7 marshmallow-3.26.1 mypy-extensions-1.1.0 opencv-python-4.10.0.84 supervision-0.25.1 typing-inspect-0.9.0\n"
          ]
        }
      ]
    },
    {
      "cell_type": "code",
      "source": [
        "from roboflow import Roboflow\n",
        "from ultralytics import YOLO\n",
        "import os"
      ],
      "metadata": {
        "colab": {
          "base_uri": "https://localhost:8080/"
        },
        "id": "mCLMZrhZ3jUV",
        "outputId": "a004cb09-23c5-45ee-edee-daba59544d42"
      },
      "execution_count": 4,
      "outputs": [
        {
          "output_type": "stream",
          "name": "stdout",
          "text": [
            "Creating new Ultralytics Settings v0.0.6 file ✅ \n",
            "View Ultralytics Settings with 'yolo settings' or at '/root/.config/Ultralytics/settings.json'\n",
            "Update Settings with 'yolo settings key=value', i.e. 'yolo settings runs_dir=path/to/dir'. For help see https://docs.ultralytics.com/quickstart/#ultralytics-settings.\n"
          ]
        }
      ]
    },
    {
      "cell_type": "code",
      "source": [
        "rf = Roboflow(api_key=\"Rvr0JV7aN1H6VJr9V7vz\")\n",
        "project = rf.workspace(\"arshs-workspace414141\").project(\"dadad-rvg\")\n",
        "dataset = project.version(2).download(\"yolov8\")"
      ],
      "metadata": {
        "colab": {
          "base_uri": "https://localhost:8080/"
        },
        "id": "kKbdRoMKarMO",
        "outputId": "31e20649-a725-4b2c-c9a7-b9d96fe6fb27"
      },
      "execution_count": 5,
      "outputs": [
        {
          "output_type": "stream",
          "name": "stdout",
          "text": [
            "loading Roboflow workspace...\n",
            "loading Roboflow project...\n"
          ]
        },
        {
          "output_type": "stream",
          "name": "stderr",
          "text": [
            "Downloading Dataset Version Zip in dadad-rvg-2 to yolov8:: 100%|██████████| 240012/240012 [00:03<00:00, 66556.06it/s]"
          ]
        },
        {
          "output_type": "stream",
          "name": "stdout",
          "text": [
            "\n"
          ]
        },
        {
          "output_type": "stream",
          "name": "stderr",
          "text": [
            "\n",
            "Extracting Dataset Version Zip to dadad-rvg-2 in yolov8:: 100%|██████████| 12036/12036 [00:01<00:00, 7971.49it/s] \n"
          ]
        }
      ]
    },
    {
      "cell_type": "code",
      "source": [
        "model = YOLO(\"yolov8s.pt\")"
      ],
      "metadata": {
        "colab": {
          "base_uri": "https://localhost:8080/"
        },
        "id": "t4jlyuBrbcIZ",
        "outputId": "1d0f8681-603d-46fd-d5f1-72c967ffd396"
      },
      "execution_count": 6,
      "outputs": [
        {
          "output_type": "stream",
          "name": "stdout",
          "text": [
            "Downloading https://github.com/ultralytics/assets/releases/download/v8.3.0/yolov8s.pt to 'yolov8s.pt'...\n"
          ]
        },
        {
          "output_type": "stream",
          "name": "stderr",
          "text": [
            "100%|██████████| 21.5M/21.5M [00:00<00:00, 229MB/s]\n"
          ]
        }
      ]
    },
    {
      "cell_type": "code",
      "source": [
        "model.train(\n",
        "    data=\"dadad-rvg-2/data.yaml\",\n",
        "    epochs=50,\n",
        "    imgsz=640,\n",
        "    batch=8\n",
        ")"
      ],
      "metadata": {
        "colab": {
          "base_uri": "https://localhost:8080/"
        },
        "id": "aJcXOc-UbjQx",
        "outputId": "2992ebde-073a-401f-fbfb-41c3fdcd3a22"
      },
      "execution_count": 7,
      "outputs": [
        {
          "output_type": "stream",
          "name": "stdout",
          "text": [
            "Ultralytics 8.3.170 🚀 Python-3.11.13 torch-2.6.0+cu124 CUDA:0 (Tesla T4, 15095MiB)\n",
            "\u001b[34m\u001b[1mengine/trainer: \u001b[0magnostic_nms=False, amp=True, augment=False, auto_augment=randaugment, batch=8, bgr=0.0, box=7.5, cache=False, cfg=None, classes=None, close_mosaic=10, cls=0.5, conf=None, copy_paste=0.0, copy_paste_mode=flip, cos_lr=False, cutmix=0.0, data=dadad-rvg-2/data.yaml, degrees=0.0, deterministic=True, device=None, dfl=1.5, dnn=False, dropout=0.0, dynamic=False, embed=None, epochs=50, erasing=0.4, exist_ok=False, fliplr=0.5, flipud=0.0, format=torchscript, fraction=1.0, freeze=None, half=False, hsv_h=0.015, hsv_s=0.7, hsv_v=0.4, imgsz=640, int8=False, iou=0.7, keras=False, kobj=1.0, line_width=None, lr0=0.01, lrf=0.01, mask_ratio=4, max_det=300, mixup=0.0, mode=train, model=yolov8s.pt, momentum=0.937, mosaic=1.0, multi_scale=False, name=train, nbs=64, nms=False, opset=None, optimize=False, optimizer=auto, overlap_mask=True, patience=100, perspective=0.0, plots=True, pose=12.0, pretrained=True, profile=False, project=None, rect=False, resume=False, retina_masks=False, save=True, save_conf=False, save_crop=False, save_dir=runs/detect/train, save_frames=False, save_json=False, save_period=-1, save_txt=False, scale=0.5, seed=0, shear=0.0, show=False, show_boxes=True, show_conf=True, show_labels=True, simplify=True, single_cls=False, source=None, split=val, stream_buffer=False, task=detect, time=None, tracker=botsort.yaml, translate=0.1, val=True, verbose=True, vid_stride=1, visualize=False, warmup_bias_lr=0.1, warmup_epochs=3.0, warmup_momentum=0.8, weight_decay=0.0005, workers=8, workspace=None\n",
            "Downloading https://ultralytics.com/assets/Arial.ttf to '/root/.config/Ultralytics/Arial.ttf'...\n"
          ]
        },
        {
          "output_type": "stream",
          "name": "stderr",
          "text": [
            "100%|██████████| 755k/755k [00:00<00:00, 20.5MB/s]"
          ]
        },
        {
          "output_type": "stream",
          "name": "stdout",
          "text": [
            "Overriding model.yaml nc=80 with nc=1\n",
            "\n",
            "                   from  n    params  module                                       arguments                     \n",
            "  0                  -1  1       928  ultralytics.nn.modules.conv.Conv             [3, 32, 3, 2]                 \n",
            "  1                  -1  1     18560  ultralytics.nn.modules.conv.Conv             [32, 64, 3, 2]                \n",
            "  2                  -1  1     29056  ultralytics.nn.modules.block.C2f             [64, 64, 1, True]             \n",
            "  3                  -1  1     73984  ultralytics.nn.modules.conv.Conv             [64, 128, 3, 2]               \n",
            "  4                  -1  2    197632  ultralytics.nn.modules.block.C2f             [128, 128, 2, True]           \n",
            "  5                  -1  1    295424  ultralytics.nn.modules.conv.Conv             [128, 256, 3, 2]              \n",
            "  6                  -1  2    788480  ultralytics.nn.modules.block.C2f             [256, 256, 2, True]           \n",
            "  7                  -1  1   1180672  ultralytics.nn.modules.conv.Conv             [256, 512, 3, 2]              \n",
            "  8                  -1  1   1838080  ultralytics.nn.modules.block.C2f             [512, 512, 1, True]           \n",
            "  9                  -1  1    656896  ultralytics.nn.modules.block.SPPF            [512, 512, 5]                 \n",
            " 10                  -1  1         0  torch.nn.modules.upsampling.Upsample         [None, 2, 'nearest']          \n",
            " 11             [-1, 6]  1         0  ultralytics.nn.modules.conv.Concat           [1]                           \n",
            " 12                  -1  1    591360  ultralytics.nn.modules.block.C2f             [768, 256, 1]                 \n",
            " 13                  -1  1         0  torch.nn.modules.upsampling.Upsample         [None, 2, 'nearest']          \n",
            " 14             [-1, 4]  1         0  ultralytics.nn.modules.conv.Concat           [1]                           \n",
            " 15                  -1  1    148224  ultralytics.nn.modules.block.C2f             [384, 128, 1]                 \n",
            " 16                  -1  1    147712  ultralytics.nn.modules.conv.Conv             [128, 128, 3, 2]              \n",
            " 17            [-1, 12]  1         0  ultralytics.nn.modules.conv.Concat           [1]                           \n"
          ]
        },
        {
          "output_type": "stream",
          "name": "stderr",
          "text": [
            "\n"
          ]
        },
        {
          "output_type": "stream",
          "name": "stdout",
          "text": [
            " 18                  -1  1    493056  ultralytics.nn.modules.block.C2f             [384, 256, 1]                 \n",
            " 19                  -1  1    590336  ultralytics.nn.modules.conv.Conv             [256, 256, 3, 2]              \n",
            " 20             [-1, 9]  1         0  ultralytics.nn.modules.conv.Concat           [1]                           \n",
            " 21                  -1  1   1969152  ultralytics.nn.modules.block.C2f             [768, 512, 1]                 \n",
            " 22        [15, 18, 21]  1   2116435  ultralytics.nn.modules.head.Detect           [1, [128, 256, 512]]          \n",
            "Model summary: 129 layers, 11,135,987 parameters, 11,135,971 gradients, 28.6 GFLOPs\n",
            "\n",
            "Transferred 349/355 items from pretrained weights\n",
            "Freezing layer 'model.22.dfl.conv.weight'\n",
            "\u001b[34m\u001b[1mAMP: \u001b[0mrunning Automatic Mixed Precision (AMP) checks...\n",
            "Downloading https://github.com/ultralytics/assets/releases/download/v8.3.0/yolo11n.pt to 'yolo11n.pt'...\n"
          ]
        },
        {
          "output_type": "stream",
          "name": "stderr",
          "text": [
            "100%|██████████| 5.35M/5.35M [00:00<00:00, 101MB/s]\n"
          ]
        },
        {
          "output_type": "stream",
          "name": "stdout",
          "text": [
            "\u001b[34m\u001b[1mAMP: \u001b[0mchecks passed ✅\n",
            "\u001b[34m\u001b[1mtrain: \u001b[0mFast image access ✅ (ping: 0.0±0.0 ms, read: 1158.7±563.5 MB/s, size: 36.9 KB)\n"
          ]
        },
        {
          "output_type": "stream",
          "name": "stderr",
          "text": [
            "\u001b[34m\u001b[1mtrain: \u001b[0mScanning /content/dadad-rvg-2/train/labels... 5250 images, 2877 backgrounds, 0 corrupt: 100%|██████████| 5250/5250 [00:01<00:00, 2841.30it/s]"
          ]
        },
        {
          "output_type": "stream",
          "name": "stdout",
          "text": [
            "\u001b[34m\u001b[1mtrain: \u001b[0mNew cache created: /content/dadad-rvg-2/train/labels.cache\n",
            "WARNING ⚠️ Box and segment counts should be equal, but got len(segments) = 3133, len(boxes) = 3139. To resolve this only boxes will be used and all segments will be removed. To avoid this please supply either a detect or segment dataset, not a detect-segment mixed dataset.\n"
          ]
        },
        {
          "output_type": "stream",
          "name": "stderr",
          "text": [
            "\n"
          ]
        },
        {
          "output_type": "stream",
          "name": "stdout",
          "text": [
            "\u001b[34m\u001b[1malbumentations: \u001b[0mBlur(p=0.01, blur_limit=(3, 7)), MedianBlur(p=0.01, blur_limit=(3, 7)), ToGray(p=0.01, method='weighted_average', num_output_channels=3), CLAHE(p=0.01, clip_limit=(1.0, 4.0), tile_grid_size=(8, 8))\n",
            "\u001b[34m\u001b[1mval: \u001b[0mFast image access ✅ (ping: 0.0±0.0 ms, read: 588.0±256.3 MB/s, size: 35.8 KB)\n"
          ]
        },
        {
          "output_type": "stream",
          "name": "stderr",
          "text": [
            "\u001b[34m\u001b[1mval: \u001b[0mScanning /content/dadad-rvg-2/valid/labels... 503 images, 381 backgrounds, 0 corrupt: 100%|██████████| 503/503 [00:00<00:00, 1296.35it/s]\n"
          ]
        },
        {
          "output_type": "stream",
          "name": "stdout",
          "text": [
            "\u001b[34m\u001b[1mval: \u001b[0mNew cache created: /content/dadad-rvg-2/valid/labels.cache\n",
            "Plotting labels to runs/detect/train/labels.jpg... \n",
            "\u001b[34m\u001b[1moptimizer:\u001b[0m 'optimizer=auto' found, ignoring 'lr0=0.01' and 'momentum=0.937' and determining best 'optimizer', 'lr0' and 'momentum' automatically... \n",
            "\u001b[34m\u001b[1moptimizer:\u001b[0m AdamW(lr=0.002, momentum=0.9) with parameter groups 57 weight(decay=0.0), 64 weight(decay=0.0005), 63 bias(decay=0.0)\n",
            "Image sizes 640 train, 640 val\n",
            "Using 2 dataloader workers\n",
            "Logging results to \u001b[1mruns/detect/train\u001b[0m\n",
            "Starting training for 50 epochs...\n",
            "\n",
            "      Epoch    GPU_mem   box_loss   cls_loss   dfl_loss  Instances       Size\n"
          ]
        },
        {
          "output_type": "stream",
          "name": "stderr",
          "text": [
            "       1/50         2G      2.095       3.93      2.056          3        640: 100%|██████████| 657/657 [01:57<00:00,  5.58it/s]\n",
            "                 Class     Images  Instances      Box(P          R      mAP50  mAP50-95): 100%|██████████| 32/32 [00:05<00:00,  6.34it/s]\n"
          ]
        },
        {
          "output_type": "stream",
          "name": "stdout",
          "text": [
            "                   all        503        137    0.00368      0.146      0.003   0.000544\n",
            "\n",
            "      Epoch    GPU_mem   box_loss   cls_loss   dfl_loss  Instances       Size\n"
          ]
        },
        {
          "output_type": "stream",
          "name": "stderr",
          "text": [
            "       2/50      2.42G       2.16      3.562      2.164          1        640: 100%|██████████| 657/657 [01:52<00:00,  5.85it/s]\n",
            "                 Class     Images  Instances      Box(P          R      mAP50  mAP50-95): 100%|██████████| 32/32 [00:03<00:00,  8.03it/s]\n"
          ]
        },
        {
          "output_type": "stream",
          "name": "stdout",
          "text": [
            "                   all        503        137     0.0011      0.584    0.00337   0.000826\n",
            "\n",
            "      Epoch    GPU_mem   box_loss   cls_loss   dfl_loss  Instances       Size\n"
          ]
        },
        {
          "output_type": "stream",
          "name": "stderr",
          "text": [
            "       3/50      2.46G       2.08      3.489      2.112          4        640: 100%|██████████| 657/657 [01:51<00:00,  5.87it/s]\n",
            "                 Class     Images  Instances      Box(P          R      mAP50  mAP50-95): 100%|██████████| 32/32 [00:03<00:00,  8.02it/s]"
          ]
        },
        {
          "output_type": "stream",
          "name": "stdout",
          "text": [
            "                   all        503        137    0.00192      0.599    0.00824    0.00151\n"
          ]
        },
        {
          "output_type": "stream",
          "name": "stderr",
          "text": [
            "\n"
          ]
        },
        {
          "output_type": "stream",
          "name": "stdout",
          "text": [
            "\n",
            "      Epoch    GPU_mem   box_loss   cls_loss   dfl_loss  Instances       Size\n"
          ]
        },
        {
          "output_type": "stream",
          "name": "stderr",
          "text": [
            "       4/50      2.49G      1.999      3.371      2.038          0        640: 100%|██████████| 657/657 [01:52<00:00,  5.87it/s]\n",
            "                 Class     Images  Instances      Box(P          R      mAP50  mAP50-95): 100%|██████████| 32/32 [00:03<00:00,  8.01it/s]"
          ]
        },
        {
          "output_type": "stream",
          "name": "stdout",
          "text": [
            "                   all        503        137     0.0325      0.102      0.018    0.00412\n"
          ]
        },
        {
          "output_type": "stream",
          "name": "stderr",
          "text": [
            "\n"
          ]
        },
        {
          "output_type": "stream",
          "name": "stdout",
          "text": [
            "\n",
            "      Epoch    GPU_mem   box_loss   cls_loss   dfl_loss  Instances       Size\n"
          ]
        },
        {
          "output_type": "stream",
          "name": "stderr",
          "text": [
            "       5/50      2.51G      1.924      3.232      1.974          3        640: 100%|██████████| 657/657 [01:51<00:00,  5.91it/s]\n",
            "                 Class     Images  Instances      Box(P          R      mAP50  mAP50-95): 100%|██████████| 32/32 [00:03<00:00,  8.02it/s]\n"
          ]
        },
        {
          "output_type": "stream",
          "name": "stdout",
          "text": [
            "                   all        503        137     0.0238      0.263     0.0159    0.00357\n",
            "\n",
            "      Epoch    GPU_mem   box_loss   cls_loss   dfl_loss  Instances       Size\n"
          ]
        },
        {
          "output_type": "stream",
          "name": "stderr",
          "text": [
            "       6/50      2.56G      1.837      3.175      1.901          3        640: 100%|██████████| 657/657 [01:51<00:00,  5.88it/s]\n",
            "                 Class     Images  Instances      Box(P          R      mAP50  mAP50-95): 100%|██████████| 32/32 [00:03<00:00,  8.01it/s]\n"
          ]
        },
        {
          "output_type": "stream",
          "name": "stdout",
          "text": [
            "                   all        503        137     0.0154      0.219     0.0115    0.00302\n",
            "\n",
            "      Epoch    GPU_mem   box_loss   cls_loss   dfl_loss  Instances       Size\n"
          ]
        },
        {
          "output_type": "stream",
          "name": "stderr",
          "text": [
            "       7/50       2.6G        1.8      3.094      1.861          3        640: 100%|██████████| 657/657 [01:51<00:00,  5.91it/s]\n",
            "                 Class     Images  Instances      Box(P          R      mAP50  mAP50-95): 100%|██████████| 32/32 [00:03<00:00,  8.01it/s]"
          ]
        },
        {
          "output_type": "stream",
          "name": "stdout",
          "text": [
            "                   all        503        137     0.0693      0.175     0.0404     0.0114\n"
          ]
        },
        {
          "output_type": "stream",
          "name": "stderr",
          "text": [
            "\n"
          ]
        },
        {
          "output_type": "stream",
          "name": "stdout",
          "text": [
            "\n",
            "      Epoch    GPU_mem   box_loss   cls_loss   dfl_loss  Instances       Size\n"
          ]
        },
        {
          "output_type": "stream",
          "name": "stderr",
          "text": [
            "       8/50      2.64G      1.776      3.087       1.87          1        640: 100%|██████████| 657/657 [01:50<00:00,  5.93it/s]\n",
            "                 Class     Images  Instances      Box(P          R      mAP50  mAP50-95): 100%|██████████| 32/32 [00:03<00:00,  8.13it/s]\n"
          ]
        },
        {
          "output_type": "stream",
          "name": "stdout",
          "text": [
            "                   all        503        137      0.109      0.241     0.0494     0.0143\n",
            "\n",
            "      Epoch    GPU_mem   box_loss   cls_loss   dfl_loss  Instances       Size\n"
          ]
        },
        {
          "output_type": "stream",
          "name": "stderr",
          "text": [
            "       9/50      2.67G      1.735      2.946      1.809          1        640: 100%|██████████| 657/657 [01:51<00:00,  5.89it/s]\n",
            "                 Class     Images  Instances      Box(P          R      mAP50  mAP50-95): 100%|██████████| 32/32 [00:04<00:00,  8.00it/s]\n"
          ]
        },
        {
          "output_type": "stream",
          "name": "stdout",
          "text": [
            "                   all        503        137      0.105      0.124     0.0416     0.0135\n",
            "\n",
            "      Epoch    GPU_mem   box_loss   cls_loss   dfl_loss  Instances       Size\n"
          ]
        },
        {
          "output_type": "stream",
          "name": "stderr",
          "text": [
            "      10/50      2.71G      1.706      2.953      1.798          1        640: 100%|██████████| 657/657 [01:51<00:00,  5.88it/s]\n",
            "                 Class     Images  Instances      Box(P          R      mAP50  mAP50-95): 100%|██████████| 32/32 [00:04<00:00,  7.99it/s]"
          ]
        },
        {
          "output_type": "stream",
          "name": "stdout",
          "text": [
            "                   all        503        137     0.0869     0.0855     0.0542     0.0134\n"
          ]
        },
        {
          "output_type": "stream",
          "name": "stderr",
          "text": [
            "\n"
          ]
        },
        {
          "output_type": "stream",
          "name": "stdout",
          "text": [
            "\n",
            "      Epoch    GPU_mem   box_loss   cls_loss   dfl_loss  Instances       Size\n"
          ]
        },
        {
          "output_type": "stream",
          "name": "stderr",
          "text": [
            "      11/50      2.75G      1.658      2.895      1.764          2        640: 100%|██████████| 657/657 [01:51<00:00,  5.90it/s]\n",
            "                 Class     Images  Instances      Box(P          R      mAP50  mAP50-95): 100%|██████████| 32/32 [00:03<00:00,  8.05it/s]\n"
          ]
        },
        {
          "output_type": "stream",
          "name": "stdout",
          "text": [
            "                   all        503        137      0.105      0.168     0.0557     0.0187\n",
            "\n",
            "      Epoch    GPU_mem   box_loss   cls_loss   dfl_loss  Instances       Size\n"
          ]
        },
        {
          "output_type": "stream",
          "name": "stderr",
          "text": [
            "      12/50      2.78G      1.676      2.912      1.766          2        640: 100%|██████████| 657/657 [01:52<00:00,  5.83it/s]\n",
            "                 Class     Images  Instances      Box(P          R      mAP50  mAP50-95): 100%|██████████| 32/32 [00:04<00:00,  7.85it/s]"
          ]
        },
        {
          "output_type": "stream",
          "name": "stdout",
          "text": [
            "                   all        503        137      0.132      0.197     0.0761     0.0256\n"
          ]
        },
        {
          "output_type": "stream",
          "name": "stderr",
          "text": [
            "\n"
          ]
        },
        {
          "output_type": "stream",
          "name": "stdout",
          "text": [
            "\n",
            "      Epoch    GPU_mem   box_loss   cls_loss   dfl_loss  Instances       Size\n"
          ]
        },
        {
          "output_type": "stream",
          "name": "stderr",
          "text": [
            "      13/50       2.8G      1.639      2.829      1.741          1        640: 100%|██████████| 657/657 [01:54<00:00,  5.76it/s]\n",
            "                 Class     Images  Instances      Box(P          R      mAP50  mAP50-95): 100%|██████████| 32/32 [00:04<00:00,  7.98it/s]"
          ]
        },
        {
          "output_type": "stream",
          "name": "stdout",
          "text": [
            "                   all        503        137      0.131      0.263     0.0908     0.0316\n"
          ]
        },
        {
          "output_type": "stream",
          "name": "stderr",
          "text": [
            "\n"
          ]
        },
        {
          "output_type": "stream",
          "name": "stdout",
          "text": [
            "\n",
            "      Epoch    GPU_mem   box_loss   cls_loss   dfl_loss  Instances       Size\n"
          ]
        },
        {
          "output_type": "stream",
          "name": "stderr",
          "text": [
            "      14/50      2.86G      1.616       2.76      1.717          1        640: 100%|██████████| 657/657 [01:51<00:00,  5.90it/s]\n",
            "                 Class     Images  Instances      Box(P          R      mAP50  mAP50-95): 100%|██████████| 32/32 [00:04<00:00,  7.97it/s]"
          ]
        },
        {
          "output_type": "stream",
          "name": "stdout",
          "text": [
            "                   all        503        137      0.106      0.131     0.0687     0.0191\n"
          ]
        },
        {
          "output_type": "stream",
          "name": "stderr",
          "text": [
            "\n"
          ]
        },
        {
          "output_type": "stream",
          "name": "stdout",
          "text": [
            "\n",
            "      Epoch    GPU_mem   box_loss   cls_loss   dfl_loss  Instances       Size\n"
          ]
        },
        {
          "output_type": "stream",
          "name": "stderr",
          "text": [
            "      15/50      2.89G       1.59      2.742      1.704          1        640: 100%|██████████| 657/657 [01:51<00:00,  5.90it/s]\n",
            "                 Class     Images  Instances      Box(P          R      mAP50  mAP50-95): 100%|██████████| 32/32 [00:03<00:00,  8.08it/s]\n"
          ]
        },
        {
          "output_type": "stream",
          "name": "stdout",
          "text": [
            "                   all        503        137       0.12      0.212     0.0943     0.0326\n",
            "\n",
            "      Epoch    GPU_mem   box_loss   cls_loss   dfl_loss  Instances       Size\n"
          ]
        },
        {
          "output_type": "stream",
          "name": "stderr",
          "text": [
            "      16/50      2.93G      1.586       2.72      1.708          4        640: 100%|██████████| 657/657 [01:51<00:00,  5.90it/s]\n",
            "                 Class     Images  Instances      Box(P          R      mAP50  mAP50-95): 100%|██████████| 32/32 [00:03<00:00,  8.10it/s]"
          ]
        },
        {
          "output_type": "stream",
          "name": "stdout",
          "text": [
            "                   all        503        137      0.102      0.109     0.0514      0.018\n"
          ]
        },
        {
          "output_type": "stream",
          "name": "stderr",
          "text": [
            "\n"
          ]
        },
        {
          "output_type": "stream",
          "name": "stdout",
          "text": [
            "\n",
            "      Epoch    GPU_mem   box_loss   cls_loss   dfl_loss  Instances       Size\n"
          ]
        },
        {
          "output_type": "stream",
          "name": "stderr",
          "text": [
            "      17/50      3.13G      1.587      2.693      1.687          4        640: 100%|██████████| 657/657 [01:51<00:00,  5.89it/s]\n",
            "                 Class     Images  Instances      Box(P          R      mAP50  mAP50-95): 100%|██████████| 32/32 [00:04<00:00,  7.91it/s]\n"
          ]
        },
        {
          "output_type": "stream",
          "name": "stdout",
          "text": [
            "                   all        503        137      0.096       0.19      0.079     0.0275\n",
            "\n",
            "      Epoch    GPU_mem   box_loss   cls_loss   dfl_loss  Instances       Size\n"
          ]
        },
        {
          "output_type": "stream",
          "name": "stderr",
          "text": [
            "      18/50      3.16G      1.574      2.654      1.685          2        640: 100%|██████████| 657/657 [01:52<00:00,  5.84it/s]\n",
            "                 Class     Images  Instances      Box(P          R      mAP50  mAP50-95): 100%|██████████| 32/32 [00:04<00:00,  7.84it/s]\n"
          ]
        },
        {
          "output_type": "stream",
          "name": "stdout",
          "text": [
            "                   all        503        137      0.165      0.175     0.0979      0.035\n",
            "\n",
            "      Epoch    GPU_mem   box_loss   cls_loss   dfl_loss  Instances       Size\n"
          ]
        },
        {
          "output_type": "stream",
          "name": "stderr",
          "text": [
            "      19/50       3.2G      1.562      2.616      1.672          3        640: 100%|██████████| 657/657 [01:52<00:00,  5.82it/s]\n",
            "                 Class     Images  Instances      Box(P          R      mAP50  mAP50-95): 100%|██████████| 32/32 [00:04<00:00,  7.54it/s]"
          ]
        },
        {
          "output_type": "stream",
          "name": "stdout",
          "text": [
            "                   all        503        137      0.168      0.226      0.104     0.0367\n"
          ]
        },
        {
          "output_type": "stream",
          "name": "stderr",
          "text": [
            "\n"
          ]
        },
        {
          "output_type": "stream",
          "name": "stdout",
          "text": [
            "\n",
            "      Epoch    GPU_mem   box_loss   cls_loss   dfl_loss  Instances       Size\n"
          ]
        },
        {
          "output_type": "stream",
          "name": "stderr",
          "text": [
            "      20/50      3.23G      1.555      2.646      1.653          1        640: 100%|██████████| 657/657 [01:53<00:00,  5.80it/s]\n",
            "                 Class     Images  Instances      Box(P          R      mAP50  mAP50-95): 100%|██████████| 32/32 [00:04<00:00,  6.71it/s]"
          ]
        },
        {
          "output_type": "stream",
          "name": "stdout",
          "text": [
            "                   all        503        137      0.182      0.182      0.126     0.0417\n"
          ]
        },
        {
          "output_type": "stream",
          "name": "stderr",
          "text": [
            "\n"
          ]
        },
        {
          "output_type": "stream",
          "name": "stdout",
          "text": [
            "\n",
            "      Epoch    GPU_mem   box_loss   cls_loss   dfl_loss  Instances       Size\n"
          ]
        },
        {
          "output_type": "stream",
          "name": "stderr",
          "text": [
            "      21/50      3.26G      1.538      2.627      1.661          0        640: 100%|██████████| 657/657 [01:52<00:00,  5.82it/s]\n",
            "                 Class     Images  Instances      Box(P          R      mAP50  mAP50-95): 100%|██████████| 32/32 [00:04<00:00,  6.66it/s]"
          ]
        },
        {
          "output_type": "stream",
          "name": "stdout",
          "text": [
            "                   all        503        137      0.163      0.255      0.139     0.0439\n"
          ]
        },
        {
          "output_type": "stream",
          "name": "stderr",
          "text": [
            "\n"
          ]
        },
        {
          "output_type": "stream",
          "name": "stdout",
          "text": [
            "\n",
            "      Epoch    GPU_mem   box_loss   cls_loss   dfl_loss  Instances       Size\n"
          ]
        },
        {
          "output_type": "stream",
          "name": "stderr",
          "text": [
            "      22/50      3.31G      1.523       2.59      1.642          1        640: 100%|██████████| 657/657 [01:50<00:00,  5.93it/s]\n",
            "                 Class     Images  Instances      Box(P          R      mAP50  mAP50-95): 100%|██████████| 32/32 [00:04<00:00,  6.75it/s]"
          ]
        },
        {
          "output_type": "stream",
          "name": "stdout",
          "text": [
            "                   all        503        137      0.149      0.315      0.137     0.0531\n"
          ]
        },
        {
          "output_type": "stream",
          "name": "stderr",
          "text": [
            "\n"
          ]
        },
        {
          "output_type": "stream",
          "name": "stdout",
          "text": [
            "\n",
            "      Epoch    GPU_mem   box_loss   cls_loss   dfl_loss  Instances       Size\n"
          ]
        },
        {
          "output_type": "stream",
          "name": "stderr",
          "text": [
            "      23/50      3.51G      1.512      2.573      1.637          3        640: 100%|██████████| 657/657 [01:54<00:00,  5.76it/s]\n",
            "                 Class     Images  Instances      Box(P          R      mAP50  mAP50-95): 100%|██████████| 32/32 [00:04<00:00,  7.75it/s]"
          ]
        },
        {
          "output_type": "stream",
          "name": "stdout",
          "text": [
            "                   all        503        137      0.153      0.219      0.128      0.052\n"
          ]
        },
        {
          "output_type": "stream",
          "name": "stderr",
          "text": [
            "\n"
          ]
        },
        {
          "output_type": "stream",
          "name": "stdout",
          "text": [
            "\n",
            "      Epoch    GPU_mem   box_loss   cls_loss   dfl_loss  Instances       Size\n"
          ]
        },
        {
          "output_type": "stream",
          "name": "stderr",
          "text": [
            "      24/50      3.54G      1.481      2.524      1.611          3        640: 100%|██████████| 657/657 [01:51<00:00,  5.91it/s]\n",
            "                 Class     Images  Instances      Box(P          R      mAP50  mAP50-95): 100%|██████████| 32/32 [00:03<00:00,  8.06it/s]"
          ]
        },
        {
          "output_type": "stream",
          "name": "stdout",
          "text": [
            "                   all        503        137      0.175      0.255      0.125     0.0531\n"
          ]
        },
        {
          "output_type": "stream",
          "name": "stderr",
          "text": [
            "\n"
          ]
        },
        {
          "output_type": "stream",
          "name": "stdout",
          "text": [
            "\n",
            "      Epoch    GPU_mem   box_loss   cls_loss   dfl_loss  Instances       Size\n"
          ]
        },
        {
          "output_type": "stream",
          "name": "stderr",
          "text": [
            "      25/50      3.58G      1.479      2.511      1.612          5        640: 100%|██████████| 657/657 [01:51<00:00,  5.91it/s]\n",
            "                 Class     Images  Instances      Box(P          R      mAP50  mAP50-95): 100%|██████████| 32/32 [00:04<00:00,  8.00it/s]\n"
          ]
        },
        {
          "output_type": "stream",
          "name": "stdout",
          "text": [
            "                   all        503        137      0.166      0.219      0.139     0.0516\n",
            "\n",
            "      Epoch    GPU_mem   box_loss   cls_loss   dfl_loss  Instances       Size\n"
          ]
        },
        {
          "output_type": "stream",
          "name": "stderr",
          "text": [
            "      26/50      3.62G      1.453      2.478      1.595          3        640: 100%|██████████| 657/657 [01:50<00:00,  5.94it/s]\n",
            "                 Class     Images  Instances      Box(P          R      mAP50  mAP50-95): 100%|██████████| 32/32 [00:04<00:00,  7.41it/s]\n"
          ]
        },
        {
          "output_type": "stream",
          "name": "stdout",
          "text": [
            "                   all        503        137      0.148      0.241      0.124     0.0503\n",
            "\n",
            "      Epoch    GPU_mem   box_loss   cls_loss   dfl_loss  Instances       Size\n"
          ]
        },
        {
          "output_type": "stream",
          "name": "stderr",
          "text": [
            "      27/50      3.65G      1.472      2.482      1.605          0        640: 100%|██████████| 657/657 [01:50<00:00,  5.93it/s]\n",
            "                 Class     Images  Instances      Box(P          R      mAP50  mAP50-95): 100%|██████████| 32/32 [00:04<00:00,  7.16it/s]"
          ]
        },
        {
          "output_type": "stream",
          "name": "stdout",
          "text": [
            "                   all        503        137      0.197      0.299      0.152     0.0629\n"
          ]
        },
        {
          "output_type": "stream",
          "name": "stderr",
          "text": [
            "\n"
          ]
        },
        {
          "output_type": "stream",
          "name": "stdout",
          "text": [
            "\n",
            "      Epoch    GPU_mem   box_loss   cls_loss   dfl_loss  Instances       Size\n"
          ]
        },
        {
          "output_type": "stream",
          "name": "stderr",
          "text": [
            "      28/50      3.69G      1.444      2.429      1.584          6        640: 100%|██████████| 657/657 [01:49<00:00,  5.98it/s]\n",
            "                 Class     Images  Instances      Box(P          R      mAP50  mAP50-95): 100%|██████████| 32/32 [00:04<00:00,  6.81it/s]\n"
          ]
        },
        {
          "output_type": "stream",
          "name": "stdout",
          "text": [
            "                   all        503        137       0.15      0.248      0.137     0.0557\n",
            "\n",
            "      Epoch    GPU_mem   box_loss   cls_loss   dfl_loss  Instances       Size\n"
          ]
        },
        {
          "output_type": "stream",
          "name": "stderr",
          "text": [
            "      29/50      3.71G      1.437      2.393      1.562          0        640: 100%|██████████| 657/657 [01:50<00:00,  5.97it/s]\n",
            "                 Class     Images  Instances      Box(P          R      mAP50  mAP50-95): 100%|██████████| 32/32 [00:04<00:00,  6.79it/s]\n"
          ]
        },
        {
          "output_type": "stream",
          "name": "stdout",
          "text": [
            "                   all        503        137      0.187      0.197      0.131     0.0599\n",
            "\n",
            "      Epoch    GPU_mem   box_loss   cls_loss   dfl_loss  Instances       Size\n"
          ]
        },
        {
          "output_type": "stream",
          "name": "stderr",
          "text": [
            "      30/50      3.76G      1.412      2.408      1.555          1        640: 100%|██████████| 657/657 [01:49<00:00,  6.00it/s]\n",
            "                 Class     Images  Instances      Box(P          R      mAP50  mAP50-95): 100%|██████████| 32/32 [00:04<00:00,  7.07it/s]"
          ]
        },
        {
          "output_type": "stream",
          "name": "stdout",
          "text": [
            "                   all        503        137      0.219      0.314       0.19      0.082\n"
          ]
        },
        {
          "output_type": "stream",
          "name": "stderr",
          "text": [
            "\n"
          ]
        },
        {
          "output_type": "stream",
          "name": "stdout",
          "text": [
            "\n",
            "      Epoch    GPU_mem   box_loss   cls_loss   dfl_loss  Instances       Size\n"
          ]
        },
        {
          "output_type": "stream",
          "name": "stderr",
          "text": [
            "      31/50      3.81G      1.401       2.32      1.548          4        640: 100%|██████████| 657/657 [01:49<00:00,  6.00it/s]\n",
            "                 Class     Images  Instances      Box(P          R      mAP50  mAP50-95): 100%|██████████| 32/32 [00:04<00:00,  7.99it/s]"
          ]
        },
        {
          "output_type": "stream",
          "name": "stdout",
          "text": [
            "                   all        503        137      0.218      0.321      0.168     0.0688\n"
          ]
        },
        {
          "output_type": "stream",
          "name": "stderr",
          "text": [
            "\n"
          ]
        },
        {
          "output_type": "stream",
          "name": "stdout",
          "text": [
            "\n",
            "      Epoch    GPU_mem   box_loss   cls_loss   dfl_loss  Instances       Size\n"
          ]
        },
        {
          "output_type": "stream",
          "name": "stderr",
          "text": [
            "      32/50      3.88G      1.414      2.316      1.558          2        640: 100%|██████████| 657/657 [01:50<00:00,  5.94it/s]\n",
            "                 Class     Images  Instances      Box(P          R      mAP50  mAP50-95): 100%|██████████| 32/32 [00:03<00:00,  8.06it/s]"
          ]
        },
        {
          "output_type": "stream",
          "name": "stdout",
          "text": [
            "                   all        503        137      0.183      0.243      0.153      0.071\n"
          ]
        },
        {
          "output_type": "stream",
          "name": "stderr",
          "text": [
            "\n"
          ]
        },
        {
          "output_type": "stream",
          "name": "stdout",
          "text": [
            "\n",
            "      Epoch    GPU_mem   box_loss   cls_loss   dfl_loss  Instances       Size\n"
          ]
        },
        {
          "output_type": "stream",
          "name": "stderr",
          "text": [
            "      33/50      4.19G      1.374      2.263      1.532          0        640: 100%|██████████| 657/657 [01:50<00:00,  5.94it/s]\n",
            "                 Class     Images  Instances      Box(P          R      mAP50  mAP50-95): 100%|██████████| 32/32 [00:03<00:00,  8.01it/s]"
          ]
        },
        {
          "output_type": "stream",
          "name": "stdout",
          "text": [
            "                   all        503        137      0.253      0.307      0.202     0.0932\n"
          ]
        },
        {
          "output_type": "stream",
          "name": "stderr",
          "text": [
            "\n"
          ]
        },
        {
          "output_type": "stream",
          "name": "stdout",
          "text": [
            "\n",
            "      Epoch    GPU_mem   box_loss   cls_loss   dfl_loss  Instances       Size\n"
          ]
        },
        {
          "output_type": "stream",
          "name": "stderr",
          "text": [
            "      34/50      4.23G      1.385      2.312      1.537          0        640: 100%|██████████| 657/657 [01:50<00:00,  5.94it/s]\n",
            "                 Class     Images  Instances      Box(P          R      mAP50  mAP50-95): 100%|██████████| 32/32 [00:03<00:00,  8.00it/s]"
          ]
        },
        {
          "output_type": "stream",
          "name": "stdout",
          "text": [
            "                   all        503        137      0.247      0.197      0.173     0.0835\n"
          ]
        },
        {
          "output_type": "stream",
          "name": "stderr",
          "text": [
            "\n"
          ]
        },
        {
          "output_type": "stream",
          "name": "stdout",
          "text": [
            "\n",
            "      Epoch    GPU_mem   box_loss   cls_loss   dfl_loss  Instances       Size\n"
          ]
        },
        {
          "output_type": "stream",
          "name": "stderr",
          "text": [
            "      35/50      4.27G      1.376      2.253      1.532          3        640: 100%|██████████| 657/657 [01:50<00:00,  5.93it/s]\n",
            "                 Class     Images  Instances      Box(P          R      mAP50  mAP50-95): 100%|██████████| 32/32 [00:03<00:00,  8.13it/s]\n"
          ]
        },
        {
          "output_type": "stream",
          "name": "stdout",
          "text": [
            "                   all        503        137      0.278      0.255      0.184     0.0755\n",
            "\n",
            "      Epoch    GPU_mem   box_loss   cls_loss   dfl_loss  Instances       Size\n"
          ]
        },
        {
          "output_type": "stream",
          "name": "stderr",
          "text": [
            "      36/50       4.3G      1.332      2.241      1.508          3        640: 100%|██████████| 657/657 [01:50<00:00,  5.96it/s]\n",
            "                 Class     Images  Instances      Box(P          R      mAP50  mAP50-95): 100%|██████████| 32/32 [00:03<00:00,  8.18it/s]\n"
          ]
        },
        {
          "output_type": "stream",
          "name": "stdout",
          "text": [
            "                   all        503        137      0.251       0.35      0.241      0.109\n",
            "\n",
            "      Epoch    GPU_mem   box_loss   cls_loss   dfl_loss  Instances       Size\n"
          ]
        },
        {
          "output_type": "stream",
          "name": "stderr",
          "text": [
            "      37/50      4.32G      1.357      2.217      1.517          3        640: 100%|██████████| 657/657 [01:50<00:00,  5.93it/s]\n",
            "                 Class     Images  Instances      Box(P          R      mAP50  mAP50-95): 100%|██████████| 32/32 [00:03<00:00,  8.11it/s]"
          ]
        },
        {
          "output_type": "stream",
          "name": "stdout",
          "text": [
            "                   all        503        137      0.272      0.336      0.238      0.108\n"
          ]
        },
        {
          "output_type": "stream",
          "name": "stderr",
          "text": [
            "\n"
          ]
        },
        {
          "output_type": "stream",
          "name": "stdout",
          "text": [
            "\n",
            "      Epoch    GPU_mem   box_loss   cls_loss   dfl_loss  Instances       Size\n"
          ]
        },
        {
          "output_type": "stream",
          "name": "stderr",
          "text": [
            "      38/50      4.38G      1.325      2.186      1.489          0        640: 100%|██████████| 657/657 [01:50<00:00,  5.93it/s]\n",
            "                 Class     Images  Instances      Box(P          R      mAP50  mAP50-95): 100%|██████████| 32/32 [00:04<00:00,  7.85it/s]"
          ]
        },
        {
          "output_type": "stream",
          "name": "stdout",
          "text": [
            "                   all        503        137      0.212      0.387      0.227      0.102\n"
          ]
        },
        {
          "output_type": "stream",
          "name": "stderr",
          "text": [
            "\n"
          ]
        },
        {
          "output_type": "stream",
          "name": "stdout",
          "text": [
            "\n",
            "      Epoch    GPU_mem   box_loss   cls_loss   dfl_loss  Instances       Size\n"
          ]
        },
        {
          "output_type": "stream",
          "name": "stderr",
          "text": [
            "      39/50      4.41G       1.33      2.145      1.505          4        640: 100%|██████████| 657/657 [01:50<00:00,  5.93it/s]\n",
            "                 Class     Images  Instances      Box(P          R      mAP50  mAP50-95): 100%|██████████| 32/32 [00:04<00:00,  7.44it/s]"
          ]
        },
        {
          "output_type": "stream",
          "name": "stdout",
          "text": [
            "                   all        503        137      0.262      0.312      0.241      0.114\n"
          ]
        },
        {
          "output_type": "stream",
          "name": "stderr",
          "text": [
            "\n"
          ]
        },
        {
          "output_type": "stream",
          "name": "stdout",
          "text": [
            "\n",
            "      Epoch    GPU_mem   box_loss   cls_loss   dfl_loss  Instances       Size\n"
          ]
        },
        {
          "output_type": "stream",
          "name": "stderr",
          "text": [
            "      40/50      4.45G      1.314      2.129      1.489          4        640: 100%|██████████| 657/657 [01:51<00:00,  5.88it/s]\n",
            "                 Class     Images  Instances      Box(P          R      mAP50  mAP50-95): 100%|██████████| 32/32 [00:04<00:00,  7.46it/s]\n"
          ]
        },
        {
          "output_type": "stream",
          "name": "stdout",
          "text": [
            "                   all        503        137      0.284      0.387      0.265      0.124\n",
            "Closing dataloader mosaic\n",
            "\u001b[34m\u001b[1malbumentations: \u001b[0mBlur(p=0.01, blur_limit=(3, 7)), MedianBlur(p=0.01, blur_limit=(3, 7)), ToGray(p=0.01, method='weighted_average', num_output_channels=3), CLAHE(p=0.01, clip_limit=(1.0, 4.0), tile_grid_size=(8, 8))\n",
            "\n",
            "      Epoch    GPU_mem   box_loss   cls_loss   dfl_loss  Instances       Size\n"
          ]
        },
        {
          "output_type": "stream",
          "name": "stderr",
          "text": [
            "      41/50      4.65G       1.35      2.078      1.524          1        640: 100%|██████████| 657/657 [01:48<00:00,  6.08it/s]\n",
            "                 Class     Images  Instances      Box(P          R      mAP50  mAP50-95): 100%|██████████| 32/32 [00:04<00:00,  6.86it/s]"
          ]
        },
        {
          "output_type": "stream",
          "name": "stdout",
          "text": [
            "                   all        503        137      0.327      0.316      0.247      0.113\n"
          ]
        },
        {
          "output_type": "stream",
          "name": "stderr",
          "text": [
            "\n"
          ]
        },
        {
          "output_type": "stream",
          "name": "stdout",
          "text": [
            "\n",
            "      Epoch    GPU_mem   box_loss   cls_loss   dfl_loss  Instances       Size\n"
          ]
        },
        {
          "output_type": "stream",
          "name": "stderr",
          "text": [
            "      42/50      4.68G      1.355      2.012      1.531          1        640: 100%|██████████| 657/657 [01:47<00:00,  6.14it/s]\n",
            "                 Class     Images  Instances      Box(P          R      mAP50  mAP50-95): 100%|██████████| 32/32 [00:03<00:00,  8.21it/s]\n"
          ]
        },
        {
          "output_type": "stream",
          "name": "stdout",
          "text": [
            "                   all        503        137      0.347      0.343      0.275      0.125\n",
            "\n",
            "      Epoch    GPU_mem   box_loss   cls_loss   dfl_loss  Instances       Size\n"
          ]
        },
        {
          "output_type": "stream",
          "name": "stderr",
          "text": [
            "      43/50      4.72G      1.313      2.022      1.491          1        640: 100%|██████████| 657/657 [01:47<00:00,  6.10it/s]\n",
            "                 Class     Images  Instances      Box(P          R      mAP50  mAP50-95): 100%|██████████| 32/32 [00:03<00:00,  8.15it/s]\n"
          ]
        },
        {
          "output_type": "stream",
          "name": "stdout",
          "text": [
            "                   all        503        137      0.291      0.343      0.243      0.118\n",
            "\n",
            "      Epoch    GPU_mem   box_loss   cls_loss   dfl_loss  Instances       Size\n"
          ]
        },
        {
          "output_type": "stream",
          "name": "stderr",
          "text": [
            "      44/50      4.76G      1.295      1.955      1.496          1        640: 100%|██████████| 657/657 [01:48<00:00,  6.06it/s]\n",
            "                 Class     Images  Instances      Box(P          R      mAP50  mAP50-95): 100%|██████████| 32/32 [00:04<00:00,  7.06it/s]\n"
          ]
        },
        {
          "output_type": "stream",
          "name": "stdout",
          "text": [
            "                   all        503        137      0.291      0.409      0.266      0.126\n",
            "\n",
            "      Epoch    GPU_mem   box_loss   cls_loss   dfl_loss  Instances       Size\n"
          ]
        },
        {
          "output_type": "stream",
          "name": "stderr",
          "text": [
            "      45/50      4.78G      1.282      1.941       1.47          2        640: 100%|██████████| 657/657 [01:48<00:00,  6.03it/s]\n",
            "                 Class     Images  Instances      Box(P          R      mAP50  mAP50-95): 100%|██████████| 32/32 [00:04<00:00,  6.84it/s]"
          ]
        },
        {
          "output_type": "stream",
          "name": "stdout",
          "text": [
            "                   all        503        137      0.313       0.38       0.28      0.139\n"
          ]
        },
        {
          "output_type": "stream",
          "name": "stderr",
          "text": [
            "\n"
          ]
        },
        {
          "output_type": "stream",
          "name": "stdout",
          "text": [
            "\n",
            "      Epoch    GPU_mem   box_loss   cls_loss   dfl_loss  Instances       Size\n"
          ]
        },
        {
          "output_type": "stream",
          "name": "stderr",
          "text": [
            "      46/50      4.83G      1.264      1.885      1.466          2        640: 100%|██████████| 657/657 [01:48<00:00,  6.07it/s]\n",
            "                 Class     Images  Instances      Box(P          R      mAP50  mAP50-95): 100%|██████████| 32/32 [00:03<00:00,  8.03it/s]"
          ]
        },
        {
          "output_type": "stream",
          "name": "stdout",
          "text": [
            "                   all        503        137      0.358      0.372      0.305      0.141\n"
          ]
        },
        {
          "output_type": "stream",
          "name": "stderr",
          "text": [
            "\n"
          ]
        },
        {
          "output_type": "stream",
          "name": "stdout",
          "text": [
            "\n",
            "      Epoch    GPU_mem   box_loss   cls_loss   dfl_loss  Instances       Size\n"
          ]
        },
        {
          "output_type": "stream",
          "name": "stderr",
          "text": [
            "      47/50      4.86G      1.244      1.868      1.447          0        640: 100%|██████████| 657/657 [01:49<00:00,  6.02it/s]\n",
            "                 Class     Images  Instances      Box(P          R      mAP50  mAP50-95): 100%|██████████| 32/32 [00:03<00:00,  8.03it/s]"
          ]
        },
        {
          "output_type": "stream",
          "name": "stdout",
          "text": [
            "                   all        503        137      0.375      0.365      0.309       0.15\n"
          ]
        },
        {
          "output_type": "stream",
          "name": "stderr",
          "text": [
            "\n"
          ]
        },
        {
          "output_type": "stream",
          "name": "stdout",
          "text": [
            "\n",
            "      Epoch    GPU_mem   box_loss   cls_loss   dfl_loss  Instances       Size\n"
          ]
        },
        {
          "output_type": "stream",
          "name": "stderr",
          "text": [
            "      48/50      5.06G      1.219       1.79      1.427          2        640: 100%|██████████| 657/657 [01:48<00:00,  6.07it/s]\n",
            "                 Class     Images  Instances      Box(P          R      mAP50  mAP50-95): 100%|██████████| 32/32 [00:04<00:00,  7.61it/s]"
          ]
        },
        {
          "output_type": "stream",
          "name": "stdout",
          "text": [
            "                   all        503        137      0.339      0.409        0.3      0.148\n"
          ]
        },
        {
          "output_type": "stream",
          "name": "stderr",
          "text": [
            "\n"
          ]
        },
        {
          "output_type": "stream",
          "name": "stdout",
          "text": [
            "\n",
            "      Epoch    GPU_mem   box_loss   cls_loss   dfl_loss  Instances       Size\n"
          ]
        },
        {
          "output_type": "stream",
          "name": "stderr",
          "text": [
            "      49/50      5.26G      1.212        1.8       1.42          1        640: 100%|██████████| 657/657 [01:47<00:00,  6.09it/s]\n",
            "                 Class     Images  Instances      Box(P          R      mAP50  mAP50-95): 100%|██████████| 32/32 [00:04<00:00,  6.90it/s]"
          ]
        },
        {
          "output_type": "stream",
          "name": "stdout",
          "text": [
            "                   all        503        137      0.393      0.378      0.314      0.156\n"
          ]
        },
        {
          "output_type": "stream",
          "name": "stderr",
          "text": [
            "\n"
          ]
        },
        {
          "output_type": "stream",
          "name": "stdout",
          "text": [
            "\n",
            "      Epoch    GPU_mem   box_loss   cls_loss   dfl_loss  Instances       Size\n"
          ]
        },
        {
          "output_type": "stream",
          "name": "stderr",
          "text": [
            "      50/50       5.3G      1.188       1.79      1.416          0        640: 100%|██████████| 657/657 [01:47<00:00,  6.09it/s]\n",
            "                 Class     Images  Instances      Box(P          R      mAP50  mAP50-95): 100%|██████████| 32/32 [00:03<00:00,  8.10it/s]"
          ]
        },
        {
          "output_type": "stream",
          "name": "stdout",
          "text": [
            "                   all        503        137      0.394      0.409      0.303      0.152\n"
          ]
        },
        {
          "output_type": "stream",
          "name": "stderr",
          "text": [
            "\n"
          ]
        },
        {
          "output_type": "stream",
          "name": "stdout",
          "text": [
            "\n",
            "50 epochs completed in 1.605 hours.\n",
            "Optimizer stripped from runs/detect/train/weights/last.pt, 22.5MB\n",
            "Optimizer stripped from runs/detect/train/weights/best.pt, 22.5MB\n",
            "\n",
            "Validating runs/detect/train/weights/best.pt...\n",
            "Ultralytics 8.3.170 🚀 Python-3.11.13 torch-2.6.0+cu124 CUDA:0 (Tesla T4, 15095MiB)\n",
            "Model summary (fused): 72 layers, 11,125,971 parameters, 0 gradients, 28.4 GFLOPs\n"
          ]
        },
        {
          "output_type": "stream",
          "name": "stderr",
          "text": [
            "                 Class     Images  Instances      Box(P          R      mAP50  mAP50-95): 100%|██████████| 32/32 [00:05<00:00,  5.39it/s]\n"
          ]
        },
        {
          "output_type": "stream",
          "name": "stdout",
          "text": [
            "                   all        503        137      0.391       0.38      0.314      0.157\n",
            "Speed: 0.4ms preprocess, 4.7ms inference, 0.0ms loss, 3.1ms postprocess per image\n",
            "Results saved to \u001b[1mruns/detect/train\u001b[0m\n"
          ]
        },
        {
          "output_type": "execute_result",
          "data": {
            "text/plain": [
              "ultralytics.utils.metrics.DetMetrics object with attributes:\n",
              "\n",
              "ap_class_index: array([0])\n",
              "box: ultralytics.utils.metrics.Metric object\n",
              "confusion_matrix: <ultralytics.utils.metrics.ConfusionMatrix object at 0x7db7f66464d0>\n",
              "curves: ['Precision-Recall(B)', 'F1-Confidence(B)', 'Precision-Confidence(B)', 'Recall-Confidence(B)']\n",
              "curves_results: [[array([          0,    0.001001,    0.002002,    0.003003,    0.004004,    0.005005,    0.006006,    0.007007,    0.008008,    0.009009,     0.01001,    0.011011,    0.012012,    0.013013,    0.014014,    0.015015,    0.016016,    0.017017,    0.018018,    0.019019,     0.02002,    0.021021,    0.022022,    0.023023,\n",
              "          0.024024,    0.025025,    0.026026,    0.027027,    0.028028,    0.029029,     0.03003,    0.031031,    0.032032,    0.033033,    0.034034,    0.035035,    0.036036,    0.037037,    0.038038,    0.039039,     0.04004,    0.041041,    0.042042,    0.043043,    0.044044,    0.045045,    0.046046,    0.047047,\n",
              "          0.048048,    0.049049,     0.05005,    0.051051,    0.052052,    0.053053,    0.054054,    0.055055,    0.056056,    0.057057,    0.058058,    0.059059,     0.06006,    0.061061,    0.062062,    0.063063,    0.064064,    0.065065,    0.066066,    0.067067,    0.068068,    0.069069,     0.07007,    0.071071,\n",
              "          0.072072,    0.073073,    0.074074,    0.075075,    0.076076,    0.077077,    0.078078,    0.079079,     0.08008,    0.081081,    0.082082,    0.083083,    0.084084,    0.085085,    0.086086,    0.087087,    0.088088,    0.089089,     0.09009,    0.091091,    0.092092,    0.093093,    0.094094,    0.095095,\n",
              "          0.096096,    0.097097,    0.098098,    0.099099,      0.1001,      0.1011,      0.1021,      0.1031,      0.1041,     0.10511,     0.10611,     0.10711,     0.10811,     0.10911,     0.11011,     0.11111,     0.11211,     0.11311,     0.11411,     0.11512,     0.11612,     0.11712,     0.11812,     0.11912,\n",
              "           0.12012,     0.12112,     0.12212,     0.12312,     0.12412,     0.12513,     0.12613,     0.12713,     0.12813,     0.12913,     0.13013,     0.13113,     0.13213,     0.13313,     0.13413,     0.13514,     0.13614,     0.13714,     0.13814,     0.13914,     0.14014,     0.14114,     0.14214,     0.14314,\n",
              "           0.14414,     0.14515,     0.14615,     0.14715,     0.14815,     0.14915,     0.15015,     0.15115,     0.15215,     0.15315,     0.15415,     0.15516,     0.15616,     0.15716,     0.15816,     0.15916,     0.16016,     0.16116,     0.16216,     0.16316,     0.16416,     0.16517,     0.16617,     0.16717,\n",
              "           0.16817,     0.16917,     0.17017,     0.17117,     0.17217,     0.17317,     0.17417,     0.17518,     0.17618,     0.17718,     0.17818,     0.17918,     0.18018,     0.18118,     0.18218,     0.18318,     0.18418,     0.18519,     0.18619,     0.18719,     0.18819,     0.18919,     0.19019,     0.19119,\n",
              "           0.19219,     0.19319,     0.19419,      0.1952,      0.1962,      0.1972,      0.1982,      0.1992,      0.2002,      0.2012,      0.2022,      0.2032,      0.2042,     0.20521,     0.20621,     0.20721,     0.20821,     0.20921,     0.21021,     0.21121,     0.21221,     0.21321,     0.21421,     0.21522,\n",
              "           0.21622,     0.21722,     0.21822,     0.21922,     0.22022,     0.22122,     0.22222,     0.22322,     0.22422,     0.22523,     0.22623,     0.22723,     0.22823,     0.22923,     0.23023,     0.23123,     0.23223,     0.23323,     0.23423,     0.23524,     0.23624,     0.23724,     0.23824,     0.23924,\n",
              "           0.24024,     0.24124,     0.24224,     0.24324,     0.24424,     0.24525,     0.24625,     0.24725,     0.24825,     0.24925,     0.25025,     0.25125,     0.25225,     0.25325,     0.25425,     0.25526,     0.25626,     0.25726,     0.25826,     0.25926,     0.26026,     0.26126,     0.26226,     0.26326,\n",
              "           0.26426,     0.26527,     0.26627,     0.26727,     0.26827,     0.26927,     0.27027,     0.27127,     0.27227,     0.27327,     0.27427,     0.27528,     0.27628,     0.27728,     0.27828,     0.27928,     0.28028,     0.28128,     0.28228,     0.28328,     0.28428,     0.28529,     0.28629,     0.28729,\n",
              "           0.28829,     0.28929,     0.29029,     0.29129,     0.29229,     0.29329,     0.29429,      0.2953,      0.2963,      0.2973,      0.2983,      0.2993,      0.3003,      0.3013,      0.3023,      0.3033,      0.3043,     0.30531,     0.30631,     0.30731,     0.30831,     0.30931,     0.31031,     0.31131,\n",
              "           0.31231,     0.31331,     0.31431,     0.31532,     0.31632,     0.31732,     0.31832,     0.31932,     0.32032,     0.32132,     0.32232,     0.32332,     0.32432,     0.32533,     0.32633,     0.32733,     0.32833,     0.32933,     0.33033,     0.33133,     0.33233,     0.33333,     0.33433,     0.33534,\n",
              "           0.33634,     0.33734,     0.33834,     0.33934,     0.34034,     0.34134,     0.34234,     0.34334,     0.34434,     0.34535,     0.34635,     0.34735,     0.34835,     0.34935,     0.35035,     0.35135,     0.35235,     0.35335,     0.35435,     0.35536,     0.35636,     0.35736,     0.35836,     0.35936,\n",
              "           0.36036,     0.36136,     0.36236,     0.36336,     0.36436,     0.36537,     0.36637,     0.36737,     0.36837,     0.36937,     0.37037,     0.37137,     0.37237,     0.37337,     0.37437,     0.37538,     0.37638,     0.37738,     0.37838,     0.37938,     0.38038,     0.38138,     0.38238,     0.38338,\n",
              "           0.38438,     0.38539,     0.38639,     0.38739,     0.38839,     0.38939,     0.39039,     0.39139,     0.39239,     0.39339,     0.39439,      0.3954,      0.3964,      0.3974,      0.3984,      0.3994,      0.4004,      0.4014,      0.4024,      0.4034,      0.4044,     0.40541,     0.40641,     0.40741,\n",
              "           0.40841,     0.40941,     0.41041,     0.41141,     0.41241,     0.41341,     0.41441,     0.41542,     0.41642,     0.41742,     0.41842,     0.41942,     0.42042,     0.42142,     0.42242,     0.42342,     0.42442,     0.42543,     0.42643,     0.42743,     0.42843,     0.42943,     0.43043,     0.43143,\n",
              "           0.43243,     0.43343,     0.43443,     0.43544,     0.43644,     0.43744,     0.43844,     0.43944,     0.44044,     0.44144,     0.44244,     0.44344,     0.44444,     0.44545,     0.44645,     0.44745,     0.44845,     0.44945,     0.45045,     0.45145,     0.45245,     0.45345,     0.45445,     0.45546,\n",
              "           0.45646,     0.45746,     0.45846,     0.45946,     0.46046,     0.46146,     0.46246,     0.46346,     0.46446,     0.46547,     0.46647,     0.46747,     0.46847,     0.46947,     0.47047,     0.47147,     0.47247,     0.47347,     0.47447,     0.47548,     0.47648,     0.47748,     0.47848,     0.47948,\n",
              "           0.48048,     0.48148,     0.48248,     0.48348,     0.48448,     0.48549,     0.48649,     0.48749,     0.48849,     0.48949,     0.49049,     0.49149,     0.49249,     0.49349,     0.49449,      0.4955,      0.4965,      0.4975,      0.4985,      0.4995,      0.5005,      0.5015,      0.5025,      0.5035,\n",
              "            0.5045,     0.50551,     0.50651,     0.50751,     0.50851,     0.50951,     0.51051,     0.51151,     0.51251,     0.51351,     0.51451,     0.51552,     0.51652,     0.51752,     0.51852,     0.51952,     0.52052,     0.52152,     0.52252,     0.52352,     0.52452,     0.52553,     0.52653,     0.52753,\n",
              "           0.52853,     0.52953,     0.53053,     0.53153,     0.53253,     0.53353,     0.53453,     0.53554,     0.53654,     0.53754,     0.53854,     0.53954,     0.54054,     0.54154,     0.54254,     0.54354,     0.54454,     0.54555,     0.54655,     0.54755,     0.54855,     0.54955,     0.55055,     0.55155,\n",
              "           0.55255,     0.55355,     0.55455,     0.55556,     0.55656,     0.55756,     0.55856,     0.55956,     0.56056,     0.56156,     0.56256,     0.56356,     0.56456,     0.56557,     0.56657,     0.56757,     0.56857,     0.56957,     0.57057,     0.57157,     0.57257,     0.57357,     0.57457,     0.57558,\n",
              "           0.57658,     0.57758,     0.57858,     0.57958,     0.58058,     0.58158,     0.58258,     0.58358,     0.58458,     0.58559,     0.58659,     0.58759,     0.58859,     0.58959,     0.59059,     0.59159,     0.59259,     0.59359,     0.59459,      0.5956,      0.5966,      0.5976,      0.5986,      0.5996,\n",
              "            0.6006,      0.6016,      0.6026,      0.6036,      0.6046,     0.60561,     0.60661,     0.60761,     0.60861,     0.60961,     0.61061,     0.61161,     0.61261,     0.61361,     0.61461,     0.61562,     0.61662,     0.61762,     0.61862,     0.61962,     0.62062,     0.62162,     0.62262,     0.62362,\n",
              "           0.62462,     0.62563,     0.62663,     0.62763,     0.62863,     0.62963,     0.63063,     0.63163,     0.63263,     0.63363,     0.63463,     0.63564,     0.63664,     0.63764,     0.63864,     0.63964,     0.64064,     0.64164,     0.64264,     0.64364,     0.64464,     0.64565,     0.64665,     0.64765,\n",
              "           0.64865,     0.64965,     0.65065,     0.65165,     0.65265,     0.65365,     0.65465,     0.65566,     0.65666,     0.65766,     0.65866,     0.65966,     0.66066,     0.66166,     0.66266,     0.66366,     0.66466,     0.66567,     0.66667,     0.66767,     0.66867,     0.66967,     0.67067,     0.67167,\n",
              "           0.67267,     0.67367,     0.67467,     0.67568,     0.67668,     0.67768,     0.67868,     0.67968,     0.68068,     0.68168,     0.68268,     0.68368,     0.68468,     0.68569,     0.68669,     0.68769,     0.68869,     0.68969,     0.69069,     0.69169,     0.69269,     0.69369,     0.69469,      0.6957,\n",
              "            0.6967,      0.6977,      0.6987,      0.6997,      0.7007,      0.7017,      0.7027,      0.7037,      0.7047,     0.70571,     0.70671,     0.70771,     0.70871,     0.70971,     0.71071,     0.71171,     0.71271,     0.71371,     0.71471,     0.71572,     0.71672,     0.71772,     0.71872,     0.71972,\n",
              "           0.72072,     0.72172,     0.72272,     0.72372,     0.72472,     0.72573,     0.72673,     0.72773,     0.72873,     0.72973,     0.73073,     0.73173,     0.73273,     0.73373,     0.73473,     0.73574,     0.73674,     0.73774,     0.73874,     0.73974,     0.74074,     0.74174,     0.74274,     0.74374,\n",
              "           0.74474,     0.74575,     0.74675,     0.74775,     0.74875,     0.74975,     0.75075,     0.75175,     0.75275,     0.75375,     0.75475,     0.75576,     0.75676,     0.75776,     0.75876,     0.75976,     0.76076,     0.76176,     0.76276,     0.76376,     0.76476,     0.76577,     0.76677,     0.76777,\n",
              "           0.76877,     0.76977,     0.77077,     0.77177,     0.77277,     0.77377,     0.77477,     0.77578,     0.77678,     0.77778,     0.77878,     0.77978,     0.78078,     0.78178,     0.78278,     0.78378,     0.78478,     0.78579,     0.78679,     0.78779,     0.78879,     0.78979,     0.79079,     0.79179,\n",
              "           0.79279,     0.79379,     0.79479,      0.7958,      0.7968,      0.7978,      0.7988,      0.7998,      0.8008,      0.8018,      0.8028,      0.8038,      0.8048,     0.80581,     0.80681,     0.80781,     0.80881,     0.80981,     0.81081,     0.81181,     0.81281,     0.81381,     0.81481,     0.81582,\n",
              "           0.81682,     0.81782,     0.81882,     0.81982,     0.82082,     0.82182,     0.82282,     0.82382,     0.82482,     0.82583,     0.82683,     0.82783,     0.82883,     0.82983,     0.83083,     0.83183,     0.83283,     0.83383,     0.83483,     0.83584,     0.83684,     0.83784,     0.83884,     0.83984,\n",
              "           0.84084,     0.84184,     0.84284,     0.84384,     0.84484,     0.84585,     0.84685,     0.84785,     0.84885,     0.84985,     0.85085,     0.85185,     0.85285,     0.85385,     0.85485,     0.85586,     0.85686,     0.85786,     0.85886,     0.85986,     0.86086,     0.86186,     0.86286,     0.86386,\n",
              "           0.86486,     0.86587,     0.86687,     0.86787,     0.86887,     0.86987,     0.87087,     0.87187,     0.87287,     0.87387,     0.87487,     0.87588,     0.87688,     0.87788,     0.87888,     0.87988,     0.88088,     0.88188,     0.88288,     0.88388,     0.88488,     0.88589,     0.88689,     0.88789,\n",
              "           0.88889,     0.88989,     0.89089,     0.89189,     0.89289,     0.89389,     0.89489,      0.8959,      0.8969,      0.8979,      0.8989,      0.8999,      0.9009,      0.9019,      0.9029,      0.9039,      0.9049,     0.90591,     0.90691,     0.90791,     0.90891,     0.90991,     0.91091,     0.91191,\n",
              "           0.91291,     0.91391,     0.91491,     0.91592,     0.91692,     0.91792,     0.91892,     0.91992,     0.92092,     0.92192,     0.92292,     0.92392,     0.92492,     0.92593,     0.92693,     0.92793,     0.92893,     0.92993,     0.93093,     0.93193,     0.93293,     0.93393,     0.93493,     0.93594,\n",
              "           0.93694,     0.93794,     0.93894,     0.93994,     0.94094,     0.94194,     0.94294,     0.94394,     0.94494,     0.94595,     0.94695,     0.94795,     0.94895,     0.94995,     0.95095,     0.95195,     0.95295,     0.95395,     0.95495,     0.95596,     0.95696,     0.95796,     0.95896,     0.95996,\n",
              "           0.96096,     0.96196,     0.96296,     0.96396,     0.96496,     0.96597,     0.96697,     0.96797,     0.96897,     0.96997,     0.97097,     0.97197,     0.97297,     0.97397,     0.97497,     0.97598,     0.97698,     0.97798,     0.97898,     0.97998,     0.98098,     0.98198,     0.98298,     0.98398,\n",
              "           0.98498,     0.98599,     0.98699,     0.98799,     0.98899,     0.98999,     0.99099,     0.99199,     0.99299,     0.99399,     0.99499,       0.996,       0.997,       0.998,       0.999,           1]), array([[          1,           1,           1,           1,           1,           1,           1,           1,           1,           1,           1,           1,           1,           1,           1,     0.66667,     0.66667,     0.66667,     0.66667,     0.66667,     0.66667,     0.66667,     0.66667,\n",
              "            0.66667,     0.66667,     0.66667,     0.66667,     0.66667,     0.66667,     0.66667,     0.66667,     0.66667,     0.66667,     0.66667,     0.66667,     0.66667,     0.66667,     0.66667,     0.66667,     0.66667,     0.66667,     0.66667,     0.66667,     0.66667,     0.66667,     0.66667,\n",
              "            0.66667,     0.66667,     0.66667,     0.66667,     0.66667,     0.66667,     0.66667,     0.66667,     0.66667,     0.66667,     0.66667,     0.66667,     0.66667,     0.66667,     0.66667,     0.66667,     0.66667,     0.66667,     0.66667,     0.66667,     0.66667,     0.66667,     0.66667,\n",
              "            0.66667,     0.66667,     0.66667,     0.66667,     0.66667,     0.66667,     0.66667,     0.66667,     0.66667,     0.66667,     0.66667,     0.66667,     0.66667,     0.66667,     0.66667,     0.66667,     0.66667,     0.66667,     0.66667,     0.66667,     0.66667,     0.66667,     0.66667,\n",
              "            0.66667,     0.66667,     0.66667,     0.66667,     0.66667,     0.66667,     0.66667,     0.66667,     0.66667,     0.66667,     0.66667,     0.61111,     0.61111,     0.61111,     0.61111,     0.61111,     0.61111,     0.61111,     0.61111,     0.61111,     0.61111,     0.61111,     0.61111,\n",
              "            0.61111,     0.61111,     0.61111,     0.61111,     0.61111,     0.61111,     0.61111,     0.61111,     0.61111,     0.61111,     0.61111,     0.61111,     0.61111,     0.61111,     0.61111,     0.61111,     0.61111,     0.61111,     0.61111,     0.61111,     0.61111,     0.61111,     0.61111,\n",
              "            0.61111,     0.61111,     0.61111,     0.61111,     0.61111,     0.61111,     0.61111,     0.61111,     0.61111,     0.61111,     0.61111,     0.61111,     0.61111,     0.61111,     0.61111,     0.61111,     0.61111,     0.61111,     0.61111,     0.61111,     0.61111,     0.61111,     0.61111,\n",
              "            0.58696,     0.58696,     0.58696,     0.58696,     0.58696,     0.58696,     0.58696,     0.58696,     0.58696,     0.58696,     0.58696,     0.58696,     0.58696,     0.58696,     0.58696,     0.58696,     0.58696,     0.58696,     0.58696,     0.58696,     0.58696,     0.58696,     0.58696,\n",
              "            0.58696,     0.58696,     0.58696,     0.58696,     0.58696,     0.58696,     0.58696,     0.58696,     0.58696,     0.58696,     0.58696,     0.58696,     0.58696,     0.57143,     0.57143,     0.57143,     0.57143,     0.57143,     0.57143,     0.57143,     0.57143,     0.54386,     0.54386,\n",
              "            0.54386,     0.54386,     0.54386,     0.54386,     0.54386,     0.54386,     0.54386,     0.54386,     0.54386,     0.54386,     0.54386,     0.54386,     0.54386,     0.54386,     0.54386,     0.54386,     0.54386,     0.54386,     0.54386,     0.54386,     0.48052,     0.48052,     0.48052,\n",
              "            0.48052,     0.48052,     0.48052,     0.48052,     0.48052,     0.48052,     0.48052,     0.48052,     0.48052,     0.48052,     0.48052,     0.48052,     0.48052,     0.48052,     0.48052,     0.48052,     0.48052,     0.48052,     0.48052,     0.48052,     0.48052,     0.48052,     0.48052,\n",
              "            0.48052,     0.48052,     0.48052,     0.48052,     0.48052,     0.48052,     0.48052,     0.48052,     0.48052,     0.48052,     0.48052,     0.48052,     0.48052,     0.48052,     0.48052,     0.48052,     0.48052,     0.46914,     0.46914,     0.46914,     0.46914,     0.46914,     0.46914,\n",
              "            0.46914,     0.46914,        0.46,        0.46,        0.46,        0.46,        0.46,        0.46,        0.46,        0.46,        0.46,        0.46,        0.46,        0.46,        0.46,        0.46,        0.46,        0.46,        0.46,        0.46,        0.46,        0.46,        0.46,\n",
              "               0.46,        0.46,        0.46,        0.46,        0.46,        0.46,        0.46,        0.46,        0.46,        0.46,        0.46,        0.46,        0.46,        0.46,        0.46,        0.46,        0.46,        0.46,        0.46,        0.46,        0.46,        0.46,        0.46,\n",
              "               0.46,        0.46,        0.46,        0.46,        0.46,        0.46,        0.46,        0.46,        0.46,        0.46,        0.46,        0.46,        0.46,        0.46,     0.39831,     0.39831,     0.39831,     0.39831,     0.39831,     0.39831,     0.39831,     0.39669,     0.39669,\n",
              "            0.39669,     0.39669,     0.39669,     0.39669,     0.39669,     0.39669,     0.39552,     0.39552,     0.39552,     0.39552,     0.39552,     0.39552,     0.39552,     0.39552,     0.39552,     0.39552,     0.39552,     0.39552,     0.39552,     0.39552,     0.39552,     0.39552,     0.39552,\n",
              "            0.39552,     0.39552,     0.39552,     0.39552,     0.39552,     0.39552,     0.39552,     0.39552,     0.39552,     0.39552,     0.39552,     0.39552,     0.39552,     0.39552,     0.39552,     0.39552,     0.39552,     0.39552,     0.39552,     0.38571,     0.38571,     0.38571,     0.38571,\n",
              "            0.38571,     0.38571,     0.38571,     0.36913,     0.36913,     0.36913,     0.36913,     0.36913,     0.36913,     0.36913,     0.36913,     0.36364,     0.36364,     0.36364,     0.36364,     0.36364,     0.36364,     0.36364,     0.34545,     0.34545,     0.34545,     0.34545,     0.34545,\n",
              "            0.34545,     0.34545,     0.33918,     0.33918,     0.33918,     0.33918,     0.33918,     0.33918,     0.33918,     0.33714,     0.33714,     0.33714,     0.33714,     0.33714,     0.33714,     0.33714,     0.33714,     0.33152,     0.33152,     0.33152,     0.33152,     0.33152,     0.33152,\n",
              "            0.33152,     0.33152,     0.33152,     0.33152,     0.33152,     0.33152,     0.33152,     0.33152,     0.32804,     0.32804,     0.32804,     0.32804,     0.32804,     0.32804,     0.32804,     0.32804,      0.3198,      0.3198,      0.3198,      0.3198,      0.3198,      0.3198,      0.3198,\n",
              "            0.30275,     0.30275,     0.30275,     0.30275,     0.30275,     0.30275,     0.30275,     0.30275,     0.30275,     0.30275,     0.30275,     0.30275,     0.30275,     0.30275,     0.30275,     0.30275,     0.30275,     0.30275,     0.30275,     0.30275,     0.30275,     0.30275,     0.28755,\n",
              "            0.28755,     0.28755,     0.28755,     0.28755,     0.28755,     0.28755,     0.25954,     0.25954,     0.25954,     0.25954,     0.25954,     0.25954,     0.25954,     0.25275,     0.25275,     0.25275,     0.25275,     0.25275,     0.25275,     0.25275,     0.25275,     0.25271,     0.25271,\n",
              "            0.25271,     0.25271,     0.25271,     0.25271,     0.25271,     0.25267,     0.25267,     0.25267,     0.25267,     0.25267,     0.25267,     0.25267,     0.23684,     0.23684,     0.23684,     0.23684,     0.23684,     0.23684,     0.23684,     0.23684,     0.23175,     0.23175,     0.23175,\n",
              "            0.23175,     0.23175,     0.23175,     0.23175,     0.22353,     0.22353,     0.22353,     0.22353,     0.22353,     0.22353,     0.22353,     0.22353,     0.22353,     0.22353,     0.22353,     0.22353,     0.22353,     0.22353,     0.22353,     0.22353,     0.22353,     0.22353,     0.22353,\n",
              "            0.22353,     0.22353,     0.22353,     0.20238,     0.20238,     0.20238,     0.20238,     0.20238,     0.20238,     0.20238,     0.20238,     0.20238,     0.20238,     0.20238,     0.20238,     0.20238,     0.20238,     0.20238,     0.20238,     0.20238,     0.20238,     0.20238,     0.20238,\n",
              "            0.20238,     0.20238,     0.20238,     0.20238,     0.20238,     0.20238,     0.20238,     0.20238,     0.20238,     0.20238,     0.20238,     0.20238,     0.20238,     0.20238,     0.20238,     0.20238,     0.20238,     0.20238,     0.20238,     0.20238,     0.20238,     0.20238,     0.20238,\n",
              "            0.20238,     0.20238,     0.20238,     0.20238,     0.20238,     0.20238,     0.20238,     0.20238,     0.20238,     0.20238,     0.20238,     0.20238,     0.20238,     0.20238,     0.20238,     0.20238,     0.20238,     0.20238,     0.20238,     0.20238,     0.20238,     0.20238,     0.20188,\n",
              "            0.20188,     0.20188,     0.20188,     0.20188,     0.20188,     0.20188,     0.20188,     0.17274,     0.17274,     0.17274,     0.17274,     0.17274,     0.17274,     0.17274,     0.17274,     0.17274,     0.17274,     0.17274,     0.17274,     0.17274,     0.17274,     0.17274,     0.17274,\n",
              "            0.17274,     0.17274,     0.17274,     0.17274,     0.17274,     0.17274,     0.17274,     0.17274,     0.17274,     0.17274,     0.17274,     0.17274,     0.17274,     0.15854,     0.15854,     0.15854,     0.15854,     0.15854,     0.15854,     0.15854,     0.15436,     0.15436,     0.15436,\n",
              "            0.15436,     0.15436,     0.15436,     0.15436,     0.15122,     0.15122,     0.15122,     0.15122,     0.15122,     0.15122,     0.15122,     0.15122,      0.1504,      0.1504,      0.1504,      0.1504,      0.1504,      0.1504,      0.1504,     0.14914,     0.14914,     0.14914,     0.14914,\n",
              "            0.14914,     0.14914,     0.14914,     0.14769,     0.14769,     0.14769,     0.14769,     0.14769,     0.14769,     0.14769,     0.14769,     0.13739,     0.13739,     0.13739,     0.13739,     0.13739,     0.13739,     0.13739,      0.1363,      0.1363,      0.1363,      0.1363,      0.1363,\n",
              "             0.1363,      0.1363,     0.13506,     0.13506,     0.13506,     0.13506,     0.13506,     0.13506,     0.13506,     0.13263,     0.13263,     0.13263,     0.13263,     0.13263,     0.13263,     0.13263,     0.13263,     0.12139,     0.12139,     0.12139,     0.12139,     0.12139,     0.12139,\n",
              "            0.12139,     0.12057,     0.12057,     0.12057,     0.12057,     0.12057,     0.12057,     0.12057,     0.12019,     0.12019,     0.12019,     0.12019,     0.12019,     0.12019,     0.12019,     0.12019,     0.11594,     0.11594,     0.11594,     0.11594,     0.11594,     0.11594,     0.11594,\n",
              "            0.11135,     0.11135,     0.11135,     0.11135,     0.11135,     0.11135,     0.11135,     0.10928,     0.10928,     0.10928,     0.10928,     0.10928,     0.10928,     0.10928,     0.10661,     0.10661,     0.10661,     0.10661,     0.10661,     0.10661,     0.10661,     0.10661,     0.10661,\n",
              "            0.10661,     0.10661,     0.10661,     0.10661,     0.10661,     0.10661,    0.099001,    0.099001,    0.099001,    0.099001,    0.099001,    0.099001,    0.099001,    0.088638,    0.088638,    0.088638,    0.088638,    0.088638,    0.088638,    0.088638,    0.088638,    0.087127,    0.087127,\n",
              "           0.087127,    0.087127,    0.087127,    0.087127,    0.087127,    0.083458,    0.083458,    0.083458,    0.083458,    0.083458,    0.083458,    0.083458,    0.082663,    0.082663,    0.082663,    0.082663,    0.082663,    0.082663,    0.082663,    0.082014,    0.082014,    0.082014,    0.082014,\n",
              "           0.082014,    0.082014,    0.082014,    0.082014,    0.080645,    0.080645,    0.080645,    0.080645,    0.080645,    0.080645,    0.080645,    0.073698,    0.073698,    0.073698,    0.073698,    0.073698,    0.073698,    0.073698,    0.072852,    0.072852,    0.072852,    0.072852,    0.072852,\n",
              "           0.072852,    0.072852,    0.072852,    0.067084,    0.067084,    0.067084,    0.067084,    0.067084,    0.067084,    0.067084,    0.065466,    0.065466,    0.065466,    0.065466,    0.065466,    0.065466,    0.065466,    0.065466,    0.065466,    0.065466,    0.065466,    0.065466,    0.065466,\n",
              "           0.065466,    0.065466,    0.061111,    0.061111,    0.061111,    0.061111,    0.061111,    0.061111,    0.061111,    0.057089,    0.057089,    0.057089,    0.057089,    0.057089,    0.057089,    0.057089,    0.053247,    0.053247,    0.053247,    0.053247,    0.053247,    0.053247,    0.053247,\n",
              "           0.044863,    0.044863,    0.044863,    0.044863,    0.044863,    0.044863,    0.044863,    0.044863,    0.043044,    0.043044,    0.043044,    0.043044,    0.043044,    0.043044,    0.043044,    0.039155,    0.039155,    0.039155,    0.039155,    0.039155,    0.039155,    0.039155,    0.023738,\n",
              "           0.023738,    0.023738,    0.023738,    0.023738,    0.023738,    0.023738,    0.023738,    0.020292,    0.020292,    0.020292,    0.020292,    0.020292,    0.020292,    0.020292,    0.016565,    0.016311,    0.016056,    0.015801,    0.015546,    0.015291,    0.015036,    0.014782,    0.014527,\n",
              "           0.014272,    0.014017,    0.013762,    0.013507,    0.013252,    0.012998,    0.012743,    0.012488,    0.012233,    0.011978,    0.011723,    0.011468,    0.011214,    0.010959,    0.010704,    0.010449,    0.010194,   0.0099393,   0.0096844,   0.0094296,   0.0091747,   0.0089199,    0.008665,\n",
              "          0.0084102,   0.0081553,   0.0079005,   0.0076456,   0.0073908,   0.0071359,    0.006881,   0.0066262,   0.0063713,   0.0061165,   0.0058616,   0.0056068,   0.0053519,   0.0050971,   0.0048422,   0.0045874,   0.0043325,   0.0040777,   0.0038228,    0.003568,   0.0033131,   0.0030582,   0.0028034,\n",
              "          0.0025485,   0.0022937,   0.0020388,    0.001784,   0.0015291,   0.0012743,   0.0010194,  0.00076456,  0.00050971,  0.00025485,           0]]), 'Recall', 'Precision'], [array([          0,    0.001001,    0.002002,    0.003003,    0.004004,    0.005005,    0.006006,    0.007007,    0.008008,    0.009009,     0.01001,    0.011011,    0.012012,    0.013013,    0.014014,    0.015015,    0.016016,    0.017017,    0.018018,    0.019019,     0.02002,    0.021021,    0.022022,    0.023023,\n",
              "          0.024024,    0.025025,    0.026026,    0.027027,    0.028028,    0.029029,     0.03003,    0.031031,    0.032032,    0.033033,    0.034034,    0.035035,    0.036036,    0.037037,    0.038038,    0.039039,     0.04004,    0.041041,    0.042042,    0.043043,    0.044044,    0.045045,    0.046046,    0.047047,\n",
              "          0.048048,    0.049049,     0.05005,    0.051051,    0.052052,    0.053053,    0.054054,    0.055055,    0.056056,    0.057057,    0.058058,    0.059059,     0.06006,    0.061061,    0.062062,    0.063063,    0.064064,    0.065065,    0.066066,    0.067067,    0.068068,    0.069069,     0.07007,    0.071071,\n",
              "          0.072072,    0.073073,    0.074074,    0.075075,    0.076076,    0.077077,    0.078078,    0.079079,     0.08008,    0.081081,    0.082082,    0.083083,    0.084084,    0.085085,    0.086086,    0.087087,    0.088088,    0.089089,     0.09009,    0.091091,    0.092092,    0.093093,    0.094094,    0.095095,\n",
              "          0.096096,    0.097097,    0.098098,    0.099099,      0.1001,      0.1011,      0.1021,      0.1031,      0.1041,     0.10511,     0.10611,     0.10711,     0.10811,     0.10911,     0.11011,     0.11111,     0.11211,     0.11311,     0.11411,     0.11512,     0.11612,     0.11712,     0.11812,     0.11912,\n",
              "           0.12012,     0.12112,     0.12212,     0.12312,     0.12412,     0.12513,     0.12613,     0.12713,     0.12813,     0.12913,     0.13013,     0.13113,     0.13213,     0.13313,     0.13413,     0.13514,     0.13614,     0.13714,     0.13814,     0.13914,     0.14014,     0.14114,     0.14214,     0.14314,\n",
              "           0.14414,     0.14515,     0.14615,     0.14715,     0.14815,     0.14915,     0.15015,     0.15115,     0.15215,     0.15315,     0.15415,     0.15516,     0.15616,     0.15716,     0.15816,     0.15916,     0.16016,     0.16116,     0.16216,     0.16316,     0.16416,     0.16517,     0.16617,     0.16717,\n",
              "           0.16817,     0.16917,     0.17017,     0.17117,     0.17217,     0.17317,     0.17417,     0.17518,     0.17618,     0.17718,     0.17818,     0.17918,     0.18018,     0.18118,     0.18218,     0.18318,     0.18418,     0.18519,     0.18619,     0.18719,     0.18819,     0.18919,     0.19019,     0.19119,\n",
              "           0.19219,     0.19319,     0.19419,      0.1952,      0.1962,      0.1972,      0.1982,      0.1992,      0.2002,      0.2012,      0.2022,      0.2032,      0.2042,     0.20521,     0.20621,     0.20721,     0.20821,     0.20921,     0.21021,     0.21121,     0.21221,     0.21321,     0.21421,     0.21522,\n",
              "           0.21622,     0.21722,     0.21822,     0.21922,     0.22022,     0.22122,     0.22222,     0.22322,     0.22422,     0.22523,     0.22623,     0.22723,     0.22823,     0.22923,     0.23023,     0.23123,     0.23223,     0.23323,     0.23423,     0.23524,     0.23624,     0.23724,     0.23824,     0.23924,\n",
              "           0.24024,     0.24124,     0.24224,     0.24324,     0.24424,     0.24525,     0.24625,     0.24725,     0.24825,     0.24925,     0.25025,     0.25125,     0.25225,     0.25325,     0.25425,     0.25526,     0.25626,     0.25726,     0.25826,     0.25926,     0.26026,     0.26126,     0.26226,     0.26326,\n",
              "           0.26426,     0.26527,     0.26627,     0.26727,     0.26827,     0.26927,     0.27027,     0.27127,     0.27227,     0.27327,     0.27427,     0.27528,     0.27628,     0.27728,     0.27828,     0.27928,     0.28028,     0.28128,     0.28228,     0.28328,     0.28428,     0.28529,     0.28629,     0.28729,\n",
              "           0.28829,     0.28929,     0.29029,     0.29129,     0.29229,     0.29329,     0.29429,      0.2953,      0.2963,      0.2973,      0.2983,      0.2993,      0.3003,      0.3013,      0.3023,      0.3033,      0.3043,     0.30531,     0.30631,     0.30731,     0.30831,     0.30931,     0.31031,     0.31131,\n",
              "           0.31231,     0.31331,     0.31431,     0.31532,     0.31632,     0.31732,     0.31832,     0.31932,     0.32032,     0.32132,     0.32232,     0.32332,     0.32432,     0.32533,     0.32633,     0.32733,     0.32833,     0.32933,     0.33033,     0.33133,     0.33233,     0.33333,     0.33433,     0.33534,\n",
              "           0.33634,     0.33734,     0.33834,     0.33934,     0.34034,     0.34134,     0.34234,     0.34334,     0.34434,     0.34535,     0.34635,     0.34735,     0.34835,     0.34935,     0.35035,     0.35135,     0.35235,     0.35335,     0.35435,     0.35536,     0.35636,     0.35736,     0.35836,     0.35936,\n",
              "           0.36036,     0.36136,     0.36236,     0.36336,     0.36436,     0.36537,     0.36637,     0.36737,     0.36837,     0.36937,     0.37037,     0.37137,     0.37237,     0.37337,     0.37437,     0.37538,     0.37638,     0.37738,     0.37838,     0.37938,     0.38038,     0.38138,     0.38238,     0.38338,\n",
              "           0.38438,     0.38539,     0.38639,     0.38739,     0.38839,     0.38939,     0.39039,     0.39139,     0.39239,     0.39339,     0.39439,      0.3954,      0.3964,      0.3974,      0.3984,      0.3994,      0.4004,      0.4014,      0.4024,      0.4034,      0.4044,     0.40541,     0.40641,     0.40741,\n",
              "           0.40841,     0.40941,     0.41041,     0.41141,     0.41241,     0.41341,     0.41441,     0.41542,     0.41642,     0.41742,     0.41842,     0.41942,     0.42042,     0.42142,     0.42242,     0.42342,     0.42442,     0.42543,     0.42643,     0.42743,     0.42843,     0.42943,     0.43043,     0.43143,\n",
              "           0.43243,     0.43343,     0.43443,     0.43544,     0.43644,     0.43744,     0.43844,     0.43944,     0.44044,     0.44144,     0.44244,     0.44344,     0.44444,     0.44545,     0.44645,     0.44745,     0.44845,     0.44945,     0.45045,     0.45145,     0.45245,     0.45345,     0.45445,     0.45546,\n",
              "           0.45646,     0.45746,     0.45846,     0.45946,     0.46046,     0.46146,     0.46246,     0.46346,     0.46446,     0.46547,     0.46647,     0.46747,     0.46847,     0.46947,     0.47047,     0.47147,     0.47247,     0.47347,     0.47447,     0.47548,     0.47648,     0.47748,     0.47848,     0.47948,\n",
              "           0.48048,     0.48148,     0.48248,     0.48348,     0.48448,     0.48549,     0.48649,     0.48749,     0.48849,     0.48949,     0.49049,     0.49149,     0.49249,     0.49349,     0.49449,      0.4955,      0.4965,      0.4975,      0.4985,      0.4995,      0.5005,      0.5015,      0.5025,      0.5035,\n",
              "            0.5045,     0.50551,     0.50651,     0.50751,     0.50851,     0.50951,     0.51051,     0.51151,     0.51251,     0.51351,     0.51451,     0.51552,     0.51652,     0.51752,     0.51852,     0.51952,     0.52052,     0.52152,     0.52252,     0.52352,     0.52452,     0.52553,     0.52653,     0.52753,\n",
              "           0.52853,     0.52953,     0.53053,     0.53153,     0.53253,     0.53353,     0.53453,     0.53554,     0.53654,     0.53754,     0.53854,     0.53954,     0.54054,     0.54154,     0.54254,     0.54354,     0.54454,     0.54555,     0.54655,     0.54755,     0.54855,     0.54955,     0.55055,     0.55155,\n",
              "           0.55255,     0.55355,     0.55455,     0.55556,     0.55656,     0.55756,     0.55856,     0.55956,     0.56056,     0.56156,     0.56256,     0.56356,     0.56456,     0.56557,     0.56657,     0.56757,     0.56857,     0.56957,     0.57057,     0.57157,     0.57257,     0.57357,     0.57457,     0.57558,\n",
              "           0.57658,     0.57758,     0.57858,     0.57958,     0.58058,     0.58158,     0.58258,     0.58358,     0.58458,     0.58559,     0.58659,     0.58759,     0.58859,     0.58959,     0.59059,     0.59159,     0.59259,     0.59359,     0.59459,      0.5956,      0.5966,      0.5976,      0.5986,      0.5996,\n",
              "            0.6006,      0.6016,      0.6026,      0.6036,      0.6046,     0.60561,     0.60661,     0.60761,     0.60861,     0.60961,     0.61061,     0.61161,     0.61261,     0.61361,     0.61461,     0.61562,     0.61662,     0.61762,     0.61862,     0.61962,     0.62062,     0.62162,     0.62262,     0.62362,\n",
              "           0.62462,     0.62563,     0.62663,     0.62763,     0.62863,     0.62963,     0.63063,     0.63163,     0.63263,     0.63363,     0.63463,     0.63564,     0.63664,     0.63764,     0.63864,     0.63964,     0.64064,     0.64164,     0.64264,     0.64364,     0.64464,     0.64565,     0.64665,     0.64765,\n",
              "           0.64865,     0.64965,     0.65065,     0.65165,     0.65265,     0.65365,     0.65465,     0.65566,     0.65666,     0.65766,     0.65866,     0.65966,     0.66066,     0.66166,     0.66266,     0.66366,     0.66466,     0.66567,     0.66667,     0.66767,     0.66867,     0.66967,     0.67067,     0.67167,\n",
              "           0.67267,     0.67367,     0.67467,     0.67568,     0.67668,     0.67768,     0.67868,     0.67968,     0.68068,     0.68168,     0.68268,     0.68368,     0.68468,     0.68569,     0.68669,     0.68769,     0.68869,     0.68969,     0.69069,     0.69169,     0.69269,     0.69369,     0.69469,      0.6957,\n",
              "            0.6967,      0.6977,      0.6987,      0.6997,      0.7007,      0.7017,      0.7027,      0.7037,      0.7047,     0.70571,     0.70671,     0.70771,     0.70871,     0.70971,     0.71071,     0.71171,     0.71271,     0.71371,     0.71471,     0.71572,     0.71672,     0.71772,     0.71872,     0.71972,\n",
              "           0.72072,     0.72172,     0.72272,     0.72372,     0.72472,     0.72573,     0.72673,     0.72773,     0.72873,     0.72973,     0.73073,     0.73173,     0.73273,     0.73373,     0.73473,     0.73574,     0.73674,     0.73774,     0.73874,     0.73974,     0.74074,     0.74174,     0.74274,     0.74374,\n",
              "           0.74474,     0.74575,     0.74675,     0.74775,     0.74875,     0.74975,     0.75075,     0.75175,     0.75275,     0.75375,     0.75475,     0.75576,     0.75676,     0.75776,     0.75876,     0.75976,     0.76076,     0.76176,     0.76276,     0.76376,     0.76476,     0.76577,     0.76677,     0.76777,\n",
              "           0.76877,     0.76977,     0.77077,     0.77177,     0.77277,     0.77377,     0.77477,     0.77578,     0.77678,     0.77778,     0.77878,     0.77978,     0.78078,     0.78178,     0.78278,     0.78378,     0.78478,     0.78579,     0.78679,     0.78779,     0.78879,     0.78979,     0.79079,     0.79179,\n",
              "           0.79279,     0.79379,     0.79479,      0.7958,      0.7968,      0.7978,      0.7988,      0.7998,      0.8008,      0.8018,      0.8028,      0.8038,      0.8048,     0.80581,     0.80681,     0.80781,     0.80881,     0.80981,     0.81081,     0.81181,     0.81281,     0.81381,     0.81481,     0.81582,\n",
              "           0.81682,     0.81782,     0.81882,     0.81982,     0.82082,     0.82182,     0.82282,     0.82382,     0.82482,     0.82583,     0.82683,     0.82783,     0.82883,     0.82983,     0.83083,     0.83183,     0.83283,     0.83383,     0.83483,     0.83584,     0.83684,     0.83784,     0.83884,     0.83984,\n",
              "           0.84084,     0.84184,     0.84284,     0.84384,     0.84484,     0.84585,     0.84685,     0.84785,     0.84885,     0.84985,     0.85085,     0.85185,     0.85285,     0.85385,     0.85485,     0.85586,     0.85686,     0.85786,     0.85886,     0.85986,     0.86086,     0.86186,     0.86286,     0.86386,\n",
              "           0.86486,     0.86587,     0.86687,     0.86787,     0.86887,     0.86987,     0.87087,     0.87187,     0.87287,     0.87387,     0.87487,     0.87588,     0.87688,     0.87788,     0.87888,     0.87988,     0.88088,     0.88188,     0.88288,     0.88388,     0.88488,     0.88589,     0.88689,     0.88789,\n",
              "           0.88889,     0.88989,     0.89089,     0.89189,     0.89289,     0.89389,     0.89489,      0.8959,      0.8969,      0.8979,      0.8989,      0.8999,      0.9009,      0.9019,      0.9029,      0.9039,      0.9049,     0.90591,     0.90691,     0.90791,     0.90891,     0.90991,     0.91091,     0.91191,\n",
              "           0.91291,     0.91391,     0.91491,     0.91592,     0.91692,     0.91792,     0.91892,     0.91992,     0.92092,     0.92192,     0.92292,     0.92392,     0.92492,     0.92593,     0.92693,     0.92793,     0.92893,     0.92993,     0.93093,     0.93193,     0.93293,     0.93393,     0.93493,     0.93594,\n",
              "           0.93694,     0.93794,     0.93894,     0.93994,     0.94094,     0.94194,     0.94294,     0.94394,     0.94494,     0.94595,     0.94695,     0.94795,     0.94895,     0.94995,     0.95095,     0.95195,     0.95295,     0.95395,     0.95495,     0.95596,     0.95696,     0.95796,     0.95896,     0.95996,\n",
              "           0.96096,     0.96196,     0.96296,     0.96396,     0.96496,     0.96597,     0.96697,     0.96797,     0.96897,     0.96997,     0.97097,     0.97197,     0.97297,     0.97397,     0.97497,     0.97598,     0.97698,     0.97798,     0.97898,     0.97998,     0.98098,     0.98198,     0.98298,     0.98398,\n",
              "           0.98498,     0.98599,     0.98699,     0.98799,     0.98899,     0.98999,     0.99099,     0.99199,     0.99299,     0.99399,     0.99499,       0.996,       0.997,       0.998,       0.999,           1]), array([[   0.032863,    0.032863,    0.047881,     0.06103,    0.072246,    0.081973,    0.090543,    0.099147,     0.10695,     0.11443,     0.12121,     0.12812,     0.13388,     0.13812,      0.1453,     0.14868,     0.15163,     0.15626,     0.15935,     0.16529,      0.1701,     0.17394,     0.17818,\n",
              "            0.18129,      0.1858,     0.18917,     0.19185,     0.19324,     0.19777,     0.20127,     0.20513,     0.20735,     0.20842,     0.21169,     0.21669,     0.22056,     0.22414,     0.22624,      0.2273,     0.23042,     0.23403,     0.23892,     0.24052,     0.24368,     0.24419,     0.24622,\n",
              "            0.24536,     0.24816,     0.24914,     0.25105,     0.25526,     0.25453,     0.25594,     0.25834,     0.26187,     0.26515,     0.26951,     0.27351,     0.27251,     0.26995,     0.26996,     0.27233,     0.27549,     0.27887,     0.28137,     0.28354,     0.28711,     0.28954,     0.29287,\n",
              "            0.29576,     0.29965,     0.30233,     0.30462,     0.30418,     0.30145,     0.29733,     0.29303,     0.29068,     0.28845,     0.29079,     0.29344,     0.29485,     0.29628,     0.29787,     0.30238,     0.30646,     0.30863,      0.3108,     0.31356,     0.31437,     0.31601,     0.31774,\n",
              "             0.3159,     0.30945,     0.30994,     0.31139,     0.31175,     0.31314,     0.31455,     0.31668,     0.31735,     0.31958,      0.3206,     0.32049,     0.32424,      0.3254,     0.32631,     0.32327,      0.3232,     0.32581,     0.32795,     0.33206,     0.33404,     0.33487,     0.33794,\n",
              "            0.33791,     0.33611,     0.33324,     0.33524,     0.33803,      0.3394,       0.339,     0.33819,     0.34167,     0.34226,     0.34273,     0.34514,     0.34779,     0.35016,     0.35442,      0.3581,     0.35858,     0.35873,     0.35946,     0.36106,     0.36281,      0.3647,     0.36742,\n",
              "            0.37121,     0.36848,     0.36775,     0.36587,      0.3614,     0.36406,     0.36662,     0.36735,     0.37011,      0.3736,     0.37624,     0.37552,     0.37266,     0.37342,     0.37426,     0.37528,     0.37668,     0.37832,     0.37905,      0.3797,     0.38034,     0.37671,     0.37744,\n",
              "            0.37859,     0.37513,      0.3728,     0.37296,      0.3756,     0.37651,     0.37322,     0.37471,     0.37526,     0.37607,      0.3719,      0.3741,     0.37541,     0.37679,     0.37383,      0.3754,       0.377,      0.3784,     0.37872,     0.37904,     0.37936,     0.37974,     0.38126,\n",
              "              0.383,     0.38445,     0.38328,      0.3821,     0.38093,     0.37976,     0.38089,     0.38161,      0.3821,      0.3824,      0.3827,     0.38299,     0.38334,     0.37897,     0.37945,     0.37993,     0.38046,      0.3812,     0.38205,     0.38305,     0.38391,     0.38456,     0.38499,\n",
              "            0.38542,     0.38721,     0.38864,     0.38412,      0.3846,     0.38507,     0.38623,     0.38938,     0.39034,     0.38871,     0.38708,     0.38545,     0.38176,     0.37526,     0.37525,     0.37068,     0.36468,     0.36545,     0.36664,      0.3671,     0.36756,     0.36868,     0.37062,\n",
              "             0.3709,     0.36927,     0.36765,     0.36603,     0.36646,     0.36769,     0.36709,     0.36506,     0.36303,     0.36261,      0.3633,     0.36528,     0.36664,     0.36819,     0.36877,     0.36934,     0.37051,     0.37188,     0.37335,     0.37522,     0.37734,     0.37792,     0.37849,\n",
              "            0.37895,     0.37938,      0.3798,     0.38025,     0.38079,     0.38133,     0.38248,     0.38362,     0.38401,     0.38439,     0.38478,     0.38559,     0.38742,     0.38323,     0.38224,     0.37535,     0.37178,     0.36933,     0.37027,     0.37188,     0.36225,     0.35859,     0.35941,\n",
              "            0.35756,     0.35571,     0.35386,     0.35248,     0.35275,     0.35302,     0.35329,     0.35355,     0.35382,     0.35409,     0.35437,     0.35465,     0.35493,     0.35521,     0.35549,     0.34833,     0.34876,     0.34919,     0.34961,     0.34251,     0.34297,     0.34342,     0.34387,\n",
              "            0.34451,     0.34515,     0.34737,     0.34803,      0.3485,     0.34694,     0.34538,     0.34382,     0.34226,     0.34134,     0.34274,      0.3434,     0.34405,     0.34456,     0.34503,      0.3455,      0.3453,     0.34397,     0.34265,     0.34132,     0.33999,     0.33867,     0.33385,\n",
              "            0.32322,     0.32214,     0.32009,     0.31803,     0.31597,     0.31449,     0.30892,     0.30762,     0.30633,     0.30504,     0.30374,     0.30245,     0.30115,     0.30227,     0.30404,     0.30433,     0.30463,     0.30492,     0.30521,     0.30561,      0.3063,     0.30697,     0.30739,\n",
              "             0.3078,     0.30822,      0.3098,     0.31067,     0.31138,      0.3119,     0.31236,     0.31282,     0.31367,     0.31588,     0.31831,     0.31927,     0.31364,     0.30881,      0.3058,     0.30279,      0.2993,     0.29565,     0.29423,     0.29551,     0.29802,     0.29911,      0.3001,\n",
              "            0.30104,     0.29779,     0.29437,      0.2928,     0.29388,     0.29439,     0.29489,     0.28508,     0.28023,      0.2758,     0.27335,      0.2709,     0.26844,     0.26681,     0.26732,     0.26783,      0.2682,     0.26832,     0.26843,     0.26855,     0.26867,     0.26879,      0.2689,\n",
              "            0.26902,     0.26914,     0.26925,     0.26937,     0.26948,      0.2696,     0.26825,     0.26491,     0.26157,     0.25701,     0.25122,     0.25161,     0.25183,     0.25205,     0.25227,     0.25249,      0.2527,     0.25303,     0.25378,      0.2517,     0.24126,     0.23231,     0.22699,\n",
              "             0.2232,     0.22227,     0.22133,      0.2204,     0.21946,     0.21852,     0.21759,     0.21665,     0.21571,     0.21477,     0.21383,     0.21284,     0.20364,     0.20396,     0.20428,     0.20459,      0.2046,     0.20373,     0.20285,     0.20198,     0.20111,     0.20023,     0.19936,\n",
              "            0.19848,     0.19761,     0.19673,     0.19586,     0.19498,      0.1941,     0.19354,     0.19304,     0.19255,     0.19205,     0.19156,     0.19106,     0.19056,     0.19007,     0.18957,     0.18908,     0.18858,     0.18809,     0.18759,     0.18709,      0.1866,      0.1861,      0.1856,\n",
              "            0.18511,     0.18461,     0.18411,     0.18361,     0.18312,     0.18297,     0.18305,     0.18312,     0.18319,     0.18327,     0.18334,     0.18341,     0.18348,     0.18356,     0.18363,      0.1837,     0.18377,     0.18384,     0.18391,     0.18398,     0.18391,     0.17285,     0.17301,\n",
              "            0.17317,     0.17333,     0.17348,     0.17364,     0.17379,     0.17395,     0.17411,     0.17427,     0.17443,     0.17459,     0.17475,      0.1749,     0.17505,     0.17518,     0.17531,     0.17543,     0.17556,     0.17568,     0.17581,     0.17593,     0.17605,     0.17624,     0.17648,\n",
              "            0.17671,     0.17693,     0.17715,     0.17508,     0.17211,     0.16913,     0.16615,     0.15354,     0.15316,     0.15277,     0.15239,     0.15201,     0.15163,     0.15125,     0.15087,     0.15049,     0.15011,     0.14973,     0.14935,     0.14897,     0.14859,      0.1482,     0.14782,\n",
              "            0.14744,     0.14706,     0.14668,      0.1463,     0.14591,     0.14553,     0.14515,     0.14477,     0.14439,       0.144,     0.14362,     0.14324,     0.14285,     0.14247,     0.14209,     0.13824,     0.13206,     0.12871,     0.12693,     0.12514,     0.12335,     0.12156,     0.11977,\n",
              "            0.11797,     0.10726,     0.10547,     0.10571,     0.10594,     0.10493,     0.10381,     0.10269,     0.10156,     0.10044,    0.099313,    0.098187,     0.09706,    0.095933,    0.094805,    0.093676,    0.093377,    0.093439,      0.0935,     0.09356,    0.093619,    0.093677,    0.093735,\n",
              "           0.093792,    0.093848,    0.093903,    0.093958,    0.093529,    0.093083,    0.092637,    0.092191,    0.091744,    0.091298,    0.090851,    0.090405,    0.089958,    0.089511,    0.089064,    0.088617,     0.08817,    0.087722,    0.087275,    0.086827,    0.086379,    0.085932,    0.085484,\n",
              "           0.085036,    0.084587,    0.084139,    0.083691,    0.083242,    0.082794,    0.082345,    0.081896,    0.081447,    0.080462,    0.077125,    0.073781,    0.070432,    0.068076,    0.068243,    0.068398,    0.068504,    0.068536,    0.068567,    0.068597,    0.068628,    0.068657,    0.068687,\n",
              "           0.068716,    0.068744,    0.068772,      0.0688,    0.068828,    0.068855,    0.068882,    0.068908,    0.068934,     0.06896,     0.06734,     0.06523,    0.063118,    0.061003,    0.058886,    0.056765,    0.051568,    0.042268,    0.039861,     0.03769,    0.035517,    0.033342,    0.031165,\n",
              "           0.028986,    0.028175,    0.028184,    0.028193,    0.028202,    0.028211,    0.028219,    0.028228,    0.028236,    0.028244,    0.028252,     0.02826,    0.028268,    0.028276,    0.028283,     0.02829,    0.028298,    0.028305,    0.028312,    0.028319,    0.028326,    0.028332,    0.028339,\n",
              "           0.028345,    0.028352,    0.028358,    0.028364,     0.02837,    0.028373,    0.028375,    0.028378,    0.028381,    0.028384,    0.028387,     0.02839,    0.028392,    0.028395,    0.028398,    0.028401,    0.028403,    0.028406,    0.028409,    0.028411,    0.028414,    0.028417,    0.028419,\n",
              "           0.028422,    0.028424,    0.028427,     0.02843,    0.028432,    0.028435,    0.028437,    0.028439,    0.028442,    0.028444,    0.028447,    0.028449,    0.028452,    0.028454,    0.028456,    0.028459,    0.028461,    0.028463,    0.028466,    0.028468,     0.02847,    0.028472,    0.028475,\n",
              "           0.028477,    0.028479,    0.028481,    0.028484,    0.028486,    0.028488,     0.02849,    0.028492,    0.028494,    0.028496,    0.028498,    0.028501,    0.028503,    0.028505,    0.028507,    0.028509,    0.028511,    0.028513,    0.028515,    0.028517,    0.028519,    0.028521,    0.028523,\n",
              "           0.028525,    0.028527,    0.028529,     0.02853,    0.028532,    0.028534,    0.028536,    0.028538,     0.02854,    0.028542,    0.028544,    0.028545,    0.028547,    0.028549,    0.028551,    0.028553,    0.028554,    0.028556,    0.028558,     0.02856,    0.028561,    0.028563,    0.028565,\n",
              "           0.028566,    0.028568,     0.02857,    0.028576,    0.028638,    0.028689,    0.028731,    0.028767,    0.028545,    0.028203,    0.027861,    0.027518,    0.027176,    0.026833,     0.02649,    0.026148,    0.025805,    0.025461,    0.025118,    0.024775,    0.024431,    0.024088,    0.023744,\n",
              "             0.0234,    0.023056,    0.022712,    0.022368,    0.022024,    0.021679,    0.021335,     0.02099,    0.020645,      0.0203,    0.019955,     0.01961,    0.019265,    0.018919,    0.018574,    0.018228,    0.017882,    0.017537,    0.017191,    0.016844,    0.016498,    0.016152,    0.015805,\n",
              "           0.015459,    0.015112,    0.014765,           0,           0,           0,           0,           0,           0,           0,           0,           0,           0,           0,           0,           0,           0,           0,           0,           0,           0,           0,           0,\n",
              "                  0,           0,           0,           0,           0,           0,           0,           0,           0,           0,           0,           0,           0,           0,           0,           0,           0,           0,           0,           0,           0,           0,           0,\n",
              "                  0,           0,           0,           0,           0,           0,           0,           0,           0,           0,           0,           0,           0,           0,           0,           0,           0,           0,           0,           0,           0,           0,           0,\n",
              "                  0,           0,           0,           0,           0,           0,           0,           0,           0,           0,           0,           0,           0,           0,           0,           0,           0,           0,           0,           0,           0,           0,           0,\n",
              "                  0,           0,           0,           0,           0,           0,           0,           0,           0,           0,           0,           0,           0,           0,           0,           0,           0,           0,           0,           0,           0,           0,           0,\n",
              "                  0,           0,           0,           0,           0,           0,           0,           0,           0,           0,           0,           0,           0,           0,           0,           0,           0,           0,           0,           0,           0,           0,           0,\n",
              "                  0,           0,           0,           0,           0,           0,           0,           0,           0,           0,           0,           0,           0,           0,           0,           0,           0,           0,           0,           0,           0,           0,           0,\n",
              "                  0,           0,           0,           0,           0,           0,           0,           0,           0,           0,           0,           0,           0,           0,           0,           0,           0,           0,           0,           0,           0,           0,           0,\n",
              "                  0,           0,           0,           0,           0,           0,           0,           0,           0,           0,           0]]), 'Confidence', 'F1'], [array([          0,    0.001001,    0.002002,    0.003003,    0.004004,    0.005005,    0.006006,    0.007007,    0.008008,    0.009009,     0.01001,    0.011011,    0.012012,    0.013013,    0.014014,    0.015015,    0.016016,    0.017017,    0.018018,    0.019019,     0.02002,    0.021021,    0.022022,    0.023023,\n",
              "          0.024024,    0.025025,    0.026026,    0.027027,    0.028028,    0.029029,     0.03003,    0.031031,    0.032032,    0.033033,    0.034034,    0.035035,    0.036036,    0.037037,    0.038038,    0.039039,     0.04004,    0.041041,    0.042042,    0.043043,    0.044044,    0.045045,    0.046046,    0.047047,\n",
              "          0.048048,    0.049049,     0.05005,    0.051051,    0.052052,    0.053053,    0.054054,    0.055055,    0.056056,    0.057057,    0.058058,    0.059059,     0.06006,    0.061061,    0.062062,    0.063063,    0.064064,    0.065065,    0.066066,    0.067067,    0.068068,    0.069069,     0.07007,    0.071071,\n",
              "          0.072072,    0.073073,    0.074074,    0.075075,    0.076076,    0.077077,    0.078078,    0.079079,     0.08008,    0.081081,    0.082082,    0.083083,    0.084084,    0.085085,    0.086086,    0.087087,    0.088088,    0.089089,     0.09009,    0.091091,    0.092092,    0.093093,    0.094094,    0.095095,\n",
              "          0.096096,    0.097097,    0.098098,    0.099099,      0.1001,      0.1011,      0.1021,      0.1031,      0.1041,     0.10511,     0.10611,     0.10711,     0.10811,     0.10911,     0.11011,     0.11111,     0.11211,     0.11311,     0.11411,     0.11512,     0.11612,     0.11712,     0.11812,     0.11912,\n",
              "           0.12012,     0.12112,     0.12212,     0.12312,     0.12412,     0.12513,     0.12613,     0.12713,     0.12813,     0.12913,     0.13013,     0.13113,     0.13213,     0.13313,     0.13413,     0.13514,     0.13614,     0.13714,     0.13814,     0.13914,     0.14014,     0.14114,     0.14214,     0.14314,\n",
              "           0.14414,     0.14515,     0.14615,     0.14715,     0.14815,     0.14915,     0.15015,     0.15115,     0.15215,     0.15315,     0.15415,     0.15516,     0.15616,     0.15716,     0.15816,     0.15916,     0.16016,     0.16116,     0.16216,     0.16316,     0.16416,     0.16517,     0.16617,     0.16717,\n",
              "           0.16817,     0.16917,     0.17017,     0.17117,     0.17217,     0.17317,     0.17417,     0.17518,     0.17618,     0.17718,     0.17818,     0.17918,     0.18018,     0.18118,     0.18218,     0.18318,     0.18418,     0.18519,     0.18619,     0.18719,     0.18819,     0.18919,     0.19019,     0.19119,\n",
              "           0.19219,     0.19319,     0.19419,      0.1952,      0.1962,      0.1972,      0.1982,      0.1992,      0.2002,      0.2012,      0.2022,      0.2032,      0.2042,     0.20521,     0.20621,     0.20721,     0.20821,     0.20921,     0.21021,     0.21121,     0.21221,     0.21321,     0.21421,     0.21522,\n",
              "           0.21622,     0.21722,     0.21822,     0.21922,     0.22022,     0.22122,     0.22222,     0.22322,     0.22422,     0.22523,     0.22623,     0.22723,     0.22823,     0.22923,     0.23023,     0.23123,     0.23223,     0.23323,     0.23423,     0.23524,     0.23624,     0.23724,     0.23824,     0.23924,\n",
              "           0.24024,     0.24124,     0.24224,     0.24324,     0.24424,     0.24525,     0.24625,     0.24725,     0.24825,     0.24925,     0.25025,     0.25125,     0.25225,     0.25325,     0.25425,     0.25526,     0.25626,     0.25726,     0.25826,     0.25926,     0.26026,     0.26126,     0.26226,     0.26326,\n",
              "           0.26426,     0.26527,     0.26627,     0.26727,     0.26827,     0.26927,     0.27027,     0.27127,     0.27227,     0.27327,     0.27427,     0.27528,     0.27628,     0.27728,     0.27828,     0.27928,     0.28028,     0.28128,     0.28228,     0.28328,     0.28428,     0.28529,     0.28629,     0.28729,\n",
              "           0.28829,     0.28929,     0.29029,     0.29129,     0.29229,     0.29329,     0.29429,      0.2953,      0.2963,      0.2973,      0.2983,      0.2993,      0.3003,      0.3013,      0.3023,      0.3033,      0.3043,     0.30531,     0.30631,     0.30731,     0.30831,     0.30931,     0.31031,     0.31131,\n",
              "           0.31231,     0.31331,     0.31431,     0.31532,     0.31632,     0.31732,     0.31832,     0.31932,     0.32032,     0.32132,     0.32232,     0.32332,     0.32432,     0.32533,     0.32633,     0.32733,     0.32833,     0.32933,     0.33033,     0.33133,     0.33233,     0.33333,     0.33433,     0.33534,\n",
              "           0.33634,     0.33734,     0.33834,     0.33934,     0.34034,     0.34134,     0.34234,     0.34334,     0.34434,     0.34535,     0.34635,     0.34735,     0.34835,     0.34935,     0.35035,     0.35135,     0.35235,     0.35335,     0.35435,     0.35536,     0.35636,     0.35736,     0.35836,     0.35936,\n",
              "           0.36036,     0.36136,     0.36236,     0.36336,     0.36436,     0.36537,     0.36637,     0.36737,     0.36837,     0.36937,     0.37037,     0.37137,     0.37237,     0.37337,     0.37437,     0.37538,     0.37638,     0.37738,     0.37838,     0.37938,     0.38038,     0.38138,     0.38238,     0.38338,\n",
              "           0.38438,     0.38539,     0.38639,     0.38739,     0.38839,     0.38939,     0.39039,     0.39139,     0.39239,     0.39339,     0.39439,      0.3954,      0.3964,      0.3974,      0.3984,      0.3994,      0.4004,      0.4014,      0.4024,      0.4034,      0.4044,     0.40541,     0.40641,     0.40741,\n",
              "           0.40841,     0.40941,     0.41041,     0.41141,     0.41241,     0.41341,     0.41441,     0.41542,     0.41642,     0.41742,     0.41842,     0.41942,     0.42042,     0.42142,     0.42242,     0.42342,     0.42442,     0.42543,     0.42643,     0.42743,     0.42843,     0.42943,     0.43043,     0.43143,\n",
              "           0.43243,     0.43343,     0.43443,     0.43544,     0.43644,     0.43744,     0.43844,     0.43944,     0.44044,     0.44144,     0.44244,     0.44344,     0.44444,     0.44545,     0.44645,     0.44745,     0.44845,     0.44945,     0.45045,     0.45145,     0.45245,     0.45345,     0.45445,     0.45546,\n",
              "           0.45646,     0.45746,     0.45846,     0.45946,     0.46046,     0.46146,     0.46246,     0.46346,     0.46446,     0.46547,     0.46647,     0.46747,     0.46847,     0.46947,     0.47047,     0.47147,     0.47247,     0.47347,     0.47447,     0.47548,     0.47648,     0.47748,     0.47848,     0.47948,\n",
              "           0.48048,     0.48148,     0.48248,     0.48348,     0.48448,     0.48549,     0.48649,     0.48749,     0.48849,     0.48949,     0.49049,     0.49149,     0.49249,     0.49349,     0.49449,      0.4955,      0.4965,      0.4975,      0.4985,      0.4995,      0.5005,      0.5015,      0.5025,      0.5035,\n",
              "            0.5045,     0.50551,     0.50651,     0.50751,     0.50851,     0.50951,     0.51051,     0.51151,     0.51251,     0.51351,     0.51451,     0.51552,     0.51652,     0.51752,     0.51852,     0.51952,     0.52052,     0.52152,     0.52252,     0.52352,     0.52452,     0.52553,     0.52653,     0.52753,\n",
              "           0.52853,     0.52953,     0.53053,     0.53153,     0.53253,     0.53353,     0.53453,     0.53554,     0.53654,     0.53754,     0.53854,     0.53954,     0.54054,     0.54154,     0.54254,     0.54354,     0.54454,     0.54555,     0.54655,     0.54755,     0.54855,     0.54955,     0.55055,     0.55155,\n",
              "           0.55255,     0.55355,     0.55455,     0.55556,     0.55656,     0.55756,     0.55856,     0.55956,     0.56056,     0.56156,     0.56256,     0.56356,     0.56456,     0.56557,     0.56657,     0.56757,     0.56857,     0.56957,     0.57057,     0.57157,     0.57257,     0.57357,     0.57457,     0.57558,\n",
              "           0.57658,     0.57758,     0.57858,     0.57958,     0.58058,     0.58158,     0.58258,     0.58358,     0.58458,     0.58559,     0.58659,     0.58759,     0.58859,     0.58959,     0.59059,     0.59159,     0.59259,     0.59359,     0.59459,      0.5956,      0.5966,      0.5976,      0.5986,      0.5996,\n",
              "            0.6006,      0.6016,      0.6026,      0.6036,      0.6046,     0.60561,     0.60661,     0.60761,     0.60861,     0.60961,     0.61061,     0.61161,     0.61261,     0.61361,     0.61461,     0.61562,     0.61662,     0.61762,     0.61862,     0.61962,     0.62062,     0.62162,     0.62262,     0.62362,\n",
              "           0.62462,     0.62563,     0.62663,     0.62763,     0.62863,     0.62963,     0.63063,     0.63163,     0.63263,     0.63363,     0.63463,     0.63564,     0.63664,     0.63764,     0.63864,     0.63964,     0.64064,     0.64164,     0.64264,     0.64364,     0.64464,     0.64565,     0.64665,     0.64765,\n",
              "           0.64865,     0.64965,     0.65065,     0.65165,     0.65265,     0.65365,     0.65465,     0.65566,     0.65666,     0.65766,     0.65866,     0.65966,     0.66066,     0.66166,     0.66266,     0.66366,     0.66466,     0.66567,     0.66667,     0.66767,     0.66867,     0.66967,     0.67067,     0.67167,\n",
              "           0.67267,     0.67367,     0.67467,     0.67568,     0.67668,     0.67768,     0.67868,     0.67968,     0.68068,     0.68168,     0.68268,     0.68368,     0.68468,     0.68569,     0.68669,     0.68769,     0.68869,     0.68969,     0.69069,     0.69169,     0.69269,     0.69369,     0.69469,      0.6957,\n",
              "            0.6967,      0.6977,      0.6987,      0.6997,      0.7007,      0.7017,      0.7027,      0.7037,      0.7047,     0.70571,     0.70671,     0.70771,     0.70871,     0.70971,     0.71071,     0.71171,     0.71271,     0.71371,     0.71471,     0.71572,     0.71672,     0.71772,     0.71872,     0.71972,\n",
              "           0.72072,     0.72172,     0.72272,     0.72372,     0.72472,     0.72573,     0.72673,     0.72773,     0.72873,     0.72973,     0.73073,     0.73173,     0.73273,     0.73373,     0.73473,     0.73574,     0.73674,     0.73774,     0.73874,     0.73974,     0.74074,     0.74174,     0.74274,     0.74374,\n",
              "           0.74474,     0.74575,     0.74675,     0.74775,     0.74875,     0.74975,     0.75075,     0.75175,     0.75275,     0.75375,     0.75475,     0.75576,     0.75676,     0.75776,     0.75876,     0.75976,     0.76076,     0.76176,     0.76276,     0.76376,     0.76476,     0.76577,     0.76677,     0.76777,\n",
              "           0.76877,     0.76977,     0.77077,     0.77177,     0.77277,     0.77377,     0.77477,     0.77578,     0.77678,     0.77778,     0.77878,     0.77978,     0.78078,     0.78178,     0.78278,     0.78378,     0.78478,     0.78579,     0.78679,     0.78779,     0.78879,     0.78979,     0.79079,     0.79179,\n",
              "           0.79279,     0.79379,     0.79479,      0.7958,      0.7968,      0.7978,      0.7988,      0.7998,      0.8008,      0.8018,      0.8028,      0.8038,      0.8048,     0.80581,     0.80681,     0.80781,     0.80881,     0.80981,     0.81081,     0.81181,     0.81281,     0.81381,     0.81481,     0.81582,\n",
              "           0.81682,     0.81782,     0.81882,     0.81982,     0.82082,     0.82182,     0.82282,     0.82382,     0.82482,     0.82583,     0.82683,     0.82783,     0.82883,     0.82983,     0.83083,     0.83183,     0.83283,     0.83383,     0.83483,     0.83584,     0.83684,     0.83784,     0.83884,     0.83984,\n",
              "           0.84084,     0.84184,     0.84284,     0.84384,     0.84484,     0.84585,     0.84685,     0.84785,     0.84885,     0.84985,     0.85085,     0.85185,     0.85285,     0.85385,     0.85485,     0.85586,     0.85686,     0.85786,     0.85886,     0.85986,     0.86086,     0.86186,     0.86286,     0.86386,\n",
              "           0.86486,     0.86587,     0.86687,     0.86787,     0.86887,     0.86987,     0.87087,     0.87187,     0.87287,     0.87387,     0.87487,     0.87588,     0.87688,     0.87788,     0.87888,     0.87988,     0.88088,     0.88188,     0.88288,     0.88388,     0.88488,     0.88589,     0.88689,     0.88789,\n",
              "           0.88889,     0.88989,     0.89089,     0.89189,     0.89289,     0.89389,     0.89489,      0.8959,      0.8969,      0.8979,      0.8989,      0.8999,      0.9009,      0.9019,      0.9029,      0.9039,      0.9049,     0.90591,     0.90691,     0.90791,     0.90891,     0.90991,     0.91091,     0.91191,\n",
              "           0.91291,     0.91391,     0.91491,     0.91592,     0.91692,     0.91792,     0.91892,     0.91992,     0.92092,     0.92192,     0.92292,     0.92392,     0.92492,     0.92593,     0.92693,     0.92793,     0.92893,     0.92993,     0.93093,     0.93193,     0.93293,     0.93393,     0.93493,     0.93594,\n",
              "           0.93694,     0.93794,     0.93894,     0.93994,     0.94094,     0.94194,     0.94294,     0.94394,     0.94494,     0.94595,     0.94695,     0.94795,     0.94895,     0.94995,     0.95095,     0.95195,     0.95295,     0.95395,     0.95495,     0.95596,     0.95696,     0.95796,     0.95896,     0.95996,\n",
              "           0.96096,     0.96196,     0.96296,     0.96396,     0.96496,     0.96597,     0.96697,     0.96797,     0.96897,     0.96997,     0.97097,     0.97197,     0.97297,     0.97397,     0.97497,     0.97598,     0.97698,     0.97798,     0.97898,     0.97998,     0.98098,     0.98198,     0.98298,     0.98398,\n",
              "           0.98498,     0.98599,     0.98699,     0.98799,     0.98899,     0.98999,     0.99099,     0.99199,     0.99299,     0.99399,     0.99499,       0.996,       0.997,       0.998,       0.999,           1]), array([[   0.016725,    0.016725,     0.02458,    0.031562,      0.0376,    0.042914,    0.047676,    0.052471,    0.056919,    0.061215,    0.065194,    0.069253,    0.072685,    0.075252,    0.079536,    0.081707,    0.083644,    0.086467,     0.08854,    0.092228,     0.09523,    0.097646,     0.10044,\n",
              "            0.10242,     0.10531,     0.10776,     0.10965,     0.11071,      0.1137,     0.11619,     0.11877,     0.12045,     0.12157,      0.1238,     0.12723,      0.1299,      0.1324,     0.13411,     0.13538,     0.13788,     0.14048,     0.14401,     0.14517,     0.14748,     0.14838,     0.15003,\n",
              "             0.1501,      0.1522,     0.15333,     0.15477,     0.15799,     0.15784,     0.15893,     0.16078,     0.16353,      0.1661,     0.16953,     0.17271,     0.17242,     0.17141,     0.17195,     0.17388,     0.17647,     0.17925,     0.18132,     0.18313,     0.18612,     0.18817,     0.19099,\n",
              "            0.19345,      0.1968,     0.19911,     0.20132,     0.20148,     0.20018,      0.1986,      0.1966,     0.19603,     0.19489,     0.19704,     0.19948,     0.20079,     0.20211,      0.2036,     0.20783,      0.2117,     0.21378,     0.21588,     0.21855,     0.21933,     0.22093,     0.22294,\n",
              "              0.222,     0.21804,     0.21852,     0.21997,     0.22033,     0.22172,     0.22313,     0.22529,     0.22597,     0.22823,     0.23016,     0.23054,     0.23444,     0.23566,     0.23661,     0.23469,     0.23483,     0.23759,     0.23987,     0.24429,     0.24645,     0.24735,     0.25071,\n",
              "            0.25242,     0.25221,     0.25082,     0.25309,     0.25628,     0.25787,     0.25828,     0.25846,     0.26255,     0.26325,     0.26381,     0.26666,     0.26985,     0.27271,     0.27791,     0.28247,     0.28508,     0.28576,     0.28669,     0.28873,     0.29097,     0.29341,     0.29695,\n",
              "            0.30193,     0.30041,     0.30024,      0.2999,     0.29767,      0.3013,     0.30482,     0.30584,     0.30967,     0.31459,     0.31835,     0.31857,     0.31674,     0.31784,     0.31906,     0.32055,     0.32259,     0.32501,     0.32608,     0.32706,       0.328,     0.32645,     0.32756,\n",
              "            0.32928,     0.32806,     0.32722,      0.3289,     0.33303,      0.3359,      0.3335,     0.33609,     0.33697,     0.33829,     0.33621,     0.33984,     0.34199,     0.34429,     0.34275,     0.34707,     0.34982,     0.35224,      0.3528,     0.35335,     0.35391,     0.35457,     0.35722,\n",
              "            0.36029,     0.36331,     0.36244,     0.36156,     0.36069,     0.35981,     0.36233,     0.36364,     0.36453,     0.36507,     0.36561,     0.36614,     0.36678,     0.36491,      0.3658,     0.36668,     0.36769,     0.36906,     0.37066,     0.37254,     0.37417,     0.37541,     0.37623,\n",
              "            0.37706,      0.3805,     0.38327,     0.38141,     0.38236,      0.3833,     0.38559,     0.39192,     0.39491,     0.39367,     0.39243,     0.39118,      0.3902,     0.38518,     0.38706,     0.38349,     0.37878,     0.38189,      0.3845,     0.38552,     0.38653,     0.38901,     0.39336,\n",
              "            0.39574,     0.39446,     0.39317,     0.39188,     0.39328,     0.39613,     0.39707,     0.39545,     0.39383,     0.39413,     0.39576,     0.40049,     0.40378,     0.40754,     0.40896,     0.41038,     0.41328,      0.4167,     0.42041,     0.42518,     0.43065,     0.43216,     0.43368,\n",
              "            0.43488,     0.43601,     0.43714,     0.43831,     0.43975,     0.44119,      0.4443,     0.44738,     0.44844,     0.44949,     0.45055,     0.45279,     0.45784,     0.45604,     0.45707,     0.45302,      0.4501,     0.44861,     0.45137,     0.45621,     0.44913,     0.44608,     0.45035,\n",
              "            0.44878,     0.44722,     0.44565,     0.44464,     0.44549,     0.44634,      0.4472,     0.44805,      0.4489,     0.44978,     0.45069,      0.4516,     0.45251,     0.45342,     0.45433,     0.44867,     0.45009,     0.45152,     0.45294,     0.44764,      0.4492,     0.45076,     0.45232,\n",
              "            0.45452,     0.45676,     0.46463,     0.46698,     0.46903,     0.46767,     0.46631,     0.46495,     0.46358,     0.46372,     0.46891,     0.47138,     0.47384,     0.47578,     0.47759,     0.47939,     0.48008,     0.47892,     0.47775,     0.47658,     0.47541,     0.47424,     0.46994,\n",
              "            0.46334,     0.46421,     0.46231,     0.46041,      0.4585,     0.46214,     0.45689,     0.45565,     0.45441,     0.45317,     0.45193,     0.45069,     0.44945,     0.45511,     0.46323,      0.4646,     0.46597,     0.46734,     0.46871,     0.47061,      0.4739,     0.47709,     0.47913,\n",
              "            0.48116,      0.4832,     0.49104,     0.49545,     0.49906,     0.50178,     0.50418,     0.50658,     0.51102,     0.52295,     0.53654,     0.54203,     0.53829,     0.53372,     0.53084,     0.52795,     0.52453,     0.52094,     0.52506,     0.53329,        0.55,      0.5575,     0.56447,\n",
              "            0.57116,     0.56823,     0.56491,      0.5693,     0.57758,     0.58152,     0.58546,     0.57713,     0.57221,     0.56772,     0.56515,     0.56257,        0.56,      0.5594,     0.56394,     0.56848,     0.57181,     0.57289,     0.57396,     0.57504,     0.57612,      0.5772,     0.57828,\n",
              "            0.57935,     0.58043,     0.58151,     0.58259,     0.58367,     0.58475,     0.58386,     0.58032,     0.57678,     0.57182,     0.56544,     0.58083,      0.5832,     0.58558,     0.58795,     0.59033,     0.59271,     0.59633,      0.6048,     0.60822,     0.59664,      0.5863,      0.5799,\n",
              "            0.57534,     0.57416,     0.57298,      0.5718,     0.57062,     0.56943,     0.56825,     0.56707,     0.56589,     0.56471,     0.56353,     0.57875,     0.56745,     0.57246,     0.57747,     0.58247,      0.5859,     0.58472,     0.58353,     0.58234,     0.58115,     0.57996,     0.57878,\n",
              "            0.57759,      0.5764,     0.57521,     0.57402,     0.57284,     0.57165,     0.57085,     0.57013,     0.56941,      0.5687,     0.56798,     0.56727,     0.56655,     0.56584,     0.56512,     0.56441,     0.56369,     0.56298,     0.56226,     0.56155,     0.56083,     0.56012,      0.5594,\n",
              "            0.55869,     0.55797,     0.55726,     0.55654,     0.55583,     0.55641,     0.55777,     0.55914,     0.56051,     0.56188,     0.56325,     0.56462,     0.56599,     0.56736,     0.56873,     0.57009,     0.57146,     0.57283,      0.5742,     0.57557,     0.57672,     0.56012,     0.56354,\n",
              "            0.56696,     0.57037,     0.57379,     0.57721,     0.58062,      0.5841,     0.58782,     0.59153,     0.59524,     0.59896,     0.60267,     0.60639,     0.60989,     0.61304,     0.61619,     0.61934,     0.62249,     0.62564,     0.62879,     0.63194,      0.6351,     0.64008,     0.64629,\n",
              "             0.6525,     0.65871,     0.66493,     0.66359,     0.65932,     0.65505,     0.65078,     0.63104,     0.63039,     0.62973,     0.62908,     0.62842,     0.62776,     0.62711,     0.62645,      0.6258,     0.62514,     0.62449,     0.62383,     0.62318,     0.62252,     0.62186,     0.62121,\n",
              "            0.62055,      0.6199,     0.61924,     0.61859,     0.61793,     0.61727,     0.61662,     0.61596,     0.61531,     0.61465,       0.614,     0.61334,     0.61269,     0.61203,     0.61137,     0.60409,     0.59237,      0.5858,     0.58203,     0.57826,     0.57449,     0.57072,     0.56695,\n",
              "            0.56318,     0.53803,      0.5443,     0.55732,     0.57034,     0.56874,      0.5658,     0.56286,     0.55992,     0.55698,     0.55404,     0.55111,     0.54817,     0.54523,     0.54229,     0.53935,     0.54137,     0.54556,     0.54974,     0.55392,      0.5581,     0.56228,     0.56646,\n",
              "            0.57064,     0.57483,     0.57901,     0.58319,     0.58206,     0.58075,     0.57943,     0.57811,      0.5768,     0.57548,     0.57417,     0.57285,     0.57153,     0.57022,      0.5689,     0.56759,     0.56627,     0.56495,     0.56364,     0.56232,       0.561,     0.55969,     0.55837,\n",
              "            0.55706,     0.55574,     0.55442,     0.55311,     0.55179,     0.55047,     0.54916,     0.54784,     0.54653,     0.54329,     0.53165,        0.52,     0.50835,     0.50538,     0.52436,     0.54334,     0.55705,     0.56124,     0.56542,     0.56961,      0.5738,     0.57798,     0.58217,\n",
              "            0.58636,     0.59055,     0.59473,     0.59892,     0.60311,     0.60729,     0.61148,     0.61567,     0.61986,     0.62404,     0.61848,     0.61003,     0.60159,     0.59314,     0.58469,     0.57624,     0.55043,     0.50162,     0.48475,     0.46898,     0.45321,     0.43745,     0.42168,\n",
              "            0.40591,     0.40237,     0.40617,     0.40997,     0.41376,     0.41756,     0.42136,     0.42515,     0.42895,     0.43275,     0.43654,     0.44034,     0.44413,     0.44793,     0.45173,     0.45552,     0.45932,     0.46312,     0.46691,     0.47071,     0.47451,      0.4783,      0.4821,\n",
              "             0.4859,     0.48969,     0.49349,     0.49728,     0.50052,     0.50235,     0.50417,       0.506,     0.50783,     0.50966,     0.51148,     0.51331,     0.51514,     0.51696,     0.51879,     0.52062,     0.52245,     0.52427,      0.5261,     0.52793,     0.52975,     0.53158,     0.53341,\n",
              "            0.53524,     0.53706,     0.53889,     0.54072,     0.54254,     0.54437,      0.5462,     0.54803,     0.54985,     0.55168,     0.55351,     0.55533,     0.55716,     0.55899,     0.56082,     0.56264,     0.56447,      0.5663,     0.56812,     0.56995,     0.57178,     0.57361,     0.57543,\n",
              "            0.57726,     0.57909,     0.58091,     0.58274,     0.58457,      0.5864,     0.58822,     0.59005,     0.59188,      0.5937,     0.59553,     0.59736,     0.59919,     0.60101,     0.60284,     0.60467,     0.60649,     0.60832,     0.61015,     0.61198,      0.6138,     0.61563,     0.61746,\n",
              "            0.61928,     0.62111,     0.62294,     0.62477,     0.62659,     0.62842,     0.63025,     0.63207,      0.6339,     0.63573,     0.63756,     0.63938,     0.64121,     0.64304,     0.64486,     0.64669,     0.64852,     0.65035,     0.65217,       0.654,     0.65583,     0.65765,     0.65948,\n",
              "            0.66131,     0.66314,     0.66496,     0.67178,     0.74771,     0.82364,     0.89957,     0.97549,           1,           1,           1,           1,           1,           1,           1,           1,           1,           1,           1,           1,           1,           1,           1,\n",
              "                  1,           1,           1,           1,           1,           1,           1,           1,           1,           1,           1,           1,           1,           1,           1,           1,           1,           1,           1,           1,           1,           1,           1,\n",
              "                  1,           1,           1,           1,           1,           1,           1,           1,           1,           1,           1,           1,           1,           1,           1,           1,           1,           1,           1,           1,           1,           1,           1,\n",
              "                  1,           1,           1,           1,           1,           1,           1,           1,           1,           1,           1,           1,           1,           1,           1,           1,           1,           1,           1,           1,           1,           1,           1,\n",
              "                  1,           1,           1,           1,           1,           1,           1,           1,           1,           1,           1,           1,           1,           1,           1,           1,           1,           1,           1,           1,           1,           1,           1,\n",
              "                  1,           1,           1,           1,           1,           1,           1,           1,           1,           1,           1,           1,           1,           1,           1,           1,           1,           1,           1,           1,           1,           1,           1,\n",
              "                  1,           1,           1,           1,           1,           1,           1,           1,           1,           1,           1,           1,           1,           1,           1,           1,           1,           1,           1,           1,           1,           1,           1,\n",
              "                  1,           1,           1,           1,           1,           1,           1,           1,           1,           1,           1,           1,           1,           1,           1,           1,           1,           1,           1,           1,           1,           1,           1,\n",
              "                  1,           1,           1,           1,           1,           1,           1,           1,           1,           1,           1,           1,           1,           1,           1,           1,           1,           1,           1,           1,           1,           1,           1,\n",
              "                  1,           1,           1,           1,           1,           1,           1,           1,           1,           1,           1,           1,           1,           1,           1,           1,           1,           1,           1,           1,           1,           1,           1,\n",
              "                  1,           1,           1,           1,           1,           1,           1,           1,           1,           1,           1]]), 'Confidence', 'Precision'], [array([          0,    0.001001,    0.002002,    0.003003,    0.004004,    0.005005,    0.006006,    0.007007,    0.008008,    0.009009,     0.01001,    0.011011,    0.012012,    0.013013,    0.014014,    0.015015,    0.016016,    0.017017,    0.018018,    0.019019,     0.02002,    0.021021,    0.022022,    0.023023,\n",
              "          0.024024,    0.025025,    0.026026,    0.027027,    0.028028,    0.029029,     0.03003,    0.031031,    0.032032,    0.033033,    0.034034,    0.035035,    0.036036,    0.037037,    0.038038,    0.039039,     0.04004,    0.041041,    0.042042,    0.043043,    0.044044,    0.045045,    0.046046,    0.047047,\n",
              "          0.048048,    0.049049,     0.05005,    0.051051,    0.052052,    0.053053,    0.054054,    0.055055,    0.056056,    0.057057,    0.058058,    0.059059,     0.06006,    0.061061,    0.062062,    0.063063,    0.064064,    0.065065,    0.066066,    0.067067,    0.068068,    0.069069,     0.07007,    0.071071,\n",
              "          0.072072,    0.073073,    0.074074,    0.075075,    0.076076,    0.077077,    0.078078,    0.079079,     0.08008,    0.081081,    0.082082,    0.083083,    0.084084,    0.085085,    0.086086,    0.087087,    0.088088,    0.089089,     0.09009,    0.091091,    0.092092,    0.093093,    0.094094,    0.095095,\n",
              "          0.096096,    0.097097,    0.098098,    0.099099,      0.1001,      0.1011,      0.1021,      0.1031,      0.1041,     0.10511,     0.10611,     0.10711,     0.10811,     0.10911,     0.11011,     0.11111,     0.11211,     0.11311,     0.11411,     0.11512,     0.11612,     0.11712,     0.11812,     0.11912,\n",
              "           0.12012,     0.12112,     0.12212,     0.12312,     0.12412,     0.12513,     0.12613,     0.12713,     0.12813,     0.12913,     0.13013,     0.13113,     0.13213,     0.13313,     0.13413,     0.13514,     0.13614,     0.13714,     0.13814,     0.13914,     0.14014,     0.14114,     0.14214,     0.14314,\n",
              "           0.14414,     0.14515,     0.14615,     0.14715,     0.14815,     0.14915,     0.15015,     0.15115,     0.15215,     0.15315,     0.15415,     0.15516,     0.15616,     0.15716,     0.15816,     0.15916,     0.16016,     0.16116,     0.16216,     0.16316,     0.16416,     0.16517,     0.16617,     0.16717,\n",
              "           0.16817,     0.16917,     0.17017,     0.17117,     0.17217,     0.17317,     0.17417,     0.17518,     0.17618,     0.17718,     0.17818,     0.17918,     0.18018,     0.18118,     0.18218,     0.18318,     0.18418,     0.18519,     0.18619,     0.18719,     0.18819,     0.18919,     0.19019,     0.19119,\n",
              "           0.19219,     0.19319,     0.19419,      0.1952,      0.1962,      0.1972,      0.1982,      0.1992,      0.2002,      0.2012,      0.2022,      0.2032,      0.2042,     0.20521,     0.20621,     0.20721,     0.20821,     0.20921,     0.21021,     0.21121,     0.21221,     0.21321,     0.21421,     0.21522,\n",
              "           0.21622,     0.21722,     0.21822,     0.21922,     0.22022,     0.22122,     0.22222,     0.22322,     0.22422,     0.22523,     0.22623,     0.22723,     0.22823,     0.22923,     0.23023,     0.23123,     0.23223,     0.23323,     0.23423,     0.23524,     0.23624,     0.23724,     0.23824,     0.23924,\n",
              "           0.24024,     0.24124,     0.24224,     0.24324,     0.24424,     0.24525,     0.24625,     0.24725,     0.24825,     0.24925,     0.25025,     0.25125,     0.25225,     0.25325,     0.25425,     0.25526,     0.25626,     0.25726,     0.25826,     0.25926,     0.26026,     0.26126,     0.26226,     0.26326,\n",
              "           0.26426,     0.26527,     0.26627,     0.26727,     0.26827,     0.26927,     0.27027,     0.27127,     0.27227,     0.27327,     0.27427,     0.27528,     0.27628,     0.27728,     0.27828,     0.27928,     0.28028,     0.28128,     0.28228,     0.28328,     0.28428,     0.28529,     0.28629,     0.28729,\n",
              "           0.28829,     0.28929,     0.29029,     0.29129,     0.29229,     0.29329,     0.29429,      0.2953,      0.2963,      0.2973,      0.2983,      0.2993,      0.3003,      0.3013,      0.3023,      0.3033,      0.3043,     0.30531,     0.30631,     0.30731,     0.30831,     0.30931,     0.31031,     0.31131,\n",
              "           0.31231,     0.31331,     0.31431,     0.31532,     0.31632,     0.31732,     0.31832,     0.31932,     0.32032,     0.32132,     0.32232,     0.32332,     0.32432,     0.32533,     0.32633,     0.32733,     0.32833,     0.32933,     0.33033,     0.33133,     0.33233,     0.33333,     0.33433,     0.33534,\n",
              "           0.33634,     0.33734,     0.33834,     0.33934,     0.34034,     0.34134,     0.34234,     0.34334,     0.34434,     0.34535,     0.34635,     0.34735,     0.34835,     0.34935,     0.35035,     0.35135,     0.35235,     0.35335,     0.35435,     0.35536,     0.35636,     0.35736,     0.35836,     0.35936,\n",
              "           0.36036,     0.36136,     0.36236,     0.36336,     0.36436,     0.36537,     0.36637,     0.36737,     0.36837,     0.36937,     0.37037,     0.37137,     0.37237,     0.37337,     0.37437,     0.37538,     0.37638,     0.37738,     0.37838,     0.37938,     0.38038,     0.38138,     0.38238,     0.38338,\n",
              "           0.38438,     0.38539,     0.38639,     0.38739,     0.38839,     0.38939,     0.39039,     0.39139,     0.39239,     0.39339,     0.39439,      0.3954,      0.3964,      0.3974,      0.3984,      0.3994,      0.4004,      0.4014,      0.4024,      0.4034,      0.4044,     0.40541,     0.40641,     0.40741,\n",
              "           0.40841,     0.40941,     0.41041,     0.41141,     0.41241,     0.41341,     0.41441,     0.41542,     0.41642,     0.41742,     0.41842,     0.41942,     0.42042,     0.42142,     0.42242,     0.42342,     0.42442,     0.42543,     0.42643,     0.42743,     0.42843,     0.42943,     0.43043,     0.43143,\n",
              "           0.43243,     0.43343,     0.43443,     0.43544,     0.43644,     0.43744,     0.43844,     0.43944,     0.44044,     0.44144,     0.44244,     0.44344,     0.44444,     0.44545,     0.44645,     0.44745,     0.44845,     0.44945,     0.45045,     0.45145,     0.45245,     0.45345,     0.45445,     0.45546,\n",
              "           0.45646,     0.45746,     0.45846,     0.45946,     0.46046,     0.46146,     0.46246,     0.46346,     0.46446,     0.46547,     0.46647,     0.46747,     0.46847,     0.46947,     0.47047,     0.47147,     0.47247,     0.47347,     0.47447,     0.47548,     0.47648,     0.47748,     0.47848,     0.47948,\n",
              "           0.48048,     0.48148,     0.48248,     0.48348,     0.48448,     0.48549,     0.48649,     0.48749,     0.48849,     0.48949,     0.49049,     0.49149,     0.49249,     0.49349,     0.49449,      0.4955,      0.4965,      0.4975,      0.4985,      0.4995,      0.5005,      0.5015,      0.5025,      0.5035,\n",
              "            0.5045,     0.50551,     0.50651,     0.50751,     0.50851,     0.50951,     0.51051,     0.51151,     0.51251,     0.51351,     0.51451,     0.51552,     0.51652,     0.51752,     0.51852,     0.51952,     0.52052,     0.52152,     0.52252,     0.52352,     0.52452,     0.52553,     0.52653,     0.52753,\n",
              "           0.52853,     0.52953,     0.53053,     0.53153,     0.53253,     0.53353,     0.53453,     0.53554,     0.53654,     0.53754,     0.53854,     0.53954,     0.54054,     0.54154,     0.54254,     0.54354,     0.54454,     0.54555,     0.54655,     0.54755,     0.54855,     0.54955,     0.55055,     0.55155,\n",
              "           0.55255,     0.55355,     0.55455,     0.55556,     0.55656,     0.55756,     0.55856,     0.55956,     0.56056,     0.56156,     0.56256,     0.56356,     0.56456,     0.56557,     0.56657,     0.56757,     0.56857,     0.56957,     0.57057,     0.57157,     0.57257,     0.57357,     0.57457,     0.57558,\n",
              "           0.57658,     0.57758,     0.57858,     0.57958,     0.58058,     0.58158,     0.58258,     0.58358,     0.58458,     0.58559,     0.58659,     0.58759,     0.58859,     0.58959,     0.59059,     0.59159,     0.59259,     0.59359,     0.59459,      0.5956,      0.5966,      0.5976,      0.5986,      0.5996,\n",
              "            0.6006,      0.6016,      0.6026,      0.6036,      0.6046,     0.60561,     0.60661,     0.60761,     0.60861,     0.60961,     0.61061,     0.61161,     0.61261,     0.61361,     0.61461,     0.61562,     0.61662,     0.61762,     0.61862,     0.61962,     0.62062,     0.62162,     0.62262,     0.62362,\n",
              "           0.62462,     0.62563,     0.62663,     0.62763,     0.62863,     0.62963,     0.63063,     0.63163,     0.63263,     0.63363,     0.63463,     0.63564,     0.63664,     0.63764,     0.63864,     0.63964,     0.64064,     0.64164,     0.64264,     0.64364,     0.64464,     0.64565,     0.64665,     0.64765,\n",
              "           0.64865,     0.64965,     0.65065,     0.65165,     0.65265,     0.65365,     0.65465,     0.65566,     0.65666,     0.65766,     0.65866,     0.65966,     0.66066,     0.66166,     0.66266,     0.66366,     0.66466,     0.66567,     0.66667,     0.66767,     0.66867,     0.66967,     0.67067,     0.67167,\n",
              "           0.67267,     0.67367,     0.67467,     0.67568,     0.67668,     0.67768,     0.67868,     0.67968,     0.68068,     0.68168,     0.68268,     0.68368,     0.68468,     0.68569,     0.68669,     0.68769,     0.68869,     0.68969,     0.69069,     0.69169,     0.69269,     0.69369,     0.69469,      0.6957,\n",
              "            0.6967,      0.6977,      0.6987,      0.6997,      0.7007,      0.7017,      0.7027,      0.7037,      0.7047,     0.70571,     0.70671,     0.70771,     0.70871,     0.70971,     0.71071,     0.71171,     0.71271,     0.71371,     0.71471,     0.71572,     0.71672,     0.71772,     0.71872,     0.71972,\n",
              "           0.72072,     0.72172,     0.72272,     0.72372,     0.72472,     0.72573,     0.72673,     0.72773,     0.72873,     0.72973,     0.73073,     0.73173,     0.73273,     0.73373,     0.73473,     0.73574,     0.73674,     0.73774,     0.73874,     0.73974,     0.74074,     0.74174,     0.74274,     0.74374,\n",
              "           0.74474,     0.74575,     0.74675,     0.74775,     0.74875,     0.74975,     0.75075,     0.75175,     0.75275,     0.75375,     0.75475,     0.75576,     0.75676,     0.75776,     0.75876,     0.75976,     0.76076,     0.76176,     0.76276,     0.76376,     0.76476,     0.76577,     0.76677,     0.76777,\n",
              "           0.76877,     0.76977,     0.77077,     0.77177,     0.77277,     0.77377,     0.77477,     0.77578,     0.77678,     0.77778,     0.77878,     0.77978,     0.78078,     0.78178,     0.78278,     0.78378,     0.78478,     0.78579,     0.78679,     0.78779,     0.78879,     0.78979,     0.79079,     0.79179,\n",
              "           0.79279,     0.79379,     0.79479,      0.7958,      0.7968,      0.7978,      0.7988,      0.7998,      0.8008,      0.8018,      0.8028,      0.8038,      0.8048,     0.80581,     0.80681,     0.80781,     0.80881,     0.80981,     0.81081,     0.81181,     0.81281,     0.81381,     0.81481,     0.81582,\n",
              "           0.81682,     0.81782,     0.81882,     0.81982,     0.82082,     0.82182,     0.82282,     0.82382,     0.82482,     0.82583,     0.82683,     0.82783,     0.82883,     0.82983,     0.83083,     0.83183,     0.83283,     0.83383,     0.83483,     0.83584,     0.83684,     0.83784,     0.83884,     0.83984,\n",
              "           0.84084,     0.84184,     0.84284,     0.84384,     0.84484,     0.84585,     0.84685,     0.84785,     0.84885,     0.84985,     0.85085,     0.85185,     0.85285,     0.85385,     0.85485,     0.85586,     0.85686,     0.85786,     0.85886,     0.85986,     0.86086,     0.86186,     0.86286,     0.86386,\n",
              "           0.86486,     0.86587,     0.86687,     0.86787,     0.86887,     0.86987,     0.87087,     0.87187,     0.87287,     0.87387,     0.87487,     0.87588,     0.87688,     0.87788,     0.87888,     0.87988,     0.88088,     0.88188,     0.88288,     0.88388,     0.88488,     0.88589,     0.88689,     0.88789,\n",
              "           0.88889,     0.88989,     0.89089,     0.89189,     0.89289,     0.89389,     0.89489,      0.8959,      0.8969,      0.8979,      0.8989,      0.8999,      0.9009,      0.9019,      0.9029,      0.9039,      0.9049,     0.90591,     0.90691,     0.90791,     0.90891,     0.90991,     0.91091,     0.91191,\n",
              "           0.91291,     0.91391,     0.91491,     0.91592,     0.91692,     0.91792,     0.91892,     0.91992,     0.92092,     0.92192,     0.92292,     0.92392,     0.92492,     0.92593,     0.92693,     0.92793,     0.92893,     0.92993,     0.93093,     0.93193,     0.93293,     0.93393,     0.93493,     0.93594,\n",
              "           0.93694,     0.93794,     0.93894,     0.93994,     0.94094,     0.94194,     0.94294,     0.94394,     0.94494,     0.94595,     0.94695,     0.94795,     0.94895,     0.94995,     0.95095,     0.95195,     0.95295,     0.95395,     0.95495,     0.95596,     0.95696,     0.95796,     0.95896,     0.95996,\n",
              "           0.96096,     0.96196,     0.96296,     0.96396,     0.96496,     0.96597,     0.96697,     0.96797,     0.96897,     0.96997,     0.97097,     0.97197,     0.97297,     0.97397,     0.97497,     0.97598,     0.97698,     0.97798,     0.97898,     0.97998,     0.98098,     0.98198,     0.98298,     0.98398,\n",
              "           0.98498,     0.98599,     0.98699,     0.98799,     0.98899,     0.98999,     0.99099,     0.99199,     0.99299,     0.99399,     0.99499,       0.996,       0.997,       0.998,       0.999,           1]), array([[    0.93431,     0.93431,     0.91971,     0.91971,     0.91971,     0.91241,     0.89781,     0.89781,     0.88321,     0.87591,     0.86131,     0.85401,     0.84672,     0.83942,     0.83942,     0.82482,     0.81022,     0.81022,     0.79562,     0.79562,     0.79562,     0.79562,     0.78832,\n",
              "            0.78832,     0.78832,     0.77372,     0.76642,     0.75912,     0.75912,     0.75182,     0.75182,     0.74453,     0.72993,     0.72993,     0.72993,     0.72993,     0.72993,     0.72263,     0.70803,     0.70073,     0.70073,     0.70073,     0.70073,     0.70073,     0.68929,     0.68613,\n",
              "            0.67153,     0.67153,     0.66423,     0.66423,     0.66423,     0.65693,     0.65693,     0.65693,     0.65693,     0.65693,     0.65693,     0.65693,     0.64964,     0.63504,     0.62774,     0.62774,     0.62774,     0.62774,     0.62774,     0.62774,     0.62774,     0.62774,     0.62774,\n",
              "            0.62774,     0.62774,     0.62774,     0.62559,     0.62044,     0.61016,     0.59124,     0.57515,     0.56204,     0.55474,     0.55474,     0.55474,     0.55474,     0.55474,     0.55474,     0.55474,     0.55474,     0.55474,     0.55474,     0.55474,     0.55474,     0.55474,     0.55285,\n",
              "            0.54745,     0.53285,     0.53285,     0.53285,     0.53285,     0.53285,     0.53285,     0.53285,     0.53285,     0.53285,     0.52811,     0.52555,     0.52555,     0.52555,     0.52555,      0.5193,     0.51825,     0.51825,     0.51825,     0.51825,     0.51825,     0.51825,     0.51825,\n",
              "            0.51095,     0.50365,     0.49635,     0.49635,     0.49635,     0.49635,      0.4931,     0.48905,     0.48905,     0.48905,     0.48905,     0.48905,     0.48905,     0.48905,     0.48905,     0.48905,     0.48316,     0.48175,     0.48175,     0.48175,     0.48175,     0.48175,     0.48175,\n",
              "            0.48175,     0.47643,     0.47445,     0.46903,     0.45985,     0.45985,     0.45985,     0.45985,     0.45985,     0.45985,     0.45985,     0.45727,     0.45255,     0.45255,     0.45255,     0.45255,     0.45255,     0.45255,     0.45255,     0.45255,     0.45255,     0.44526,     0.44526,\n",
              "            0.44526,     0.43796,     0.43313,     0.43066,     0.43066,     0.42828,     0.42368,     0.42336,     0.42336,     0.42336,     0.41606,     0.41606,     0.41606,     0.41606,     0.41111,     0.40876,     0.40876,     0.40876,     0.40876,     0.40876,     0.40876,     0.40876,     0.40876,\n",
              "            0.40876,     0.40819,     0.40666,     0.40512,     0.40359,     0.40205,     0.40146,     0.40146,     0.40146,     0.40146,     0.40146,     0.40146,     0.40146,     0.39416,     0.39416,     0.39416,     0.39416,     0.39416,     0.39416,     0.39416,     0.39416,     0.39416,     0.39416,\n",
              "            0.39416,     0.39416,     0.39416,     0.38686,     0.38686,     0.38686,     0.38686,     0.38686,     0.38588,     0.38388,     0.38189,     0.37989,     0.37367,     0.36584,     0.36414,      0.3587,      0.3516,     0.35036,     0.35036,     0.35036,     0.35036,     0.35036,     0.35036,\n",
              "            0.34899,     0.34712,     0.34524,     0.34337,     0.34307,     0.34307,     0.34131,     0.33901,     0.33671,     0.33577,     0.33577,     0.33577,     0.33577,     0.33577,     0.33577,     0.33577,     0.33577,     0.33577,     0.33577,     0.33577,     0.33577,     0.33577,     0.33577,\n",
              "            0.33577,     0.33577,     0.33577,     0.33577,     0.33577,     0.33577,     0.33577,     0.33577,     0.33577,     0.33577,     0.33577,     0.33577,     0.33577,     0.33047,     0.32847,     0.32041,     0.31667,     0.31387,     0.31387,     0.31387,     0.30353,     0.29979,     0.29903,\n",
              "            0.29716,     0.29529,     0.29342,     0.29197,     0.29197,     0.29197,     0.29197,     0.29197,     0.29197,     0.29197,     0.29197,     0.29197,     0.29197,     0.29197,     0.29197,     0.28467,     0.28467,     0.28467,     0.28467,     0.27737,     0.27737,     0.27737,     0.27737,\n",
              "            0.27737,     0.27737,     0.27737,     0.27737,     0.27725,     0.27576,     0.27426,     0.27276,     0.27127,     0.27007,     0.27007,     0.27007,     0.27007,     0.27007,     0.27007,     0.27007,     0.26961,     0.26836,     0.26711,     0.26587,     0.26462,     0.26337,     0.25888,\n",
              "            0.24818,     0.24665,     0.24478,     0.24291,     0.24104,     0.23835,     0.23334,     0.23219,     0.23104,     0.22989,     0.22874,     0.22759,     0.22644,     0.22628,     0.22628,     0.22628,     0.22628,     0.22628,     0.22628,     0.22628,     0.22628,     0.22628,     0.22628,\n",
              "            0.22628,     0.22628,     0.22628,     0.22628,     0.22628,     0.22628,     0.22628,     0.22628,     0.22628,     0.22628,     0.22628,     0.22628,     0.22129,     0.21725,     0.21476,     0.21227,     0.20939,      0.2064,     0.20438,     0.20438,     0.20438,     0.20438,     0.20438,\n",
              "            0.20438,     0.20177,     0.19905,     0.19708,     0.19708,     0.19708,     0.19708,     0.18929,     0.18555,     0.18215,     0.18027,      0.1784,     0.17653,     0.17518,     0.17518,     0.17518,     0.17518,     0.17518,     0.17518,     0.17518,     0.17518,     0.17518,     0.17518,\n",
              "            0.17518,     0.17518,     0.17518,     0.17518,     0.17518,     0.17518,     0.17412,     0.17163,     0.16914,     0.16576,     0.16148,     0.16058,     0.16058,     0.16058,     0.16058,     0.16058,     0.16058,     0.16058,     0.16058,     0.15868,      0.1512,     0.14485,     0.14111,\n",
              "            0.13846,     0.13781,     0.13716,     0.13651,     0.13585,      0.1352,     0.13455,      0.1339,     0.13325,      0.1326,     0.13195,      0.1304,     0.12409,     0.12409,     0.12409,     0.12409,     0.12394,     0.12335,     0.12276,     0.12218,     0.12159,       0.121,     0.12042,\n",
              "            0.11983,     0.11924,     0.11866,     0.11807,     0.11748,      0.1169,     0.11652,     0.11619,     0.11586,     0.11553,      0.1152,     0.11488,     0.11455,     0.11422,     0.11389,     0.11356,     0.11323,      0.1129,     0.11257,     0.11224,     0.11192,     0.11159,     0.11126,\n",
              "            0.11093,      0.1106,     0.11027,     0.10994,     0.10961,     0.10949,     0.10949,     0.10949,     0.10949,     0.10949,     0.10949,     0.10949,     0.10949,     0.10949,     0.10949,     0.10949,     0.10949,     0.10949,     0.10949,     0.10949,      0.1094,     0.10219,     0.10219,\n",
              "            0.10219,     0.10219,     0.10219,     0.10219,     0.10219,     0.10219,     0.10219,     0.10219,     0.10219,     0.10219,     0.10219,     0.10219,     0.10219,     0.10219,     0.10219,     0.10219,     0.10219,     0.10219,     0.10219,     0.10219,     0.10219,     0.10219,     0.10219,\n",
              "            0.10219,     0.10219,     0.10219,     0.10084,    0.098973,    0.097103,    0.095232,      0.0874,    0.087166,    0.086933,    0.086699,    0.086465,    0.086231,    0.085997,    0.085763,     0.08553,    0.085296,    0.085062,    0.084828,    0.084594,    0.084361,    0.084127,    0.083893,\n",
              "           0.083659,    0.083425,    0.083192,    0.082958,    0.082724,     0.08249,    0.082256,    0.082022,    0.081789,    0.081555,    0.081321,    0.081087,    0.080853,     0.08062,    0.080386,    0.078053,    0.074312,    0.072301,    0.071232,    0.070163,    0.069094,    0.068025,    0.066956,\n",
              "           0.065888,    0.059571,    0.058394,    0.058394,    0.058394,    0.057798,    0.057148,    0.056497,    0.055846,    0.055196,    0.054545,    0.053895,    0.053244,    0.052593,    0.051943,    0.051292,    0.051095,    0.051095,    0.051095,    0.051095,    0.051095,    0.051095,    0.051095,\n",
              "           0.051095,    0.051095,    0.051095,    0.051095,     0.05085,    0.050596,    0.050343,    0.050089,    0.049836,    0.049582,    0.049328,    0.049075,    0.048821,    0.048567,    0.048314,     0.04806,    0.047807,    0.047553,    0.047299,    0.047046,    0.046792,    0.046538,    0.046285,\n",
              "           0.046031,    0.045778,    0.045524,     0.04527,    0.045017,    0.044763,    0.044509,    0.044256,    0.044002,    0.043449,    0.041578,    0.039708,    0.037837,    0.036496,    0.036496,    0.036496,    0.036496,    0.036496,    0.036496,    0.036496,    0.036496,    0.036496,    0.036496,\n",
              "           0.036496,    0.036496,    0.036496,    0.036496,    0.036496,    0.036496,    0.036496,    0.036496,    0.036496,    0.036496,    0.035608,    0.034457,    0.033306,    0.032155,    0.031004,    0.029853,    0.027051,    0.022063,    0.020785,    0.019634,    0.018483,    0.017332,    0.016181,\n",
              "            0.01503,    0.014599,    0.014599,    0.014599,    0.014599,    0.014599,    0.014599,    0.014599,    0.014599,    0.014599,    0.014599,    0.014599,    0.014599,    0.014599,    0.014599,    0.014599,    0.014599,    0.014599,    0.014599,    0.014599,    0.014599,    0.014599,    0.014599,\n",
              "           0.014599,    0.014599,    0.014599,    0.014599,    0.014599,    0.014599,    0.014599,    0.014599,    0.014599,    0.014599,    0.014599,    0.014599,    0.014599,    0.014599,    0.014599,    0.014599,    0.014599,    0.014599,    0.014599,    0.014599,    0.014599,    0.014599,    0.014599,\n",
              "           0.014599,    0.014599,    0.014599,    0.014599,    0.014599,    0.014599,    0.014599,    0.014599,    0.014599,    0.014599,    0.014599,    0.014599,    0.014599,    0.014599,    0.014599,    0.014599,    0.014599,    0.014599,    0.014599,    0.014599,    0.014599,    0.014599,    0.014599,\n",
              "           0.014599,    0.014599,    0.014599,    0.014599,    0.014599,    0.014599,    0.014599,    0.014599,    0.014599,    0.014599,    0.014599,    0.014599,    0.014599,    0.014599,    0.014599,    0.014599,    0.014599,    0.014599,    0.014599,    0.014599,    0.014599,    0.014599,    0.014599,\n",
              "           0.014599,    0.014599,    0.014599,    0.014599,    0.014599,    0.014599,    0.014599,    0.014599,    0.014599,    0.014599,    0.014599,    0.014599,    0.014599,    0.014599,    0.014599,    0.014599,    0.014599,    0.014599,    0.014599,    0.014599,    0.014599,    0.014599,    0.014599,\n",
              "           0.014599,    0.014599,    0.014599,    0.014599,    0.014599,    0.014599,    0.014599,    0.014599,    0.014479,    0.014303,    0.014127,    0.013951,    0.013775,    0.013599,    0.013423,    0.013247,    0.013071,    0.012895,    0.012719,    0.012543,    0.012367,    0.012191,    0.012015,\n",
              "           0.011839,    0.011663,    0.011487,     0.01131,    0.011134,    0.010958,    0.010782,    0.010606,     0.01043,    0.010254,    0.010078,   0.0099021,   0.0097261,     0.00955,    0.009374,   0.0091979,   0.0090219,   0.0088459,   0.0086698,   0.0084938,   0.0083177,   0.0081417,   0.0079656,\n",
              "          0.0077896,   0.0076135,   0.0074375,           0,           0,           0,           0,           0,           0,           0,           0,           0,           0,           0,           0,           0,           0,           0,           0,           0,           0,           0,           0,\n",
              "                  0,           0,           0,           0,           0,           0,           0,           0,           0,           0,           0,           0,           0,           0,           0,           0,           0,           0,           0,           0,           0,           0,           0,\n",
              "                  0,           0,           0,           0,           0,           0,           0,           0,           0,           0,           0,           0,           0,           0,           0,           0,           0,           0,           0,           0,           0,           0,           0,\n",
              "                  0,           0,           0,           0,           0,           0,           0,           0,           0,           0,           0,           0,           0,           0,           0,           0,           0,           0,           0,           0,           0,           0,           0,\n",
              "                  0,           0,           0,           0,           0,           0,           0,           0,           0,           0,           0,           0,           0,           0,           0,           0,           0,           0,           0,           0,           0,           0,           0,\n",
              "                  0,           0,           0,           0,           0,           0,           0,           0,           0,           0,           0,           0,           0,           0,           0,           0,           0,           0,           0,           0,           0,           0,           0,\n",
              "                  0,           0,           0,           0,           0,           0,           0,           0,           0,           0,           0,           0,           0,           0,           0,           0,           0,           0,           0,           0,           0,           0,           0,\n",
              "                  0,           0,           0,           0,           0,           0,           0,           0,           0,           0,           0,           0,           0,           0,           0,           0,           0,           0,           0,           0,           0,           0,           0,\n",
              "                  0,           0,           0,           0,           0,           0,           0,           0,           0,           0,           0]]), 'Confidence', 'Recall']]\n",
              "fitness: np.float64(0.1724995923964102)\n",
              "keys: ['metrics/precision(B)', 'metrics/recall(B)', 'metrics/mAP50(B)', 'metrics/mAP50-95(B)']\n",
              "maps: array([    0.15674])\n",
              "names: {0: 'Bone Loss'}\n",
              "nt_per_class: array([137])\n",
              "nt_per_image: array([122])\n",
              "results_dict: {'metrics/precision(B)': np.float64(0.3911829290855214), 'metrics/recall(B)': np.float64(0.3798920575076293), 'metrics/mAP50(B)': np.float64(0.3143385681625007), 'metrics/mAP50-95(B)': np.float64(0.1567397062001779), 'fitness': np.float64(0.1724995923964102)}\n",
              "save_dir: PosixPath('runs/detect/train')\n",
              "speed: {'preprocess': 0.38046060437362317, 'inference': 4.72467085487723, 'loss': 0.0008578886669168479, 'postprocess': 3.134543870775677}\n",
              "stats: {'tp': [], 'conf': [], 'pred_cls': [], 'target_cls': [], 'target_img': []}\n",
              "task: 'detect'"
            ]
          },
          "metadata": {},
          "execution_count": 7
        }
      ]
    },
    {
      "cell_type": "code",
      "source": [
        "metrics = model.val()"
      ],
      "metadata": {
        "colab": {
          "base_uri": "https://localhost:8080/"
        },
        "id": "RDjn0Z1MzvzF",
        "outputId": "89172036-e385-488d-b171-958189f14a95"
      },
      "execution_count": 8,
      "outputs": [
        {
          "output_type": "stream",
          "name": "stdout",
          "text": [
            "Ultralytics 8.3.170 🚀 Python-3.11.13 torch-2.6.0+cu124 CUDA:0 (Tesla T4, 15095MiB)\n",
            "Model summary (fused): 72 layers, 11,125,971 parameters, 0 gradients, 28.4 GFLOPs\n",
            "\u001b[34m\u001b[1mval: \u001b[0mFast image access ✅ (ping: 0.0±0.0 ms, read: 953.1±477.7 MB/s, size: 38.3 KB)\n"
          ]
        },
        {
          "output_type": "stream",
          "name": "stderr",
          "text": [
            "\u001b[34m\u001b[1mval: \u001b[0mScanning /content/dadad-rvg-2/valid/labels.cache... 503 images, 381 backgrounds, 0 corrupt: 100%|██████████| 503/503 [00:00<?, ?it/s]\n",
            "                 Class     Images  Instances      Box(P          R      mAP50  mAP50-95): 100%|██████████| 63/63 [00:07<00:00,  8.64it/s]\n"
          ]
        },
        {
          "output_type": "stream",
          "name": "stdout",
          "text": [
            "                   all        503        137       0.39      0.378      0.314      0.155\n",
            "Speed: 1.2ms preprocess, 10.0ms inference, 0.0ms loss, 1.3ms postprocess per image\n",
            "Results saved to \u001b[1mruns/detect/train2\u001b[0m\n"
          ]
        }
      ]
    },
    {
      "cell_type": "code",
      "source": [
        "print(metrics)"
      ],
      "metadata": {
        "colab": {
          "base_uri": "https://localhost:8080/"
        },
        "id": "xHnd1Nxmzw3B",
        "outputId": "aef92c67-9b4e-4ebe-a290-830e6500b1c9"
      },
      "execution_count": 9,
      "outputs": [
        {
          "output_type": "stream",
          "name": "stdout",
          "text": [
            "ultralytics.utils.metrics.DetMetrics object with attributes:\n",
            "\n",
            "ap_class_index: array([0])\n",
            "box: ultralytics.utils.metrics.Metric object\n",
            "confusion_matrix: <ultralytics.utils.metrics.ConfusionMatrix object at 0x7db99c628f50>\n",
            "curves: ['Precision-Recall(B)', 'F1-Confidence(B)', 'Precision-Confidence(B)', 'Recall-Confidence(B)']\n",
            "curves_results: [[array([          0,    0.001001,    0.002002,    0.003003,    0.004004,    0.005005,    0.006006,    0.007007,    0.008008,    0.009009,     0.01001,    0.011011,    0.012012,    0.013013,    0.014014,    0.015015,    0.016016,    0.017017,    0.018018,    0.019019,     0.02002,    0.021021,    0.022022,    0.023023,\n",
            "          0.024024,    0.025025,    0.026026,    0.027027,    0.028028,    0.029029,     0.03003,    0.031031,    0.032032,    0.033033,    0.034034,    0.035035,    0.036036,    0.037037,    0.038038,    0.039039,     0.04004,    0.041041,    0.042042,    0.043043,    0.044044,    0.045045,    0.046046,    0.047047,\n",
            "          0.048048,    0.049049,     0.05005,    0.051051,    0.052052,    0.053053,    0.054054,    0.055055,    0.056056,    0.057057,    0.058058,    0.059059,     0.06006,    0.061061,    0.062062,    0.063063,    0.064064,    0.065065,    0.066066,    0.067067,    0.068068,    0.069069,     0.07007,    0.071071,\n",
            "          0.072072,    0.073073,    0.074074,    0.075075,    0.076076,    0.077077,    0.078078,    0.079079,     0.08008,    0.081081,    0.082082,    0.083083,    0.084084,    0.085085,    0.086086,    0.087087,    0.088088,    0.089089,     0.09009,    0.091091,    0.092092,    0.093093,    0.094094,    0.095095,\n",
            "          0.096096,    0.097097,    0.098098,    0.099099,      0.1001,      0.1011,      0.1021,      0.1031,      0.1041,     0.10511,     0.10611,     0.10711,     0.10811,     0.10911,     0.11011,     0.11111,     0.11211,     0.11311,     0.11411,     0.11512,     0.11612,     0.11712,     0.11812,     0.11912,\n",
            "           0.12012,     0.12112,     0.12212,     0.12312,     0.12412,     0.12513,     0.12613,     0.12713,     0.12813,     0.12913,     0.13013,     0.13113,     0.13213,     0.13313,     0.13413,     0.13514,     0.13614,     0.13714,     0.13814,     0.13914,     0.14014,     0.14114,     0.14214,     0.14314,\n",
            "           0.14414,     0.14515,     0.14615,     0.14715,     0.14815,     0.14915,     0.15015,     0.15115,     0.15215,     0.15315,     0.15415,     0.15516,     0.15616,     0.15716,     0.15816,     0.15916,     0.16016,     0.16116,     0.16216,     0.16316,     0.16416,     0.16517,     0.16617,     0.16717,\n",
            "           0.16817,     0.16917,     0.17017,     0.17117,     0.17217,     0.17317,     0.17417,     0.17518,     0.17618,     0.17718,     0.17818,     0.17918,     0.18018,     0.18118,     0.18218,     0.18318,     0.18418,     0.18519,     0.18619,     0.18719,     0.18819,     0.18919,     0.19019,     0.19119,\n",
            "           0.19219,     0.19319,     0.19419,      0.1952,      0.1962,      0.1972,      0.1982,      0.1992,      0.2002,      0.2012,      0.2022,      0.2032,      0.2042,     0.20521,     0.20621,     0.20721,     0.20821,     0.20921,     0.21021,     0.21121,     0.21221,     0.21321,     0.21421,     0.21522,\n",
            "           0.21622,     0.21722,     0.21822,     0.21922,     0.22022,     0.22122,     0.22222,     0.22322,     0.22422,     0.22523,     0.22623,     0.22723,     0.22823,     0.22923,     0.23023,     0.23123,     0.23223,     0.23323,     0.23423,     0.23524,     0.23624,     0.23724,     0.23824,     0.23924,\n",
            "           0.24024,     0.24124,     0.24224,     0.24324,     0.24424,     0.24525,     0.24625,     0.24725,     0.24825,     0.24925,     0.25025,     0.25125,     0.25225,     0.25325,     0.25425,     0.25526,     0.25626,     0.25726,     0.25826,     0.25926,     0.26026,     0.26126,     0.26226,     0.26326,\n",
            "           0.26426,     0.26527,     0.26627,     0.26727,     0.26827,     0.26927,     0.27027,     0.27127,     0.27227,     0.27327,     0.27427,     0.27528,     0.27628,     0.27728,     0.27828,     0.27928,     0.28028,     0.28128,     0.28228,     0.28328,     0.28428,     0.28529,     0.28629,     0.28729,\n",
            "           0.28829,     0.28929,     0.29029,     0.29129,     0.29229,     0.29329,     0.29429,      0.2953,      0.2963,      0.2973,      0.2983,      0.2993,      0.3003,      0.3013,      0.3023,      0.3033,      0.3043,     0.30531,     0.30631,     0.30731,     0.30831,     0.30931,     0.31031,     0.31131,\n",
            "           0.31231,     0.31331,     0.31431,     0.31532,     0.31632,     0.31732,     0.31832,     0.31932,     0.32032,     0.32132,     0.32232,     0.32332,     0.32432,     0.32533,     0.32633,     0.32733,     0.32833,     0.32933,     0.33033,     0.33133,     0.33233,     0.33333,     0.33433,     0.33534,\n",
            "           0.33634,     0.33734,     0.33834,     0.33934,     0.34034,     0.34134,     0.34234,     0.34334,     0.34434,     0.34535,     0.34635,     0.34735,     0.34835,     0.34935,     0.35035,     0.35135,     0.35235,     0.35335,     0.35435,     0.35536,     0.35636,     0.35736,     0.35836,     0.35936,\n",
            "           0.36036,     0.36136,     0.36236,     0.36336,     0.36436,     0.36537,     0.36637,     0.36737,     0.36837,     0.36937,     0.37037,     0.37137,     0.37237,     0.37337,     0.37437,     0.37538,     0.37638,     0.37738,     0.37838,     0.37938,     0.38038,     0.38138,     0.38238,     0.38338,\n",
            "           0.38438,     0.38539,     0.38639,     0.38739,     0.38839,     0.38939,     0.39039,     0.39139,     0.39239,     0.39339,     0.39439,      0.3954,      0.3964,      0.3974,      0.3984,      0.3994,      0.4004,      0.4014,      0.4024,      0.4034,      0.4044,     0.40541,     0.40641,     0.40741,\n",
            "           0.40841,     0.40941,     0.41041,     0.41141,     0.41241,     0.41341,     0.41441,     0.41542,     0.41642,     0.41742,     0.41842,     0.41942,     0.42042,     0.42142,     0.42242,     0.42342,     0.42442,     0.42543,     0.42643,     0.42743,     0.42843,     0.42943,     0.43043,     0.43143,\n",
            "           0.43243,     0.43343,     0.43443,     0.43544,     0.43644,     0.43744,     0.43844,     0.43944,     0.44044,     0.44144,     0.44244,     0.44344,     0.44444,     0.44545,     0.44645,     0.44745,     0.44845,     0.44945,     0.45045,     0.45145,     0.45245,     0.45345,     0.45445,     0.45546,\n",
            "           0.45646,     0.45746,     0.45846,     0.45946,     0.46046,     0.46146,     0.46246,     0.46346,     0.46446,     0.46547,     0.46647,     0.46747,     0.46847,     0.46947,     0.47047,     0.47147,     0.47247,     0.47347,     0.47447,     0.47548,     0.47648,     0.47748,     0.47848,     0.47948,\n",
            "           0.48048,     0.48148,     0.48248,     0.48348,     0.48448,     0.48549,     0.48649,     0.48749,     0.48849,     0.48949,     0.49049,     0.49149,     0.49249,     0.49349,     0.49449,      0.4955,      0.4965,      0.4975,      0.4985,      0.4995,      0.5005,      0.5015,      0.5025,      0.5035,\n",
            "            0.5045,     0.50551,     0.50651,     0.50751,     0.50851,     0.50951,     0.51051,     0.51151,     0.51251,     0.51351,     0.51451,     0.51552,     0.51652,     0.51752,     0.51852,     0.51952,     0.52052,     0.52152,     0.52252,     0.52352,     0.52452,     0.52553,     0.52653,     0.52753,\n",
            "           0.52853,     0.52953,     0.53053,     0.53153,     0.53253,     0.53353,     0.53453,     0.53554,     0.53654,     0.53754,     0.53854,     0.53954,     0.54054,     0.54154,     0.54254,     0.54354,     0.54454,     0.54555,     0.54655,     0.54755,     0.54855,     0.54955,     0.55055,     0.55155,\n",
            "           0.55255,     0.55355,     0.55455,     0.55556,     0.55656,     0.55756,     0.55856,     0.55956,     0.56056,     0.56156,     0.56256,     0.56356,     0.56456,     0.56557,     0.56657,     0.56757,     0.56857,     0.56957,     0.57057,     0.57157,     0.57257,     0.57357,     0.57457,     0.57558,\n",
            "           0.57658,     0.57758,     0.57858,     0.57958,     0.58058,     0.58158,     0.58258,     0.58358,     0.58458,     0.58559,     0.58659,     0.58759,     0.58859,     0.58959,     0.59059,     0.59159,     0.59259,     0.59359,     0.59459,      0.5956,      0.5966,      0.5976,      0.5986,      0.5996,\n",
            "            0.6006,      0.6016,      0.6026,      0.6036,      0.6046,     0.60561,     0.60661,     0.60761,     0.60861,     0.60961,     0.61061,     0.61161,     0.61261,     0.61361,     0.61461,     0.61562,     0.61662,     0.61762,     0.61862,     0.61962,     0.62062,     0.62162,     0.62262,     0.62362,\n",
            "           0.62462,     0.62563,     0.62663,     0.62763,     0.62863,     0.62963,     0.63063,     0.63163,     0.63263,     0.63363,     0.63463,     0.63564,     0.63664,     0.63764,     0.63864,     0.63964,     0.64064,     0.64164,     0.64264,     0.64364,     0.64464,     0.64565,     0.64665,     0.64765,\n",
            "           0.64865,     0.64965,     0.65065,     0.65165,     0.65265,     0.65365,     0.65465,     0.65566,     0.65666,     0.65766,     0.65866,     0.65966,     0.66066,     0.66166,     0.66266,     0.66366,     0.66466,     0.66567,     0.66667,     0.66767,     0.66867,     0.66967,     0.67067,     0.67167,\n",
            "           0.67267,     0.67367,     0.67467,     0.67568,     0.67668,     0.67768,     0.67868,     0.67968,     0.68068,     0.68168,     0.68268,     0.68368,     0.68468,     0.68569,     0.68669,     0.68769,     0.68869,     0.68969,     0.69069,     0.69169,     0.69269,     0.69369,     0.69469,      0.6957,\n",
            "            0.6967,      0.6977,      0.6987,      0.6997,      0.7007,      0.7017,      0.7027,      0.7037,      0.7047,     0.70571,     0.70671,     0.70771,     0.70871,     0.70971,     0.71071,     0.71171,     0.71271,     0.71371,     0.71471,     0.71572,     0.71672,     0.71772,     0.71872,     0.71972,\n",
            "           0.72072,     0.72172,     0.72272,     0.72372,     0.72472,     0.72573,     0.72673,     0.72773,     0.72873,     0.72973,     0.73073,     0.73173,     0.73273,     0.73373,     0.73473,     0.73574,     0.73674,     0.73774,     0.73874,     0.73974,     0.74074,     0.74174,     0.74274,     0.74374,\n",
            "           0.74474,     0.74575,     0.74675,     0.74775,     0.74875,     0.74975,     0.75075,     0.75175,     0.75275,     0.75375,     0.75475,     0.75576,     0.75676,     0.75776,     0.75876,     0.75976,     0.76076,     0.76176,     0.76276,     0.76376,     0.76476,     0.76577,     0.76677,     0.76777,\n",
            "           0.76877,     0.76977,     0.77077,     0.77177,     0.77277,     0.77377,     0.77477,     0.77578,     0.77678,     0.77778,     0.77878,     0.77978,     0.78078,     0.78178,     0.78278,     0.78378,     0.78478,     0.78579,     0.78679,     0.78779,     0.78879,     0.78979,     0.79079,     0.79179,\n",
            "           0.79279,     0.79379,     0.79479,      0.7958,      0.7968,      0.7978,      0.7988,      0.7998,      0.8008,      0.8018,      0.8028,      0.8038,      0.8048,     0.80581,     0.80681,     0.80781,     0.80881,     0.80981,     0.81081,     0.81181,     0.81281,     0.81381,     0.81481,     0.81582,\n",
            "           0.81682,     0.81782,     0.81882,     0.81982,     0.82082,     0.82182,     0.82282,     0.82382,     0.82482,     0.82583,     0.82683,     0.82783,     0.82883,     0.82983,     0.83083,     0.83183,     0.83283,     0.83383,     0.83483,     0.83584,     0.83684,     0.83784,     0.83884,     0.83984,\n",
            "           0.84084,     0.84184,     0.84284,     0.84384,     0.84484,     0.84585,     0.84685,     0.84785,     0.84885,     0.84985,     0.85085,     0.85185,     0.85285,     0.85385,     0.85485,     0.85586,     0.85686,     0.85786,     0.85886,     0.85986,     0.86086,     0.86186,     0.86286,     0.86386,\n",
            "           0.86486,     0.86587,     0.86687,     0.86787,     0.86887,     0.86987,     0.87087,     0.87187,     0.87287,     0.87387,     0.87487,     0.87588,     0.87688,     0.87788,     0.87888,     0.87988,     0.88088,     0.88188,     0.88288,     0.88388,     0.88488,     0.88589,     0.88689,     0.88789,\n",
            "           0.88889,     0.88989,     0.89089,     0.89189,     0.89289,     0.89389,     0.89489,      0.8959,      0.8969,      0.8979,      0.8989,      0.8999,      0.9009,      0.9019,      0.9029,      0.9039,      0.9049,     0.90591,     0.90691,     0.90791,     0.90891,     0.90991,     0.91091,     0.91191,\n",
            "           0.91291,     0.91391,     0.91491,     0.91592,     0.91692,     0.91792,     0.91892,     0.91992,     0.92092,     0.92192,     0.92292,     0.92392,     0.92492,     0.92593,     0.92693,     0.92793,     0.92893,     0.92993,     0.93093,     0.93193,     0.93293,     0.93393,     0.93493,     0.93594,\n",
            "           0.93694,     0.93794,     0.93894,     0.93994,     0.94094,     0.94194,     0.94294,     0.94394,     0.94494,     0.94595,     0.94695,     0.94795,     0.94895,     0.94995,     0.95095,     0.95195,     0.95295,     0.95395,     0.95495,     0.95596,     0.95696,     0.95796,     0.95896,     0.95996,\n",
            "           0.96096,     0.96196,     0.96296,     0.96396,     0.96496,     0.96597,     0.96697,     0.96797,     0.96897,     0.96997,     0.97097,     0.97197,     0.97297,     0.97397,     0.97497,     0.97598,     0.97698,     0.97798,     0.97898,     0.97998,     0.98098,     0.98198,     0.98298,     0.98398,\n",
            "           0.98498,     0.98599,     0.98699,     0.98799,     0.98899,     0.98999,     0.99099,     0.99199,     0.99299,     0.99399,     0.99499,       0.996,       0.997,       0.998,       0.999,           1]), array([[          1,           1,           1,           1,           1,           1,           1,           1,           1,           1,           1,           1,           1,           1,           1,     0.66667,     0.66667,     0.66667,     0.66667,     0.66667,     0.66667,     0.66667,     0.66667,\n",
            "            0.66667,     0.66667,     0.66667,     0.66667,     0.66667,     0.66667,     0.66667,     0.66667,     0.66667,     0.66667,     0.66667,     0.66667,     0.66667,     0.66667,     0.66667,     0.66667,     0.66667,     0.66667,     0.66667,     0.66667,     0.66667,     0.66667,     0.66667,\n",
            "            0.66667,     0.66667,     0.66667,     0.66667,     0.66667,     0.66667,     0.66667,     0.66667,     0.66667,     0.66667,     0.66667,     0.66667,     0.66667,     0.66667,     0.66667,     0.66667,     0.66667,     0.66667,     0.66667,     0.66667,     0.66667,     0.66667,     0.66667,\n",
            "            0.66667,     0.66667,     0.66667,     0.66667,     0.66667,     0.66667,     0.66667,     0.66667,     0.66667,     0.66667,     0.66667,     0.66667,     0.66667,     0.66667,     0.66667,     0.66667,     0.66667,     0.66667,     0.66667,     0.66667,     0.66667,     0.66667,     0.66667,\n",
            "            0.66667,     0.66667,     0.66667,     0.66667,     0.66667,     0.66667,     0.66667,     0.66667,     0.66667,     0.66667,     0.66667,         0.6,         0.6,         0.6,         0.6,         0.6,         0.6,         0.6,         0.6,         0.6,         0.6,         0.6,         0.6,\n",
            "                0.6,         0.6,         0.6,         0.6,         0.6,         0.6,         0.6,         0.6,         0.6,         0.6,         0.6,         0.6,         0.6,         0.6,         0.6,         0.6,         0.6,         0.6,         0.6,         0.6,         0.6,         0.6,         0.6,\n",
            "                0.6,         0.6,         0.6,         0.6,         0.6,         0.6,         0.6,         0.6,         0.6,         0.6,         0.6,         0.6,         0.6,         0.6,         0.6,         0.6,     0.59459,     0.59459,     0.59459,     0.59459,     0.59459,     0.59459,     0.59459,\n",
            "            0.58974,     0.58974,     0.58974,     0.58974,     0.58974,     0.58974,     0.58974,     0.58696,     0.58696,     0.58696,     0.58696,     0.58696,     0.58696,     0.58696,     0.58696,     0.58696,     0.58696,     0.58696,     0.58696,     0.58696,     0.58696,     0.58696,     0.58696,\n",
            "            0.58696,     0.58696,     0.58696,     0.58696,     0.58696,     0.58696,     0.58696,     0.58696,     0.58696,     0.58696,     0.58696,     0.58696,     0.58696,     0.57143,     0.57143,     0.57143,     0.57143,     0.57143,     0.57143,     0.57143,     0.57143,     0.54386,     0.54386,\n",
            "            0.54386,     0.54386,     0.54386,     0.54386,     0.54386,     0.54386,     0.54386,     0.54386,     0.54386,     0.54386,     0.54386,     0.54386,     0.54386,     0.54386,     0.54386,     0.54386,     0.54386,     0.54386,     0.54386,     0.54386,     0.48052,     0.48052,     0.48052,\n",
            "            0.48052,     0.48052,     0.48052,     0.48052,     0.48052,     0.48052,     0.48052,     0.48052,     0.48052,     0.48052,     0.48052,     0.48052,     0.48052,     0.48052,     0.48052,     0.48052,     0.48052,     0.48052,     0.48052,     0.48052,     0.48052,     0.48052,     0.48052,\n",
            "            0.48052,     0.48052,     0.48052,     0.48052,     0.48052,     0.48052,     0.48052,     0.48052,     0.48052,     0.48052,     0.48052,     0.48052,     0.48052,     0.48052,     0.48052,     0.48052,     0.48052,     0.46914,     0.46914,     0.46914,     0.46914,     0.46914,     0.46914,\n",
            "            0.46914,     0.46914,     0.45882,     0.45882,     0.45882,     0.45882,     0.45882,     0.45882,     0.45882,     0.45745,     0.45745,     0.45745,     0.45745,     0.45745,     0.45745,     0.45745,     0.45745,     0.45745,     0.45745,     0.45745,     0.45745,     0.45745,     0.45745,\n",
            "            0.45745,     0.45745,     0.45745,     0.45745,     0.45745,     0.45745,     0.45745,     0.45745,     0.45745,     0.45745,     0.45745,     0.45745,     0.45745,     0.45745,     0.45745,     0.45455,     0.45455,     0.45455,     0.45455,     0.45455,     0.45455,     0.45455,     0.45455,\n",
            "            0.45455,     0.45455,     0.45455,     0.45455,     0.45455,     0.45455,     0.45455,     0.45098,     0.45098,     0.45098,     0.45098,     0.45098,     0.45098,     0.45098,     0.39669,     0.39669,     0.39669,     0.39669,     0.39669,     0.39669,     0.39669,     0.39669,     0.39669,\n",
            "            0.39669,     0.39669,     0.39669,     0.39669,     0.39669,     0.39669,     0.39098,     0.39098,     0.39098,     0.39098,     0.39098,     0.39098,     0.39098,     0.39098,     0.39098,     0.39098,     0.39098,     0.39098,     0.39098,     0.39098,     0.39098,     0.39098,     0.39098,\n",
            "            0.39098,     0.39098,     0.39098,     0.39098,     0.39098,     0.39098,     0.39098,     0.39098,     0.39098,     0.39098,     0.39098,     0.39098,     0.38971,     0.38971,     0.38971,     0.38971,     0.38971,     0.38971,     0.38971,     0.38571,     0.38571,     0.38571,     0.38571,\n",
            "            0.38571,     0.38571,     0.38571,     0.36667,     0.36667,     0.36667,     0.36667,     0.36667,     0.36667,     0.36667,     0.36667,     0.36364,     0.36364,     0.36364,     0.36364,     0.36364,     0.36364,     0.36364,     0.34756,     0.34756,     0.34756,     0.34756,     0.34756,\n",
            "            0.34756,     0.34756,     0.34118,     0.34118,     0.34118,     0.34118,     0.34118,     0.34118,     0.34118,     0.33333,     0.33333,     0.33333,     0.33333,     0.33333,     0.33333,     0.33333,     0.33333,     0.33152,     0.33152,     0.33152,     0.33152,     0.33152,     0.33152,\n",
            "            0.33152,     0.33152,     0.33152,     0.33152,     0.33152,     0.33152,     0.33152,     0.33152,     0.32979,     0.32979,     0.32979,     0.32979,     0.32979,     0.32979,     0.32979,     0.32979,     0.31818,     0.31818,     0.31818,     0.31818,     0.31818,     0.31818,     0.31818,\n",
            "            0.30415,     0.30415,     0.30415,     0.30415,     0.30415,     0.30415,     0.30415,     0.30415,     0.30415,     0.30415,     0.30415,     0.30415,     0.30415,     0.30415,     0.30415,     0.30415,     0.30415,     0.30415,     0.30415,     0.30415,     0.30415,     0.30415,     0.28879,\n",
            "            0.28879,     0.28879,     0.28879,     0.28879,     0.28879,     0.28879,     0.26054,     0.26054,     0.26054,     0.26054,     0.26054,     0.26054,     0.26054,     0.25362,     0.25362,     0.25362,     0.25362,     0.25362,     0.25362,     0.25362,     0.25362,     0.25362,     0.25362,\n",
            "            0.25362,     0.25362,     0.25362,     0.25362,     0.25362,     0.25357,     0.25357,     0.25357,     0.25357,     0.25357,     0.25357,     0.25357,     0.23607,     0.23607,     0.23607,     0.23607,     0.23607,     0.23607,     0.23607,     0.23607,     0.23323,     0.23323,     0.23323,\n",
            "            0.23323,     0.23323,     0.23323,     0.23323,     0.22388,     0.22388,     0.22388,     0.22388,     0.22388,     0.22388,     0.22388,     0.22388,     0.22388,     0.22388,     0.22388,     0.22388,     0.22388,     0.22388,     0.22287,     0.22287,     0.22287,     0.22287,     0.22287,\n",
            "            0.22287,     0.22287,     0.22287,     0.20433,     0.20433,     0.20433,     0.20433,     0.20433,     0.20433,     0.20433,     0.20433,     0.20433,     0.20433,     0.20433,     0.20433,     0.20433,     0.20433,     0.20433,     0.20433,     0.20433,     0.20433,     0.20433,     0.20433,\n",
            "            0.20433,     0.20433,     0.20433,     0.20433,     0.20433,     0.20433,     0.20433,     0.20433,     0.20433,     0.20433,     0.20433,     0.20433,     0.20433,     0.20433,     0.20433,     0.20433,     0.20433,     0.20433,     0.20433,     0.20433,     0.20433,     0.20433,     0.20433,\n",
            "            0.20433,     0.20433,     0.20433,     0.20433,     0.20433,     0.20433,     0.20433,     0.20433,     0.20433,     0.20433,     0.20433,     0.20433,     0.20433,     0.20433,     0.20433,     0.20433,     0.20433,     0.20433,     0.20433,     0.20433,     0.20433,     0.20433,     0.20188,\n",
            "            0.20188,     0.20188,     0.20188,     0.20188,     0.20188,     0.20188,     0.20188,     0.17383,     0.17383,     0.17383,     0.17383,     0.17383,     0.17383,     0.17383,     0.17383,     0.17383,     0.17383,     0.17383,     0.17383,     0.17383,     0.17383,     0.17383,     0.17383,\n",
            "            0.17383,     0.17383,     0.17383,     0.17383,     0.17383,     0.17341,     0.17341,     0.17341,     0.17341,     0.17341,     0.17341,     0.17341,     0.17341,     0.15909,     0.15909,     0.15909,     0.15909,     0.15909,     0.15909,     0.15909,     0.15541,     0.15541,     0.15541,\n",
            "            0.15541,     0.15541,     0.15541,     0.15541,     0.15024,     0.15024,     0.15024,     0.15024,     0.15024,     0.15024,     0.15024,     0.15024,     0.14937,     0.14937,     0.14937,     0.14937,     0.14937,     0.14937,     0.14937,     0.14937,     0.14937,     0.14937,     0.14937,\n",
            "            0.14937,     0.14937,     0.14937,      0.1493,      0.1493,      0.1493,      0.1493,      0.1493,      0.1493,      0.1493,      0.1493,     0.13937,     0.13937,     0.13937,     0.13937,     0.13937,     0.13937,     0.13937,     0.13555,     0.13555,     0.13555,     0.13555,     0.13555,\n",
            "            0.13555,     0.13555,     0.13506,     0.13506,     0.13506,     0.13506,     0.13506,     0.13506,     0.13506,     0.13351,     0.13351,     0.13351,     0.13351,     0.13351,     0.13351,     0.13351,     0.13351,     0.12125,     0.12125,     0.12125,     0.12125,     0.12125,     0.12125,\n",
            "            0.12125,     0.12061,     0.12061,     0.12061,     0.12061,     0.12061,     0.12061,     0.12061,     0.12061,     0.12061,     0.12061,     0.12061,     0.12061,     0.12061,     0.12061,     0.12061,      0.1162,      0.1162,      0.1162,      0.1162,      0.1162,      0.1162,      0.1162,\n",
            "            0.11206,     0.11206,     0.11206,     0.11206,     0.11206,     0.11206,     0.11206,     0.11007,     0.11007,     0.11007,     0.11007,     0.11007,     0.11007,     0.11007,     0.10832,     0.10832,     0.10832,     0.10832,     0.10832,     0.10832,     0.10832,     0.10832,     0.10832,\n",
            "            0.10832,     0.10832,     0.10832,     0.10832,     0.10832,     0.10832,     0.10018,     0.10018,     0.10018,     0.10018,     0.10018,     0.10018,     0.10018,    0.089069,    0.089069,    0.089069,    0.089069,    0.089069,    0.089069,    0.089069,    0.089069,    0.086854,    0.086854,\n",
            "           0.086854,    0.086854,    0.086854,    0.086854,    0.086854,    0.084211,    0.084211,    0.084211,    0.084211,    0.084211,    0.084211,    0.084211,    0.082845,    0.082845,    0.082845,    0.082845,    0.082845,    0.082845,    0.082845,    0.082133,    0.082133,    0.082133,    0.082133,\n",
            "           0.082133,    0.082133,    0.082133,    0.082133,    0.080532,    0.080532,    0.080532,    0.080532,    0.080532,    0.080532,    0.080532,    0.073744,    0.073744,    0.073744,    0.073744,    0.073744,    0.073744,    0.073744,    0.072852,    0.072852,    0.072852,    0.072852,    0.072852,\n",
            "           0.072852,    0.072852,    0.072852,    0.067275,    0.067275,    0.067275,    0.067275,    0.067275,    0.067275,    0.067275,    0.065359,    0.065359,    0.065359,    0.065359,    0.065359,    0.065359,    0.065359,    0.065359,    0.065359,    0.065359,    0.065359,    0.065359,    0.065359,\n",
            "           0.065359,    0.065359,    0.060804,    0.060804,    0.060804,    0.060804,    0.060804,    0.060804,    0.060804,    0.057656,    0.057656,    0.057656,    0.057656,    0.057656,    0.057656,    0.057656,    0.052926,    0.052926,    0.052926,    0.052926,    0.052926,    0.052926,    0.052926,\n",
            "           0.044911,    0.044911,    0.044911,    0.044911,    0.044911,    0.044911,    0.044911,    0.044911,    0.043403,    0.043403,    0.043403,    0.043403,    0.043403,    0.043403,    0.043403,    0.039326,    0.039326,    0.039326,    0.039326,    0.039326,    0.039326,    0.039326,    0.023863,\n",
            "           0.023863,    0.023863,    0.023863,    0.023863,    0.023863,    0.023863,    0.023863,    0.020398,    0.020398,    0.020398,    0.020398,    0.020398,    0.020398,    0.020398,    0.016535,    0.016281,    0.016026,    0.015772,    0.015518,    0.015263,    0.015009,    0.014755,      0.0145,\n",
            "           0.014246,    0.013991,    0.013737,    0.013483,    0.013228,    0.012974,    0.012719,    0.012465,    0.012211,    0.011956,    0.011702,    0.011447,    0.011193,    0.010939,    0.010684,     0.01043,    0.010176,   0.0099211,   0.0096668,   0.0094124,    0.009158,   0.0089036,   0.0086492,\n",
            "          0.0083948,   0.0081404,    0.007886,   0.0076316,   0.0073773,   0.0071229,   0.0068685,   0.0066141,   0.0063597,   0.0061053,   0.0058509,   0.0055965,   0.0053422,   0.0050878,   0.0048334,    0.004579,   0.0043246,   0.0040702,   0.0038158,   0.0035614,    0.003307,   0.0030527,   0.0027983,\n",
            "          0.0025439,   0.0022895,   0.0020351,   0.0017807,   0.0015263,   0.0012719,   0.0010176,  0.00076316,  0.00050878,  0.00025439,           0]]), 'Recall', 'Precision'], [array([          0,    0.001001,    0.002002,    0.003003,    0.004004,    0.005005,    0.006006,    0.007007,    0.008008,    0.009009,     0.01001,    0.011011,    0.012012,    0.013013,    0.014014,    0.015015,    0.016016,    0.017017,    0.018018,    0.019019,     0.02002,    0.021021,    0.022022,    0.023023,\n",
            "          0.024024,    0.025025,    0.026026,    0.027027,    0.028028,    0.029029,     0.03003,    0.031031,    0.032032,    0.033033,    0.034034,    0.035035,    0.036036,    0.037037,    0.038038,    0.039039,     0.04004,    0.041041,    0.042042,    0.043043,    0.044044,    0.045045,    0.046046,    0.047047,\n",
            "          0.048048,    0.049049,     0.05005,    0.051051,    0.052052,    0.053053,    0.054054,    0.055055,    0.056056,    0.057057,    0.058058,    0.059059,     0.06006,    0.061061,    0.062062,    0.063063,    0.064064,    0.065065,    0.066066,    0.067067,    0.068068,    0.069069,     0.07007,    0.071071,\n",
            "          0.072072,    0.073073,    0.074074,    0.075075,    0.076076,    0.077077,    0.078078,    0.079079,     0.08008,    0.081081,    0.082082,    0.083083,    0.084084,    0.085085,    0.086086,    0.087087,    0.088088,    0.089089,     0.09009,    0.091091,    0.092092,    0.093093,    0.094094,    0.095095,\n",
            "          0.096096,    0.097097,    0.098098,    0.099099,      0.1001,      0.1011,      0.1021,      0.1031,      0.1041,     0.10511,     0.10611,     0.10711,     0.10811,     0.10911,     0.11011,     0.11111,     0.11211,     0.11311,     0.11411,     0.11512,     0.11612,     0.11712,     0.11812,     0.11912,\n",
            "           0.12012,     0.12112,     0.12212,     0.12312,     0.12412,     0.12513,     0.12613,     0.12713,     0.12813,     0.12913,     0.13013,     0.13113,     0.13213,     0.13313,     0.13413,     0.13514,     0.13614,     0.13714,     0.13814,     0.13914,     0.14014,     0.14114,     0.14214,     0.14314,\n",
            "           0.14414,     0.14515,     0.14615,     0.14715,     0.14815,     0.14915,     0.15015,     0.15115,     0.15215,     0.15315,     0.15415,     0.15516,     0.15616,     0.15716,     0.15816,     0.15916,     0.16016,     0.16116,     0.16216,     0.16316,     0.16416,     0.16517,     0.16617,     0.16717,\n",
            "           0.16817,     0.16917,     0.17017,     0.17117,     0.17217,     0.17317,     0.17417,     0.17518,     0.17618,     0.17718,     0.17818,     0.17918,     0.18018,     0.18118,     0.18218,     0.18318,     0.18418,     0.18519,     0.18619,     0.18719,     0.18819,     0.18919,     0.19019,     0.19119,\n",
            "           0.19219,     0.19319,     0.19419,      0.1952,      0.1962,      0.1972,      0.1982,      0.1992,      0.2002,      0.2012,      0.2022,      0.2032,      0.2042,     0.20521,     0.20621,     0.20721,     0.20821,     0.20921,     0.21021,     0.21121,     0.21221,     0.21321,     0.21421,     0.21522,\n",
            "           0.21622,     0.21722,     0.21822,     0.21922,     0.22022,     0.22122,     0.22222,     0.22322,     0.22422,     0.22523,     0.22623,     0.22723,     0.22823,     0.22923,     0.23023,     0.23123,     0.23223,     0.23323,     0.23423,     0.23524,     0.23624,     0.23724,     0.23824,     0.23924,\n",
            "           0.24024,     0.24124,     0.24224,     0.24324,     0.24424,     0.24525,     0.24625,     0.24725,     0.24825,     0.24925,     0.25025,     0.25125,     0.25225,     0.25325,     0.25425,     0.25526,     0.25626,     0.25726,     0.25826,     0.25926,     0.26026,     0.26126,     0.26226,     0.26326,\n",
            "           0.26426,     0.26527,     0.26627,     0.26727,     0.26827,     0.26927,     0.27027,     0.27127,     0.27227,     0.27327,     0.27427,     0.27528,     0.27628,     0.27728,     0.27828,     0.27928,     0.28028,     0.28128,     0.28228,     0.28328,     0.28428,     0.28529,     0.28629,     0.28729,\n",
            "           0.28829,     0.28929,     0.29029,     0.29129,     0.29229,     0.29329,     0.29429,      0.2953,      0.2963,      0.2973,      0.2983,      0.2993,      0.3003,      0.3013,      0.3023,      0.3033,      0.3043,     0.30531,     0.30631,     0.30731,     0.30831,     0.30931,     0.31031,     0.31131,\n",
            "           0.31231,     0.31331,     0.31431,     0.31532,     0.31632,     0.31732,     0.31832,     0.31932,     0.32032,     0.32132,     0.32232,     0.32332,     0.32432,     0.32533,     0.32633,     0.32733,     0.32833,     0.32933,     0.33033,     0.33133,     0.33233,     0.33333,     0.33433,     0.33534,\n",
            "           0.33634,     0.33734,     0.33834,     0.33934,     0.34034,     0.34134,     0.34234,     0.34334,     0.34434,     0.34535,     0.34635,     0.34735,     0.34835,     0.34935,     0.35035,     0.35135,     0.35235,     0.35335,     0.35435,     0.35536,     0.35636,     0.35736,     0.35836,     0.35936,\n",
            "           0.36036,     0.36136,     0.36236,     0.36336,     0.36436,     0.36537,     0.36637,     0.36737,     0.36837,     0.36937,     0.37037,     0.37137,     0.37237,     0.37337,     0.37437,     0.37538,     0.37638,     0.37738,     0.37838,     0.37938,     0.38038,     0.38138,     0.38238,     0.38338,\n",
            "           0.38438,     0.38539,     0.38639,     0.38739,     0.38839,     0.38939,     0.39039,     0.39139,     0.39239,     0.39339,     0.39439,      0.3954,      0.3964,      0.3974,      0.3984,      0.3994,      0.4004,      0.4014,      0.4024,      0.4034,      0.4044,     0.40541,     0.40641,     0.40741,\n",
            "           0.40841,     0.40941,     0.41041,     0.41141,     0.41241,     0.41341,     0.41441,     0.41542,     0.41642,     0.41742,     0.41842,     0.41942,     0.42042,     0.42142,     0.42242,     0.42342,     0.42442,     0.42543,     0.42643,     0.42743,     0.42843,     0.42943,     0.43043,     0.43143,\n",
            "           0.43243,     0.43343,     0.43443,     0.43544,     0.43644,     0.43744,     0.43844,     0.43944,     0.44044,     0.44144,     0.44244,     0.44344,     0.44444,     0.44545,     0.44645,     0.44745,     0.44845,     0.44945,     0.45045,     0.45145,     0.45245,     0.45345,     0.45445,     0.45546,\n",
            "           0.45646,     0.45746,     0.45846,     0.45946,     0.46046,     0.46146,     0.46246,     0.46346,     0.46446,     0.46547,     0.46647,     0.46747,     0.46847,     0.46947,     0.47047,     0.47147,     0.47247,     0.47347,     0.47447,     0.47548,     0.47648,     0.47748,     0.47848,     0.47948,\n",
            "           0.48048,     0.48148,     0.48248,     0.48348,     0.48448,     0.48549,     0.48649,     0.48749,     0.48849,     0.48949,     0.49049,     0.49149,     0.49249,     0.49349,     0.49449,      0.4955,      0.4965,      0.4975,      0.4985,      0.4995,      0.5005,      0.5015,      0.5025,      0.5035,\n",
            "            0.5045,     0.50551,     0.50651,     0.50751,     0.50851,     0.50951,     0.51051,     0.51151,     0.51251,     0.51351,     0.51451,     0.51552,     0.51652,     0.51752,     0.51852,     0.51952,     0.52052,     0.52152,     0.52252,     0.52352,     0.52452,     0.52553,     0.52653,     0.52753,\n",
            "           0.52853,     0.52953,     0.53053,     0.53153,     0.53253,     0.53353,     0.53453,     0.53554,     0.53654,     0.53754,     0.53854,     0.53954,     0.54054,     0.54154,     0.54254,     0.54354,     0.54454,     0.54555,     0.54655,     0.54755,     0.54855,     0.54955,     0.55055,     0.55155,\n",
            "           0.55255,     0.55355,     0.55455,     0.55556,     0.55656,     0.55756,     0.55856,     0.55956,     0.56056,     0.56156,     0.56256,     0.56356,     0.56456,     0.56557,     0.56657,     0.56757,     0.56857,     0.56957,     0.57057,     0.57157,     0.57257,     0.57357,     0.57457,     0.57558,\n",
            "           0.57658,     0.57758,     0.57858,     0.57958,     0.58058,     0.58158,     0.58258,     0.58358,     0.58458,     0.58559,     0.58659,     0.58759,     0.58859,     0.58959,     0.59059,     0.59159,     0.59259,     0.59359,     0.59459,      0.5956,      0.5966,      0.5976,      0.5986,      0.5996,\n",
            "            0.6006,      0.6016,      0.6026,      0.6036,      0.6046,     0.60561,     0.60661,     0.60761,     0.60861,     0.60961,     0.61061,     0.61161,     0.61261,     0.61361,     0.61461,     0.61562,     0.61662,     0.61762,     0.61862,     0.61962,     0.62062,     0.62162,     0.62262,     0.62362,\n",
            "           0.62462,     0.62563,     0.62663,     0.62763,     0.62863,     0.62963,     0.63063,     0.63163,     0.63263,     0.63363,     0.63463,     0.63564,     0.63664,     0.63764,     0.63864,     0.63964,     0.64064,     0.64164,     0.64264,     0.64364,     0.64464,     0.64565,     0.64665,     0.64765,\n",
            "           0.64865,     0.64965,     0.65065,     0.65165,     0.65265,     0.65365,     0.65465,     0.65566,     0.65666,     0.65766,     0.65866,     0.65966,     0.66066,     0.66166,     0.66266,     0.66366,     0.66466,     0.66567,     0.66667,     0.66767,     0.66867,     0.66967,     0.67067,     0.67167,\n",
            "           0.67267,     0.67367,     0.67467,     0.67568,     0.67668,     0.67768,     0.67868,     0.67968,     0.68068,     0.68168,     0.68268,     0.68368,     0.68468,     0.68569,     0.68669,     0.68769,     0.68869,     0.68969,     0.69069,     0.69169,     0.69269,     0.69369,     0.69469,      0.6957,\n",
            "            0.6967,      0.6977,      0.6987,      0.6997,      0.7007,      0.7017,      0.7027,      0.7037,      0.7047,     0.70571,     0.70671,     0.70771,     0.70871,     0.70971,     0.71071,     0.71171,     0.71271,     0.71371,     0.71471,     0.71572,     0.71672,     0.71772,     0.71872,     0.71972,\n",
            "           0.72072,     0.72172,     0.72272,     0.72372,     0.72472,     0.72573,     0.72673,     0.72773,     0.72873,     0.72973,     0.73073,     0.73173,     0.73273,     0.73373,     0.73473,     0.73574,     0.73674,     0.73774,     0.73874,     0.73974,     0.74074,     0.74174,     0.74274,     0.74374,\n",
            "           0.74474,     0.74575,     0.74675,     0.74775,     0.74875,     0.74975,     0.75075,     0.75175,     0.75275,     0.75375,     0.75475,     0.75576,     0.75676,     0.75776,     0.75876,     0.75976,     0.76076,     0.76176,     0.76276,     0.76376,     0.76476,     0.76577,     0.76677,     0.76777,\n",
            "           0.76877,     0.76977,     0.77077,     0.77177,     0.77277,     0.77377,     0.77477,     0.77578,     0.77678,     0.77778,     0.77878,     0.77978,     0.78078,     0.78178,     0.78278,     0.78378,     0.78478,     0.78579,     0.78679,     0.78779,     0.78879,     0.78979,     0.79079,     0.79179,\n",
            "           0.79279,     0.79379,     0.79479,      0.7958,      0.7968,      0.7978,      0.7988,      0.7998,      0.8008,      0.8018,      0.8028,      0.8038,      0.8048,     0.80581,     0.80681,     0.80781,     0.80881,     0.80981,     0.81081,     0.81181,     0.81281,     0.81381,     0.81481,     0.81582,\n",
            "           0.81682,     0.81782,     0.81882,     0.81982,     0.82082,     0.82182,     0.82282,     0.82382,     0.82482,     0.82583,     0.82683,     0.82783,     0.82883,     0.82983,     0.83083,     0.83183,     0.83283,     0.83383,     0.83483,     0.83584,     0.83684,     0.83784,     0.83884,     0.83984,\n",
            "           0.84084,     0.84184,     0.84284,     0.84384,     0.84484,     0.84585,     0.84685,     0.84785,     0.84885,     0.84985,     0.85085,     0.85185,     0.85285,     0.85385,     0.85485,     0.85586,     0.85686,     0.85786,     0.85886,     0.85986,     0.86086,     0.86186,     0.86286,     0.86386,\n",
            "           0.86486,     0.86587,     0.86687,     0.86787,     0.86887,     0.86987,     0.87087,     0.87187,     0.87287,     0.87387,     0.87487,     0.87588,     0.87688,     0.87788,     0.87888,     0.87988,     0.88088,     0.88188,     0.88288,     0.88388,     0.88488,     0.88589,     0.88689,     0.88789,\n",
            "           0.88889,     0.88989,     0.89089,     0.89189,     0.89289,     0.89389,     0.89489,      0.8959,      0.8969,      0.8979,      0.8989,      0.8999,      0.9009,      0.9019,      0.9029,      0.9039,      0.9049,     0.90591,     0.90691,     0.90791,     0.90891,     0.90991,     0.91091,     0.91191,\n",
            "           0.91291,     0.91391,     0.91491,     0.91592,     0.91692,     0.91792,     0.91892,     0.91992,     0.92092,     0.92192,     0.92292,     0.92392,     0.92492,     0.92593,     0.92693,     0.92793,     0.92893,     0.92993,     0.93093,     0.93193,     0.93293,     0.93393,     0.93493,     0.93594,\n",
            "           0.93694,     0.93794,     0.93894,     0.93994,     0.94094,     0.94194,     0.94294,     0.94394,     0.94494,     0.94595,     0.94695,     0.94795,     0.94895,     0.94995,     0.95095,     0.95195,     0.95295,     0.95395,     0.95495,     0.95596,     0.95696,     0.95796,     0.95896,     0.95996,\n",
            "           0.96096,     0.96196,     0.96296,     0.96396,     0.96496,     0.96597,     0.96697,     0.96797,     0.96897,     0.96997,     0.97097,     0.97197,     0.97297,     0.97397,     0.97497,     0.97598,     0.97698,     0.97798,     0.97898,     0.97998,     0.98098,     0.98198,     0.98298,     0.98398,\n",
            "           0.98498,     0.98599,     0.98699,     0.98799,     0.98899,     0.98999,     0.99099,     0.99199,     0.99299,     0.99399,     0.99499,       0.996,       0.997,       0.998,       0.999,           1]), array([[   0.032804,    0.032814,    0.047966,    0.061295,    0.072464,    0.082128,    0.090822,    0.099502,     0.10829,     0.11502,     0.12102,     0.12803,     0.13395,     0.13865,     0.14532,     0.14867,     0.15232,     0.15673,     0.16074,     0.16595,     0.17056,     0.17459,     0.17888,\n",
            "             0.1822,     0.18692,     0.18934,     0.19216,     0.19489,     0.19828,     0.20111,     0.20573,     0.20549,     0.20863,     0.21277,     0.21696,     0.22025,     0.22499,     0.22737,     0.22752,     0.23106,      0.2339,     0.23923,     0.24132,     0.24342,     0.24505,      0.2445,\n",
            "            0.24547,      0.2488,      0.2501,     0.25162,     0.25644,     0.25539,     0.25694,     0.25962,     0.26285,     0.26605,      0.2708,      0.2743,     0.27375,     0.27075,     0.26984,     0.27278,     0.27578,     0.27951,     0.28271,     0.28451,     0.28793,     0.29114,     0.29369,\n",
            "            0.29539,     0.29904,     0.30327,     0.30358,     0.30405,     0.30307,     0.29502,     0.29145,     0.29428,     0.29011,     0.29185,     0.29416,     0.29591,     0.29708,      0.2992,     0.30347,     0.30695,     0.30882,     0.31194,     0.31444,     0.31556,     0.31664,     0.31661,\n",
            "            0.31726,     0.31424,     0.31172,      0.3122,     0.31252,     0.31414,     0.31578,     0.31768,     0.31891,     0.32016,     0.32373,     0.32357,     0.32474,     0.32334,     0.32238,     0.32341,     0.32409,     0.32661,      0.3293,     0.33206,     0.33531,     0.33613,     0.33899,\n",
            "            0.33747,      0.3352,     0.33365,     0.33463,     0.33844,     0.34004,      0.3417,     0.33966,     0.34367,      0.3447,     0.34578,     0.34707,     0.34921,     0.35287,     0.35728,     0.36047,     0.36255,     0.35951,      0.3603,     0.36182,     0.36311,     0.36581,     0.36937,\n",
            "            0.37251,     0.36846,      0.3699,     0.36889,     0.36275,     0.36551,     0.36752,     0.36825,      0.3708,     0.37387,     0.37272,     0.37327,      0.3739,     0.37459,     0.37728,     0.37784,     0.37874,     0.38045,     0.38085,     0.38124,     0.38013,     0.37779,     0.37829,\n",
            "             0.3788,     0.37586,     0.37471,     0.37421,      0.3748,     0.37248,     0.37443,     0.37518,     0.37593,     0.37691,     0.37301,     0.37382,     0.37506,     0.37715,     0.37527,     0.37478,     0.37652,     0.37853,     0.37884,     0.37915,     0.37946,     0.38022,     0.38254,\n",
            "            0.38407,     0.38442,     0.38302,     0.38161,      0.3802,     0.37965,     0.38057,     0.38175,     0.38217,     0.38244,     0.38271,     0.38298,     0.38325,     0.37805,     0.37927,     0.38016,     0.38083,     0.38147,     0.38277,     0.38332,     0.38372,     0.38412,     0.38466,\n",
            "            0.38539,     0.38643,     0.38948,     0.38758,     0.38472,     0.38458,     0.38527,     0.38655,     0.38409,     0.38468,     0.38386,     0.37328,     0.37553,     0.36934,     0.36733,     0.36533,     0.36512,      0.3661,     0.36692,     0.36766,     0.36978,     0.37093,     0.37139,\n",
            "            0.37185,     0.37065,      0.3676,     0.36637,     0.36543,     0.36163,      0.3611,     0.36149,     0.36189,     0.36245,     0.36357,     0.36478,     0.36714,      0.3683,     0.36878,     0.36926,     0.37121,     0.37213,     0.37301,     0.37386,     0.37631,     0.37862,     0.37896,\n",
            "             0.3793,     0.37964,     0.37998,     0.38041,     0.38093,     0.38146,     0.38336,     0.38383,     0.38429,     0.38475,     0.37833,     0.37898,     0.37962,     0.38041,     0.38124,      0.3677,     0.36841,      0.3692,     0.37217,     0.36856,     0.36537,     0.36556,     0.36137,\n",
            "            0.35873,     0.35717,     0.35561,     0.35404,     0.35248,     0.35272,     0.35302,     0.35333,     0.35363,     0.35394,     0.35421,     0.35448,     0.35475,     0.35502,     0.35529,      0.3552,     0.34857,     0.34915,     0.34973,     0.34959,     0.34754,     0.34549,     0.34408,\n",
            "            0.34491,     0.34581,     0.34686,     0.34792,     0.34825,     0.34713,     0.34601,     0.34489,     0.34376,     0.34264,     0.34151,     0.34185,     0.34437,     0.34487,     0.34536,     0.34466,     0.33767,     0.33659,     0.33551,     0.33443,     0.33335,     0.33227,     0.33119,\n",
            "            0.32965,     0.32285,     0.31461,     0.31496,     0.31531,     0.31565,      0.3082,      0.3086,      0.3071,      0.3056,      0.3041,     0.30259,     0.30109,     0.30222,     0.30407,     0.30449,      0.3049,      0.3053,     0.30572,     0.30613,     0.30654,     0.30696,     0.30763,\n",
            "             0.3083,     0.30931,     0.31018,     0.31064,     0.31111,     0.31158,     0.31284,     0.31402,     0.31508,     0.31601,     0.31749,     0.31494,     0.30854,     0.30569,     0.30283,     0.29966,     0.29638,     0.29326,     0.29514,     0.29648,     0.29861,     0.29979,     0.30056,\n",
            "            0.29996,     0.29637,     0.29277,      0.2935,       0.294,      0.2945,     0.29499,     0.28133,     0.27502,     0.27288,     0.27074,      0.2686,     0.26672,     0.26726,      0.2678,     0.26819,     0.26831,     0.26843,     0.26855,     0.26867,     0.26879,      0.2689,     0.26902,\n",
            "            0.26914,     0.26925,     0.26937,     0.26948,      0.2696,     0.26858,     0.26615,     0.26372,     0.26129,     0.26119,     0.25527,     0.25155,     0.25184,     0.25213,     0.25242,      0.2527,     0.24571,     0.24323,     0.24376,     0.24297,     0.23617,     0.23172,     0.22843,\n",
            "            0.22513,     0.22295,     0.22182,     0.22069,     0.21956,     0.21843,      0.2173,     0.21617,     0.21504,     0.21391,     0.21321,     0.21406,     0.20582,     0.20412,     0.20475,      0.2041,     0.20329,     0.20248,     0.20167,     0.20085,     0.20004,     0.19923,     0.19841,\n",
            "             0.1976,     0.19678,     0.19597,     0.19515,     0.19433,      0.1937,     0.19322,     0.19275,     0.19228,      0.1918,     0.19133,     0.19086,     0.19038,     0.18991,     0.18944,     0.18896,     0.18849,     0.18801,     0.18754,     0.18707,     0.18659,     0.18612,     0.18564,\n",
            "            0.18517,     0.18469,     0.18422,     0.18374,     0.18327,     0.18295,     0.18303,     0.18312,      0.1832,     0.18328,     0.18337,     0.18345,     0.18353,     0.18361,     0.18369,     0.18377,     0.18385,     0.18393,     0.18401,     0.18189,     0.17775,      0.1736,     0.17299,\n",
            "            0.17316,     0.17334,     0.17352,     0.17369,     0.17386,       0.174,     0.17413,     0.17426,     0.17439,     0.17451,     0.17464,     0.17476,     0.17488,     0.17501,     0.17517,     0.17533,     0.17549,     0.17564,      0.1758,     0.17595,     0.17611,     0.17635,     0.17659,\n",
            "            0.17683,     0.17707,      0.1762,     0.17332,     0.17045,     0.16756,     0.16202,     0.15374,     0.15335,     0.15296,     0.15256,     0.15217,     0.15178,     0.15139,     0.15099,      0.1506,     0.15021,     0.14981,     0.14942,     0.14903,     0.14864,     0.14824,     0.14785,\n",
            "            0.14746,     0.14706,     0.14667,     0.14627,     0.14588,     0.14549,     0.14509,      0.1447,      0.1443,     0.14391,     0.14351,     0.14312,     0.14272,     0.14233,     0.14193,     0.13434,     0.12922,     0.12765,     0.12608,      0.1245,     0.12292,     0.12135,     0.11977,\n",
            "            0.11819,     0.11601,     0.11129,     0.10655,     0.10506,     0.10404,     0.10301,     0.10199,     0.10096,    0.099936,    0.098908,     0.09788,    0.096851,    0.095822,    0.094792,    0.093762,    0.093369,    0.093431,    0.093491,     0.09355,    0.093609,    0.093667,    0.093724,\n",
            "           0.093781,    0.093836,    0.093891,    0.093945,    0.093641,    0.093205,    0.092768,    0.092331,    0.091894,    0.091457,    0.091019,    0.090582,    0.090145,    0.089707,    0.089269,    0.088832,    0.088394,    0.087956,    0.087518,     0.08708,    0.086641,    0.086203,    0.085764,\n",
            "           0.085326,    0.084887,    0.084448,    0.084009,     0.08357,    0.083131,    0.082691,    0.082252,    0.081812,    0.081373,     0.07988,     0.07631,    0.072734,     0.06915,    0.068193,    0.068416,    0.068514,    0.068546,    0.068578,     0.06861,    0.068641,    0.068671,    0.068701,\n",
            "           0.068731,     0.06876,    0.068789,    0.068818,    0.068846,    0.068874,    0.068901,    0.068928,    0.068955,    0.067915,    0.066137,    0.064357,    0.062574,     0.06079,    0.059004,    0.057216,    0.054167,    0.041285,    0.039448,    0.037609,    0.035769,    0.033927,    0.032084,\n",
            "           0.030239,    0.028392,    0.028178,    0.028187,    0.028197,    0.028206,    0.028215,    0.028224,    0.028233,    0.028242,    0.028251,    0.028259,    0.028267,    0.028275,    0.028283,    0.028291,    0.028299,    0.028306,    0.028314,    0.028321,    0.028328,    0.028335,    0.028342,\n",
            "           0.028349,    0.028356,    0.028362,    0.028369,    0.028372,    0.028375,    0.028377,     0.02838,    0.028383,    0.028386,    0.028389,    0.028392,    0.028394,    0.028397,      0.0284,    0.028402,    0.028405,    0.028408,     0.02841,    0.028413,    0.028416,    0.028418,    0.028421,\n",
            "           0.028423,    0.028426,    0.028428,    0.028431,    0.028433,    0.028436,    0.028438,    0.028441,    0.028443,    0.028446,    0.028448,     0.02845,    0.028453,    0.028455,    0.028458,     0.02846,    0.028462,    0.028464,    0.028467,    0.028469,    0.028471,    0.028473,    0.028476,\n",
            "           0.028478,     0.02848,    0.028482,    0.028484,    0.028487,    0.028489,    0.028491,    0.028493,    0.028495,    0.028497,    0.028499,    0.028501,    0.028503,    0.028505,    0.028507,    0.028509,    0.028511,    0.028513,    0.028515,    0.028517,    0.028519,    0.028521,    0.028523,\n",
            "           0.028525,    0.028527,    0.028529,    0.028531,    0.028533,    0.028535,    0.028537,    0.028538,     0.02854,    0.028542,    0.028544,    0.028546,    0.028548,    0.028549,    0.028551,    0.028553,    0.028555,    0.028556,    0.028558,     0.02856,    0.028562,    0.028563,    0.028565,\n",
            "           0.028567,    0.028568,     0.02857,    0.028585,    0.028645,    0.028695,    0.028737,    0.028772,    0.028491,    0.028152,    0.027812,    0.027473,    0.027134,    0.026794,    0.026454,    0.026115,    0.025775,    0.025435,    0.025094,    0.024754,    0.024414,    0.024073,    0.023733,\n",
            "           0.023392,    0.023051,     0.02271,    0.022369,    0.022028,    0.021686,    0.021345,    0.021003,    0.020662,     0.02032,    0.019978,    0.019636,    0.019294,    0.018951,    0.018609,    0.018266,    0.017924,    0.017581,    0.017238,    0.016895,    0.016552,    0.016209,    0.015865,\n",
            "           0.015522,    0.015178,    0.014835,           0,           0,           0,           0,           0,           0,           0,           0,           0,           0,           0,           0,           0,           0,           0,           0,           0,           0,           0,           0,\n",
            "                  0,           0,           0,           0,           0,           0,           0,           0,           0,           0,           0,           0,           0,           0,           0,           0,           0,           0,           0,           0,           0,           0,           0,\n",
            "                  0,           0,           0,           0,           0,           0,           0,           0,           0,           0,           0,           0,           0,           0,           0,           0,           0,           0,           0,           0,           0,           0,           0,\n",
            "                  0,           0,           0,           0,           0,           0,           0,           0,           0,           0,           0,           0,           0,           0,           0,           0,           0,           0,           0,           0,           0,           0,           0,\n",
            "                  0,           0,           0,           0,           0,           0,           0,           0,           0,           0,           0,           0,           0,           0,           0,           0,           0,           0,           0,           0,           0,           0,           0,\n",
            "                  0,           0,           0,           0,           0,           0,           0,           0,           0,           0,           0,           0,           0,           0,           0,           0,           0,           0,           0,           0,           0,           0,           0,\n",
            "                  0,           0,           0,           0,           0,           0,           0,           0,           0,           0,           0,           0,           0,           0,           0,           0,           0,           0,           0,           0,           0,           0,           0,\n",
            "                  0,           0,           0,           0,           0,           0,           0,           0,           0,           0,           0,           0,           0,           0,           0,           0,           0,           0,           0,           0,           0,           0,           0,\n",
            "                  0,           0,           0,           0,           0,           0,           0,           0,           0,           0,           0]]), 'Confidence', 'F1'], [array([          0,    0.001001,    0.002002,    0.003003,    0.004004,    0.005005,    0.006006,    0.007007,    0.008008,    0.009009,     0.01001,    0.011011,    0.012012,    0.013013,    0.014014,    0.015015,    0.016016,    0.017017,    0.018018,    0.019019,     0.02002,    0.021021,    0.022022,    0.023023,\n",
            "          0.024024,    0.025025,    0.026026,    0.027027,    0.028028,    0.029029,     0.03003,    0.031031,    0.032032,    0.033033,    0.034034,    0.035035,    0.036036,    0.037037,    0.038038,    0.039039,     0.04004,    0.041041,    0.042042,    0.043043,    0.044044,    0.045045,    0.046046,    0.047047,\n",
            "          0.048048,    0.049049,     0.05005,    0.051051,    0.052052,    0.053053,    0.054054,    0.055055,    0.056056,    0.057057,    0.058058,    0.059059,     0.06006,    0.061061,    0.062062,    0.063063,    0.064064,    0.065065,    0.066066,    0.067067,    0.068068,    0.069069,     0.07007,    0.071071,\n",
            "          0.072072,    0.073073,    0.074074,    0.075075,    0.076076,    0.077077,    0.078078,    0.079079,     0.08008,    0.081081,    0.082082,    0.083083,    0.084084,    0.085085,    0.086086,    0.087087,    0.088088,    0.089089,     0.09009,    0.091091,    0.092092,    0.093093,    0.094094,    0.095095,\n",
            "          0.096096,    0.097097,    0.098098,    0.099099,      0.1001,      0.1011,      0.1021,      0.1031,      0.1041,     0.10511,     0.10611,     0.10711,     0.10811,     0.10911,     0.11011,     0.11111,     0.11211,     0.11311,     0.11411,     0.11512,     0.11612,     0.11712,     0.11812,     0.11912,\n",
            "           0.12012,     0.12112,     0.12212,     0.12312,     0.12412,     0.12513,     0.12613,     0.12713,     0.12813,     0.12913,     0.13013,     0.13113,     0.13213,     0.13313,     0.13413,     0.13514,     0.13614,     0.13714,     0.13814,     0.13914,     0.14014,     0.14114,     0.14214,     0.14314,\n",
            "           0.14414,     0.14515,     0.14615,     0.14715,     0.14815,     0.14915,     0.15015,     0.15115,     0.15215,     0.15315,     0.15415,     0.15516,     0.15616,     0.15716,     0.15816,     0.15916,     0.16016,     0.16116,     0.16216,     0.16316,     0.16416,     0.16517,     0.16617,     0.16717,\n",
            "           0.16817,     0.16917,     0.17017,     0.17117,     0.17217,     0.17317,     0.17417,     0.17518,     0.17618,     0.17718,     0.17818,     0.17918,     0.18018,     0.18118,     0.18218,     0.18318,     0.18418,     0.18519,     0.18619,     0.18719,     0.18819,     0.18919,     0.19019,     0.19119,\n",
            "           0.19219,     0.19319,     0.19419,      0.1952,      0.1962,      0.1972,      0.1982,      0.1992,      0.2002,      0.2012,      0.2022,      0.2032,      0.2042,     0.20521,     0.20621,     0.20721,     0.20821,     0.20921,     0.21021,     0.21121,     0.21221,     0.21321,     0.21421,     0.21522,\n",
            "           0.21622,     0.21722,     0.21822,     0.21922,     0.22022,     0.22122,     0.22222,     0.22322,     0.22422,     0.22523,     0.22623,     0.22723,     0.22823,     0.22923,     0.23023,     0.23123,     0.23223,     0.23323,     0.23423,     0.23524,     0.23624,     0.23724,     0.23824,     0.23924,\n",
            "           0.24024,     0.24124,     0.24224,     0.24324,     0.24424,     0.24525,     0.24625,     0.24725,     0.24825,     0.24925,     0.25025,     0.25125,     0.25225,     0.25325,     0.25425,     0.25526,     0.25626,     0.25726,     0.25826,     0.25926,     0.26026,     0.26126,     0.26226,     0.26326,\n",
            "           0.26426,     0.26527,     0.26627,     0.26727,     0.26827,     0.26927,     0.27027,     0.27127,     0.27227,     0.27327,     0.27427,     0.27528,     0.27628,     0.27728,     0.27828,     0.27928,     0.28028,     0.28128,     0.28228,     0.28328,     0.28428,     0.28529,     0.28629,     0.28729,\n",
            "           0.28829,     0.28929,     0.29029,     0.29129,     0.29229,     0.29329,     0.29429,      0.2953,      0.2963,      0.2973,      0.2983,      0.2993,      0.3003,      0.3013,      0.3023,      0.3033,      0.3043,     0.30531,     0.30631,     0.30731,     0.30831,     0.30931,     0.31031,     0.31131,\n",
            "           0.31231,     0.31331,     0.31431,     0.31532,     0.31632,     0.31732,     0.31832,     0.31932,     0.32032,     0.32132,     0.32232,     0.32332,     0.32432,     0.32533,     0.32633,     0.32733,     0.32833,     0.32933,     0.33033,     0.33133,     0.33233,     0.33333,     0.33433,     0.33534,\n",
            "           0.33634,     0.33734,     0.33834,     0.33934,     0.34034,     0.34134,     0.34234,     0.34334,     0.34434,     0.34535,     0.34635,     0.34735,     0.34835,     0.34935,     0.35035,     0.35135,     0.35235,     0.35335,     0.35435,     0.35536,     0.35636,     0.35736,     0.35836,     0.35936,\n",
            "           0.36036,     0.36136,     0.36236,     0.36336,     0.36436,     0.36537,     0.36637,     0.36737,     0.36837,     0.36937,     0.37037,     0.37137,     0.37237,     0.37337,     0.37437,     0.37538,     0.37638,     0.37738,     0.37838,     0.37938,     0.38038,     0.38138,     0.38238,     0.38338,\n",
            "           0.38438,     0.38539,     0.38639,     0.38739,     0.38839,     0.38939,     0.39039,     0.39139,     0.39239,     0.39339,     0.39439,      0.3954,      0.3964,      0.3974,      0.3984,      0.3994,      0.4004,      0.4014,      0.4024,      0.4034,      0.4044,     0.40541,     0.40641,     0.40741,\n",
            "           0.40841,     0.40941,     0.41041,     0.41141,     0.41241,     0.41341,     0.41441,     0.41542,     0.41642,     0.41742,     0.41842,     0.41942,     0.42042,     0.42142,     0.42242,     0.42342,     0.42442,     0.42543,     0.42643,     0.42743,     0.42843,     0.42943,     0.43043,     0.43143,\n",
            "           0.43243,     0.43343,     0.43443,     0.43544,     0.43644,     0.43744,     0.43844,     0.43944,     0.44044,     0.44144,     0.44244,     0.44344,     0.44444,     0.44545,     0.44645,     0.44745,     0.44845,     0.44945,     0.45045,     0.45145,     0.45245,     0.45345,     0.45445,     0.45546,\n",
            "           0.45646,     0.45746,     0.45846,     0.45946,     0.46046,     0.46146,     0.46246,     0.46346,     0.46446,     0.46547,     0.46647,     0.46747,     0.46847,     0.46947,     0.47047,     0.47147,     0.47247,     0.47347,     0.47447,     0.47548,     0.47648,     0.47748,     0.47848,     0.47948,\n",
            "           0.48048,     0.48148,     0.48248,     0.48348,     0.48448,     0.48549,     0.48649,     0.48749,     0.48849,     0.48949,     0.49049,     0.49149,     0.49249,     0.49349,     0.49449,      0.4955,      0.4965,      0.4975,      0.4985,      0.4995,      0.5005,      0.5015,      0.5025,      0.5035,\n",
            "            0.5045,     0.50551,     0.50651,     0.50751,     0.50851,     0.50951,     0.51051,     0.51151,     0.51251,     0.51351,     0.51451,     0.51552,     0.51652,     0.51752,     0.51852,     0.51952,     0.52052,     0.52152,     0.52252,     0.52352,     0.52452,     0.52553,     0.52653,     0.52753,\n",
            "           0.52853,     0.52953,     0.53053,     0.53153,     0.53253,     0.53353,     0.53453,     0.53554,     0.53654,     0.53754,     0.53854,     0.53954,     0.54054,     0.54154,     0.54254,     0.54354,     0.54454,     0.54555,     0.54655,     0.54755,     0.54855,     0.54955,     0.55055,     0.55155,\n",
            "           0.55255,     0.55355,     0.55455,     0.55556,     0.55656,     0.55756,     0.55856,     0.55956,     0.56056,     0.56156,     0.56256,     0.56356,     0.56456,     0.56557,     0.56657,     0.56757,     0.56857,     0.56957,     0.57057,     0.57157,     0.57257,     0.57357,     0.57457,     0.57558,\n",
            "           0.57658,     0.57758,     0.57858,     0.57958,     0.58058,     0.58158,     0.58258,     0.58358,     0.58458,     0.58559,     0.58659,     0.58759,     0.58859,     0.58959,     0.59059,     0.59159,     0.59259,     0.59359,     0.59459,      0.5956,      0.5966,      0.5976,      0.5986,      0.5996,\n",
            "            0.6006,      0.6016,      0.6026,      0.6036,      0.6046,     0.60561,     0.60661,     0.60761,     0.60861,     0.60961,     0.61061,     0.61161,     0.61261,     0.61361,     0.61461,     0.61562,     0.61662,     0.61762,     0.61862,     0.61962,     0.62062,     0.62162,     0.62262,     0.62362,\n",
            "           0.62462,     0.62563,     0.62663,     0.62763,     0.62863,     0.62963,     0.63063,     0.63163,     0.63263,     0.63363,     0.63463,     0.63564,     0.63664,     0.63764,     0.63864,     0.63964,     0.64064,     0.64164,     0.64264,     0.64364,     0.64464,     0.64565,     0.64665,     0.64765,\n",
            "           0.64865,     0.64965,     0.65065,     0.65165,     0.65265,     0.65365,     0.65465,     0.65566,     0.65666,     0.65766,     0.65866,     0.65966,     0.66066,     0.66166,     0.66266,     0.66366,     0.66466,     0.66567,     0.66667,     0.66767,     0.66867,     0.66967,     0.67067,     0.67167,\n",
            "           0.67267,     0.67367,     0.67467,     0.67568,     0.67668,     0.67768,     0.67868,     0.67968,     0.68068,     0.68168,     0.68268,     0.68368,     0.68468,     0.68569,     0.68669,     0.68769,     0.68869,     0.68969,     0.69069,     0.69169,     0.69269,     0.69369,     0.69469,      0.6957,\n",
            "            0.6967,      0.6977,      0.6987,      0.6997,      0.7007,      0.7017,      0.7027,      0.7037,      0.7047,     0.70571,     0.70671,     0.70771,     0.70871,     0.70971,     0.71071,     0.71171,     0.71271,     0.71371,     0.71471,     0.71572,     0.71672,     0.71772,     0.71872,     0.71972,\n",
            "           0.72072,     0.72172,     0.72272,     0.72372,     0.72472,     0.72573,     0.72673,     0.72773,     0.72873,     0.72973,     0.73073,     0.73173,     0.73273,     0.73373,     0.73473,     0.73574,     0.73674,     0.73774,     0.73874,     0.73974,     0.74074,     0.74174,     0.74274,     0.74374,\n",
            "           0.74474,     0.74575,     0.74675,     0.74775,     0.74875,     0.74975,     0.75075,     0.75175,     0.75275,     0.75375,     0.75475,     0.75576,     0.75676,     0.75776,     0.75876,     0.75976,     0.76076,     0.76176,     0.76276,     0.76376,     0.76476,     0.76577,     0.76677,     0.76777,\n",
            "           0.76877,     0.76977,     0.77077,     0.77177,     0.77277,     0.77377,     0.77477,     0.77578,     0.77678,     0.77778,     0.77878,     0.77978,     0.78078,     0.78178,     0.78278,     0.78378,     0.78478,     0.78579,     0.78679,     0.78779,     0.78879,     0.78979,     0.79079,     0.79179,\n",
            "           0.79279,     0.79379,     0.79479,      0.7958,      0.7968,      0.7978,      0.7988,      0.7998,      0.8008,      0.8018,      0.8028,      0.8038,      0.8048,     0.80581,     0.80681,     0.80781,     0.80881,     0.80981,     0.81081,     0.81181,     0.81281,     0.81381,     0.81481,     0.81582,\n",
            "           0.81682,     0.81782,     0.81882,     0.81982,     0.82082,     0.82182,     0.82282,     0.82382,     0.82482,     0.82583,     0.82683,     0.82783,     0.82883,     0.82983,     0.83083,     0.83183,     0.83283,     0.83383,     0.83483,     0.83584,     0.83684,     0.83784,     0.83884,     0.83984,\n",
            "           0.84084,     0.84184,     0.84284,     0.84384,     0.84484,     0.84585,     0.84685,     0.84785,     0.84885,     0.84985,     0.85085,     0.85185,     0.85285,     0.85385,     0.85485,     0.85586,     0.85686,     0.85786,     0.85886,     0.85986,     0.86086,     0.86186,     0.86286,     0.86386,\n",
            "           0.86486,     0.86587,     0.86687,     0.86787,     0.86887,     0.86987,     0.87087,     0.87187,     0.87287,     0.87387,     0.87487,     0.87588,     0.87688,     0.87788,     0.87888,     0.87988,     0.88088,     0.88188,     0.88288,     0.88388,     0.88488,     0.88589,     0.88689,     0.88789,\n",
            "           0.88889,     0.88989,     0.89089,     0.89189,     0.89289,     0.89389,     0.89489,      0.8959,      0.8969,      0.8979,      0.8989,      0.8999,      0.9009,      0.9019,      0.9029,      0.9039,      0.9049,     0.90591,     0.90691,     0.90791,     0.90891,     0.90991,     0.91091,     0.91191,\n",
            "           0.91291,     0.91391,     0.91491,     0.91592,     0.91692,     0.91792,     0.91892,     0.91992,     0.92092,     0.92192,     0.92292,     0.92392,     0.92492,     0.92593,     0.92693,     0.92793,     0.92893,     0.92993,     0.93093,     0.93193,     0.93293,     0.93393,     0.93493,     0.93594,\n",
            "           0.93694,     0.93794,     0.93894,     0.93994,     0.94094,     0.94194,     0.94294,     0.94394,     0.94494,     0.94595,     0.94695,     0.94795,     0.94895,     0.94995,     0.95095,     0.95195,     0.95295,     0.95395,     0.95495,     0.95596,     0.95696,     0.95796,     0.95896,     0.95996,\n",
            "           0.96096,     0.96196,     0.96296,     0.96396,     0.96496,     0.96597,     0.96697,     0.96797,     0.96897,     0.96997,     0.97097,     0.97197,     0.97297,     0.97397,     0.97497,     0.97598,     0.97698,     0.97798,     0.97898,     0.97998,     0.98098,     0.98198,     0.98298,     0.98398,\n",
            "           0.98498,     0.98599,     0.98699,     0.98799,     0.98899,     0.98999,     0.99099,     0.99199,     0.99299,     0.99399,     0.99499,       0.996,       0.997,       0.998,       0.999,           1]), array([[   0.016695,      0.0167,    0.024625,    0.031704,    0.037718,    0.042999,     0.04783,    0.052669,    0.057653,    0.061553,    0.065085,    0.069202,    0.072727,    0.075566,    0.079545,    0.081701,    0.084062,    0.086756,    0.089399,    0.092637,    0.095521,     0.09805,     0.10089,\n",
            "              0.103,     0.10603,     0.10787,     0.10985,      0.1117,     0.11403,     0.11608,     0.11917,     0.11938,     0.12171,     0.12453,     0.12741,     0.12969,     0.13299,     0.13491,     0.13553,     0.13834,     0.14038,     0.14424,     0.14576,     0.14729,     0.14893,      0.1491,\n",
            "            0.15018,     0.15268,     0.15405,     0.15521,     0.15889,     0.15851,      0.1597,     0.16177,     0.16429,      0.1668,     0.17055,     0.17334,     0.17341,     0.17206,     0.17186,     0.17425,     0.17671,     0.17978,     0.18244,     0.18393,     0.18681,     0.18952,     0.19169,\n",
            "            0.19313,     0.19627,     0.19993,     0.20096,     0.20137,     0.20175,     0.19737,      0.1956,     0.19842,     0.19641,     0.19801,     0.20015,     0.20177,     0.20286,     0.20484,     0.20886,     0.21218,     0.21397,     0.21698,      0.2194,     0.22049,     0.22155,      0.2227,\n",
            "            0.22335,      0.2218,      0.2203,     0.22078,      0.2211,     0.22272,     0.22437,      0.2263,     0.22755,     0.22882,     0.23275,     0.23374,     0.23497,     0.23444,     0.23396,     0.23504,     0.23577,     0.23844,     0.24132,      0.2443,     0.24783,     0.24873,     0.25187,\n",
            "            0.25193,     0.25119,     0.25128,     0.25239,     0.25676,      0.2586,     0.26052,     0.26018,     0.26492,     0.26614,     0.26744,     0.26898,     0.27156,     0.27601,     0.28145,     0.28542,     0.28805,     0.28675,     0.28775,      0.2897,     0.29136,     0.29484,      0.2995,\n",
            "            0.30365,     0.30106,      0.3031,      0.3027,     0.29838,     0.30329,     0.30607,     0.30708,     0.31064,     0.31658,     0.31682,     0.31762,     0.31854,     0.31954,     0.32348,      0.3243,     0.32563,     0.32817,     0.32876,     0.32935,     0.32878,     0.32808,     0.32884,\n",
            "             0.3296,     0.32918,     0.32957,     0.33085,      0.3326,     0.33252,     0.33563,     0.33684,     0.33805,     0.33964,     0.33803,     0.33936,     0.34141,      0.3449,     0.34499,     0.34602,       0.349,     0.35246,       0.353,     0.35354,     0.35408,      0.3554,     0.35949,\n",
            "             0.3622,      0.3633,     0.36224,     0.36119,     0.36014,     0.36009,     0.36174,     0.36389,     0.36465,     0.36515,     0.36564,     0.36613,     0.36663,     0.36321,     0.36547,     0.36713,     0.36838,     0.36957,     0.37202,     0.37306,     0.37382,     0.37457,      0.3756,\n",
            "              0.377,     0.37899,     0.38491,     0.38396,     0.38179,     0.38233,     0.38368,     0.38839,     0.38872,     0.38993,     0.38996,     0.38199,     0.38727,     0.38244,     0.38086,     0.37928,     0.38117,     0.38332,     0.38511,     0.38675,     0.39148,     0.39405,      0.3951,\n",
            "            0.39614,     0.39555,     0.39313,     0.39307,     0.39355,     0.39051,     0.39056,     0.39149,     0.39243,     0.39374,      0.3964,     0.39927,     0.40497,     0.40781,     0.40899,     0.41017,     0.41503,     0.41734,     0.41955,     0.42171,     0.42798,       0.434,      0.4349,\n",
            "             0.4358,     0.43671,     0.43761,     0.43874,     0.44014,     0.44155,     0.44667,     0.44794,     0.44921,     0.45048,     0.44605,     0.44785,     0.44964,     0.45187,      0.4542,     0.44381,      0.4459,     0.44821,     0.45735,     0.45437,     0.45209,     0.45547,     0.45198,\n",
            "            0.44977,     0.44845,     0.44713,     0.44581,     0.44449,     0.44539,     0.44636,     0.44734,     0.44832,     0.44929,     0.45018,     0.45106,     0.45194,     0.45281,     0.45369,     0.45424,     0.44947,      0.4514,     0.45333,      0.4573,     0.45553,     0.45376,     0.45303,\n",
            "            0.45592,     0.45908,     0.46279,     0.46659,     0.46881,     0.46783,     0.46685,     0.46587,     0.46489,     0.46391,     0.46294,     0.46561,     0.47507,     0.47696,     0.47885,     0.47952,     0.47336,      0.4724,     0.47143,     0.47046,     0.46949,     0.46853,     0.46756,\n",
            "            0.46618,     0.45998,     0.45339,     0.45485,     0.45631,     0.45777,     0.45287,     0.45659,     0.45515,     0.45371,     0.45227,     0.45083,     0.44939,      0.4549,     0.46339,     0.46531,     0.46723,     0.46915,      0.4711,     0.47307,     0.47503,     0.47705,     0.48031,\n",
            "            0.48357,     0.48861,     0.49297,     0.49532,     0.49768,      0.5001,     0.50666,     0.51289,     0.51861,     0.52366,     0.53187,      0.5395,     0.53346,     0.53072,     0.52799,     0.52488,     0.52165,     0.51894,     0.53089,     0.53964,     0.55409,     0.56228,      0.5677,\n",
            "            0.57034,     0.56684,     0.56335,     0.57467,     0.57852,     0.58238,     0.58624,     0.57333,      0.5669,     0.56465,     0.56241,     0.56016,     0.55862,     0.56339,     0.56817,     0.57177,     0.57286,     0.57394,     0.57502,      0.5761,     0.57719,     0.57827,     0.57935,\n",
            "            0.58043,     0.58152,      0.5826,     0.58368,     0.58477,     0.58422,     0.58164,     0.57906,     0.57648,     0.58798,     0.58311,     0.58022,     0.58335,     0.58647,     0.58959,     0.59272,      0.5866,     0.58858,     0.59486,      0.5986,     0.59081,     0.58559,     0.58163,\n",
            "            0.57768,     0.57502,      0.5736,     0.57217,     0.57075,     0.56932,     0.56789,     0.56647,     0.56504,     0.56362,     0.56516,      0.5774,     0.56957,     0.57486,     0.58502,     0.58523,     0.58413,     0.58302,     0.58191,     0.58081,      0.5797,      0.5786,     0.57749,\n",
            "            0.57639,     0.57528,     0.57417,     0.57307,     0.57196,     0.57108,     0.57039,     0.56971,     0.56903,     0.56834,     0.56766,     0.56698,     0.56629,     0.56561,     0.56493,     0.56424,     0.56356,     0.56288,     0.56219,     0.56151,     0.56083,     0.56014,     0.55946,\n",
            "            0.55878,     0.55809,     0.55741,     0.55673,     0.55604,       0.556,     0.55755,      0.5591,     0.56066,     0.56221,     0.56376,     0.56531,     0.56687,     0.56842,     0.56997,     0.57152,     0.57308,     0.57463,     0.57618,     0.57366,      0.5674,     0.56114,     0.56311,\n",
            "             0.5669,      0.5707,      0.5745,      0.5783,     0.58209,     0.58531,     0.58825,     0.59119,     0.59413,     0.59707,     0.60001,     0.60295,     0.60589,     0.60888,     0.61282,     0.61676,      0.6207,     0.62464,     0.62858,     0.63252,     0.63652,     0.64301,      0.6495,\n",
            "            0.65599,     0.66248,      0.6652,     0.66107,     0.65693,      0.6528,     0.64436,      0.6314,     0.63072,     0.63004,     0.62937,     0.62869,     0.62802,     0.62734,     0.62666,     0.62599,     0.62531,     0.62463,     0.62396,     0.62328,     0.62261,     0.62193,     0.62125,\n",
            "            0.62058,      0.6199,     0.61922,     0.61855,     0.61787,      0.6172,     0.61652,     0.61584,     0.61517,     0.61449,     0.61382,     0.61314,     0.61246,     0.61179,      0.6111,     0.59668,     0.58686,     0.58354,     0.58023,     0.57691,     0.57359,     0.57027,     0.56695,\n",
            "            0.56364,     0.59446,     0.58362,     0.57278,     0.56908,      0.5664,     0.56372,     0.56103,     0.55835,     0.55567,     0.55299,     0.55031,     0.54762,     0.54494,     0.54226,     0.53958,     0.54088,     0.54501,     0.54914,     0.55328,     0.55741,     0.56155,     0.56568,\n",
            "            0.56981,     0.57395,     0.57808,     0.58221,     0.58239,      0.5811,     0.57982,     0.57853,     0.57724,     0.57595,     0.57466,     0.57337,     0.57208,      0.5708,     0.56951,     0.56822,     0.56693,     0.56564,     0.56435,     0.56306,     0.56177,     0.56049,      0.5592,\n",
            "            0.55791,     0.55662,     0.55533,     0.55404,     0.55275,     0.55146,     0.55018,     0.54889,      0.5476,     0.54631,     0.54126,     0.52881,     0.51635,      0.5039,     0.51855,     0.54556,     0.55828,     0.56261,     0.56694,     0.57127,      0.5756,     0.57993,     0.58426,\n",
            "            0.58859,     0.59292,     0.59725,     0.60158,     0.60591,     0.61024,     0.61457,      0.6189,     0.62323,     0.62079,     0.61366,     0.60654,     0.59941,     0.59229,     0.58516,     0.57804,     0.56411,     0.49511,     0.48175,      0.4684,     0.45504,     0.44168,     0.42833,\n",
            "            0.41497,     0.40161,     0.40353,     0.40756,     0.41158,      0.4156,     0.41962,     0.42364,     0.42766,     0.43168,      0.4357,     0.43972,     0.44374,     0.44777,     0.45179,     0.45581,     0.45983,     0.46385,     0.46787,     0.47189,     0.47591,     0.47993,     0.48396,\n",
            "            0.48798,       0.492,     0.49602,     0.50002,     0.50183,     0.50365,     0.50546,     0.50728,     0.50909,     0.51091,     0.51272,     0.51454,     0.51635,     0.51817,     0.51998,      0.5218,     0.52362,     0.52543,     0.52725,     0.52906,     0.53088,     0.53269,     0.53451,\n",
            "            0.53632,     0.53814,     0.53995,     0.54177,     0.54358,      0.5454,     0.54721,     0.54903,     0.55084,     0.55266,     0.55447,     0.55629,      0.5581,     0.55992,     0.56173,     0.56355,     0.56536,     0.56718,     0.56899,     0.57081,     0.57262,     0.57444,     0.57626,\n",
            "            0.57807,     0.57989,      0.5817,     0.58352,     0.58533,     0.58715,     0.58896,     0.59078,     0.59259,     0.59441,     0.59622,     0.59804,     0.59985,     0.60167,     0.60348,      0.6053,     0.60711,     0.60893,     0.61074,     0.61256,     0.61437,     0.61619,       0.618,\n",
            "            0.61982,     0.62163,     0.62345,     0.62527,     0.62708,      0.6289,     0.63071,     0.63253,     0.63434,     0.63616,     0.63797,     0.63979,      0.6416,     0.64342,     0.64523,     0.64705,     0.64886,     0.65068,     0.65249,     0.65431,     0.65612,     0.65794,     0.65975,\n",
            "            0.66157,     0.66338,      0.6652,     0.68135,     0.75803,      0.8347,     0.91137,     0.98805,           1,           1,           1,           1,           1,           1,           1,           1,           1,           1,           1,           1,           1,           1,           1,\n",
            "                  1,           1,           1,           1,           1,           1,           1,           1,           1,           1,           1,           1,           1,           1,           1,           1,           1,           1,           1,           1,           1,           1,           1,\n",
            "                  1,           1,           1,           1,           1,           1,           1,           1,           1,           1,           1,           1,           1,           1,           1,           1,           1,           1,           1,           1,           1,           1,           1,\n",
            "                  1,           1,           1,           1,           1,           1,           1,           1,           1,           1,           1,           1,           1,           1,           1,           1,           1,           1,           1,           1,           1,           1,           1,\n",
            "                  1,           1,           1,           1,           1,           1,           1,           1,           1,           1,           1,           1,           1,           1,           1,           1,           1,           1,           1,           1,           1,           1,           1,\n",
            "                  1,           1,           1,           1,           1,           1,           1,           1,           1,           1,           1,           1,           1,           1,           1,           1,           1,           1,           1,           1,           1,           1,           1,\n",
            "                  1,           1,           1,           1,           1,           1,           1,           1,           1,           1,           1,           1,           1,           1,           1,           1,           1,           1,           1,           1,           1,           1,           1,\n",
            "                  1,           1,           1,           1,           1,           1,           1,           1,           1,           1,           1,           1,           1,           1,           1,           1,           1,           1,           1,           1,           1,           1,           1,\n",
            "                  1,           1,           1,           1,           1,           1,           1,           1,           1,           1,           1,           1,           1,           1,           1,           1,           1,           1,           1,           1,           1,           1,           1,\n",
            "                  1,           1,           1,           1,           1,           1,           1,           1,           1,           1,           1,           1,           1,           1,           1,           1,           1,           1,           1,           1,           1,           1,           1,\n",
            "                  1,           1,           1,           1,           1,           1,           1,           1,           1,           1,           1]]), 'Confidence', 'Precision'], [array([          0,    0.001001,    0.002002,    0.003003,    0.004004,    0.005005,    0.006006,    0.007007,    0.008008,    0.009009,     0.01001,    0.011011,    0.012012,    0.013013,    0.014014,    0.015015,    0.016016,    0.017017,    0.018018,    0.019019,     0.02002,    0.021021,    0.022022,    0.023023,\n",
            "          0.024024,    0.025025,    0.026026,    0.027027,    0.028028,    0.029029,     0.03003,    0.031031,    0.032032,    0.033033,    0.034034,    0.035035,    0.036036,    0.037037,    0.038038,    0.039039,     0.04004,    0.041041,    0.042042,    0.043043,    0.044044,    0.045045,    0.046046,    0.047047,\n",
            "          0.048048,    0.049049,     0.05005,    0.051051,    0.052052,    0.053053,    0.054054,    0.055055,    0.056056,    0.057057,    0.058058,    0.059059,     0.06006,    0.061061,    0.062062,    0.063063,    0.064064,    0.065065,    0.066066,    0.067067,    0.068068,    0.069069,     0.07007,    0.071071,\n",
            "          0.072072,    0.073073,    0.074074,    0.075075,    0.076076,    0.077077,    0.078078,    0.079079,     0.08008,    0.081081,    0.082082,    0.083083,    0.084084,    0.085085,    0.086086,    0.087087,    0.088088,    0.089089,     0.09009,    0.091091,    0.092092,    0.093093,    0.094094,    0.095095,\n",
            "          0.096096,    0.097097,    0.098098,    0.099099,      0.1001,      0.1011,      0.1021,      0.1031,      0.1041,     0.10511,     0.10611,     0.10711,     0.10811,     0.10911,     0.11011,     0.11111,     0.11211,     0.11311,     0.11411,     0.11512,     0.11612,     0.11712,     0.11812,     0.11912,\n",
            "           0.12012,     0.12112,     0.12212,     0.12312,     0.12412,     0.12513,     0.12613,     0.12713,     0.12813,     0.12913,     0.13013,     0.13113,     0.13213,     0.13313,     0.13413,     0.13514,     0.13614,     0.13714,     0.13814,     0.13914,     0.14014,     0.14114,     0.14214,     0.14314,\n",
            "           0.14414,     0.14515,     0.14615,     0.14715,     0.14815,     0.14915,     0.15015,     0.15115,     0.15215,     0.15315,     0.15415,     0.15516,     0.15616,     0.15716,     0.15816,     0.15916,     0.16016,     0.16116,     0.16216,     0.16316,     0.16416,     0.16517,     0.16617,     0.16717,\n",
            "           0.16817,     0.16917,     0.17017,     0.17117,     0.17217,     0.17317,     0.17417,     0.17518,     0.17618,     0.17718,     0.17818,     0.17918,     0.18018,     0.18118,     0.18218,     0.18318,     0.18418,     0.18519,     0.18619,     0.18719,     0.18819,     0.18919,     0.19019,     0.19119,\n",
            "           0.19219,     0.19319,     0.19419,      0.1952,      0.1962,      0.1972,      0.1982,      0.1992,      0.2002,      0.2012,      0.2022,      0.2032,      0.2042,     0.20521,     0.20621,     0.20721,     0.20821,     0.20921,     0.21021,     0.21121,     0.21221,     0.21321,     0.21421,     0.21522,\n",
            "           0.21622,     0.21722,     0.21822,     0.21922,     0.22022,     0.22122,     0.22222,     0.22322,     0.22422,     0.22523,     0.22623,     0.22723,     0.22823,     0.22923,     0.23023,     0.23123,     0.23223,     0.23323,     0.23423,     0.23524,     0.23624,     0.23724,     0.23824,     0.23924,\n",
            "           0.24024,     0.24124,     0.24224,     0.24324,     0.24424,     0.24525,     0.24625,     0.24725,     0.24825,     0.24925,     0.25025,     0.25125,     0.25225,     0.25325,     0.25425,     0.25526,     0.25626,     0.25726,     0.25826,     0.25926,     0.26026,     0.26126,     0.26226,     0.26326,\n",
            "           0.26426,     0.26527,     0.26627,     0.26727,     0.26827,     0.26927,     0.27027,     0.27127,     0.27227,     0.27327,     0.27427,     0.27528,     0.27628,     0.27728,     0.27828,     0.27928,     0.28028,     0.28128,     0.28228,     0.28328,     0.28428,     0.28529,     0.28629,     0.28729,\n",
            "           0.28829,     0.28929,     0.29029,     0.29129,     0.29229,     0.29329,     0.29429,      0.2953,      0.2963,      0.2973,      0.2983,      0.2993,      0.3003,      0.3013,      0.3023,      0.3033,      0.3043,     0.30531,     0.30631,     0.30731,     0.30831,     0.30931,     0.31031,     0.31131,\n",
            "           0.31231,     0.31331,     0.31431,     0.31532,     0.31632,     0.31732,     0.31832,     0.31932,     0.32032,     0.32132,     0.32232,     0.32332,     0.32432,     0.32533,     0.32633,     0.32733,     0.32833,     0.32933,     0.33033,     0.33133,     0.33233,     0.33333,     0.33433,     0.33534,\n",
            "           0.33634,     0.33734,     0.33834,     0.33934,     0.34034,     0.34134,     0.34234,     0.34334,     0.34434,     0.34535,     0.34635,     0.34735,     0.34835,     0.34935,     0.35035,     0.35135,     0.35235,     0.35335,     0.35435,     0.35536,     0.35636,     0.35736,     0.35836,     0.35936,\n",
            "           0.36036,     0.36136,     0.36236,     0.36336,     0.36436,     0.36537,     0.36637,     0.36737,     0.36837,     0.36937,     0.37037,     0.37137,     0.37237,     0.37337,     0.37437,     0.37538,     0.37638,     0.37738,     0.37838,     0.37938,     0.38038,     0.38138,     0.38238,     0.38338,\n",
            "           0.38438,     0.38539,     0.38639,     0.38739,     0.38839,     0.38939,     0.39039,     0.39139,     0.39239,     0.39339,     0.39439,      0.3954,      0.3964,      0.3974,      0.3984,      0.3994,      0.4004,      0.4014,      0.4024,      0.4034,      0.4044,     0.40541,     0.40641,     0.40741,\n",
            "           0.40841,     0.40941,     0.41041,     0.41141,     0.41241,     0.41341,     0.41441,     0.41542,     0.41642,     0.41742,     0.41842,     0.41942,     0.42042,     0.42142,     0.42242,     0.42342,     0.42442,     0.42543,     0.42643,     0.42743,     0.42843,     0.42943,     0.43043,     0.43143,\n",
            "           0.43243,     0.43343,     0.43443,     0.43544,     0.43644,     0.43744,     0.43844,     0.43944,     0.44044,     0.44144,     0.44244,     0.44344,     0.44444,     0.44545,     0.44645,     0.44745,     0.44845,     0.44945,     0.45045,     0.45145,     0.45245,     0.45345,     0.45445,     0.45546,\n",
            "           0.45646,     0.45746,     0.45846,     0.45946,     0.46046,     0.46146,     0.46246,     0.46346,     0.46446,     0.46547,     0.46647,     0.46747,     0.46847,     0.46947,     0.47047,     0.47147,     0.47247,     0.47347,     0.47447,     0.47548,     0.47648,     0.47748,     0.47848,     0.47948,\n",
            "           0.48048,     0.48148,     0.48248,     0.48348,     0.48448,     0.48549,     0.48649,     0.48749,     0.48849,     0.48949,     0.49049,     0.49149,     0.49249,     0.49349,     0.49449,      0.4955,      0.4965,      0.4975,      0.4985,      0.4995,      0.5005,      0.5015,      0.5025,      0.5035,\n",
            "            0.5045,     0.50551,     0.50651,     0.50751,     0.50851,     0.50951,     0.51051,     0.51151,     0.51251,     0.51351,     0.51451,     0.51552,     0.51652,     0.51752,     0.51852,     0.51952,     0.52052,     0.52152,     0.52252,     0.52352,     0.52452,     0.52553,     0.52653,     0.52753,\n",
            "           0.52853,     0.52953,     0.53053,     0.53153,     0.53253,     0.53353,     0.53453,     0.53554,     0.53654,     0.53754,     0.53854,     0.53954,     0.54054,     0.54154,     0.54254,     0.54354,     0.54454,     0.54555,     0.54655,     0.54755,     0.54855,     0.54955,     0.55055,     0.55155,\n",
            "           0.55255,     0.55355,     0.55455,     0.55556,     0.55656,     0.55756,     0.55856,     0.55956,     0.56056,     0.56156,     0.56256,     0.56356,     0.56456,     0.56557,     0.56657,     0.56757,     0.56857,     0.56957,     0.57057,     0.57157,     0.57257,     0.57357,     0.57457,     0.57558,\n",
            "           0.57658,     0.57758,     0.57858,     0.57958,     0.58058,     0.58158,     0.58258,     0.58358,     0.58458,     0.58559,     0.58659,     0.58759,     0.58859,     0.58959,     0.59059,     0.59159,     0.59259,     0.59359,     0.59459,      0.5956,      0.5966,      0.5976,      0.5986,      0.5996,\n",
            "            0.6006,      0.6016,      0.6026,      0.6036,      0.6046,     0.60561,     0.60661,     0.60761,     0.60861,     0.60961,     0.61061,     0.61161,     0.61261,     0.61361,     0.61461,     0.61562,     0.61662,     0.61762,     0.61862,     0.61962,     0.62062,     0.62162,     0.62262,     0.62362,\n",
            "           0.62462,     0.62563,     0.62663,     0.62763,     0.62863,     0.62963,     0.63063,     0.63163,     0.63263,     0.63363,     0.63463,     0.63564,     0.63664,     0.63764,     0.63864,     0.63964,     0.64064,     0.64164,     0.64264,     0.64364,     0.64464,     0.64565,     0.64665,     0.64765,\n",
            "           0.64865,     0.64965,     0.65065,     0.65165,     0.65265,     0.65365,     0.65465,     0.65566,     0.65666,     0.65766,     0.65866,     0.65966,     0.66066,     0.66166,     0.66266,     0.66366,     0.66466,     0.66567,     0.66667,     0.66767,     0.66867,     0.66967,     0.67067,     0.67167,\n",
            "           0.67267,     0.67367,     0.67467,     0.67568,     0.67668,     0.67768,     0.67868,     0.67968,     0.68068,     0.68168,     0.68268,     0.68368,     0.68468,     0.68569,     0.68669,     0.68769,     0.68869,     0.68969,     0.69069,     0.69169,     0.69269,     0.69369,     0.69469,      0.6957,\n",
            "            0.6967,      0.6977,      0.6987,      0.6997,      0.7007,      0.7017,      0.7027,      0.7037,      0.7047,     0.70571,     0.70671,     0.70771,     0.70871,     0.70971,     0.71071,     0.71171,     0.71271,     0.71371,     0.71471,     0.71572,     0.71672,     0.71772,     0.71872,     0.71972,\n",
            "           0.72072,     0.72172,     0.72272,     0.72372,     0.72472,     0.72573,     0.72673,     0.72773,     0.72873,     0.72973,     0.73073,     0.73173,     0.73273,     0.73373,     0.73473,     0.73574,     0.73674,     0.73774,     0.73874,     0.73974,     0.74074,     0.74174,     0.74274,     0.74374,\n",
            "           0.74474,     0.74575,     0.74675,     0.74775,     0.74875,     0.74975,     0.75075,     0.75175,     0.75275,     0.75375,     0.75475,     0.75576,     0.75676,     0.75776,     0.75876,     0.75976,     0.76076,     0.76176,     0.76276,     0.76376,     0.76476,     0.76577,     0.76677,     0.76777,\n",
            "           0.76877,     0.76977,     0.77077,     0.77177,     0.77277,     0.77377,     0.77477,     0.77578,     0.77678,     0.77778,     0.77878,     0.77978,     0.78078,     0.78178,     0.78278,     0.78378,     0.78478,     0.78579,     0.78679,     0.78779,     0.78879,     0.78979,     0.79079,     0.79179,\n",
            "           0.79279,     0.79379,     0.79479,      0.7958,      0.7968,      0.7978,      0.7988,      0.7998,      0.8008,      0.8018,      0.8028,      0.8038,      0.8048,     0.80581,     0.80681,     0.80781,     0.80881,     0.80981,     0.81081,     0.81181,     0.81281,     0.81381,     0.81481,     0.81582,\n",
            "           0.81682,     0.81782,     0.81882,     0.81982,     0.82082,     0.82182,     0.82282,     0.82382,     0.82482,     0.82583,     0.82683,     0.82783,     0.82883,     0.82983,     0.83083,     0.83183,     0.83283,     0.83383,     0.83483,     0.83584,     0.83684,     0.83784,     0.83884,     0.83984,\n",
            "           0.84084,     0.84184,     0.84284,     0.84384,     0.84484,     0.84585,     0.84685,     0.84785,     0.84885,     0.84985,     0.85085,     0.85185,     0.85285,     0.85385,     0.85485,     0.85586,     0.85686,     0.85786,     0.85886,     0.85986,     0.86086,     0.86186,     0.86286,     0.86386,\n",
            "           0.86486,     0.86587,     0.86687,     0.86787,     0.86887,     0.86987,     0.87087,     0.87187,     0.87287,     0.87387,     0.87487,     0.87588,     0.87688,     0.87788,     0.87888,     0.87988,     0.88088,     0.88188,     0.88288,     0.88388,     0.88488,     0.88589,     0.88689,     0.88789,\n",
            "           0.88889,     0.88989,     0.89089,     0.89189,     0.89289,     0.89389,     0.89489,      0.8959,      0.8969,      0.8979,      0.8989,      0.8999,      0.9009,      0.9019,      0.9029,      0.9039,      0.9049,     0.90591,     0.90691,     0.90791,     0.90891,     0.90991,     0.91091,     0.91191,\n",
            "           0.91291,     0.91391,     0.91491,     0.91592,     0.91692,     0.91792,     0.91892,     0.91992,     0.92092,     0.92192,     0.92292,     0.92392,     0.92492,     0.92593,     0.92693,     0.92793,     0.92893,     0.92993,     0.93093,     0.93193,     0.93293,     0.93393,     0.93493,     0.93594,\n",
            "           0.93694,     0.93794,     0.93894,     0.93994,     0.94094,     0.94194,     0.94294,     0.94394,     0.94494,     0.94595,     0.94695,     0.94795,     0.94895,     0.94995,     0.95095,     0.95195,     0.95295,     0.95395,     0.95495,     0.95596,     0.95696,     0.95796,     0.95896,     0.95996,\n",
            "           0.96096,     0.96196,     0.96296,     0.96396,     0.96496,     0.96597,     0.96697,     0.96797,     0.96897,     0.96997,     0.97097,     0.97197,     0.97297,     0.97397,     0.97497,     0.97598,     0.97698,     0.97798,     0.97898,     0.97998,     0.98098,     0.98198,     0.98298,     0.98398,\n",
            "           0.98498,     0.98599,     0.98699,     0.98799,     0.98899,     0.98999,     0.99099,     0.99199,     0.99299,     0.99399,     0.99499,       0.996,       0.997,       0.998,       0.999,           1]), array([[    0.93431,     0.93431,     0.91971,     0.91971,     0.91971,     0.91241,     0.89781,     0.89781,     0.89051,     0.87591,     0.86131,     0.85401,     0.84672,     0.83942,     0.83942,     0.82482,     0.81022,     0.81022,     0.79562,     0.79562,     0.79562,     0.79562,     0.78832,\n",
            "            0.78832,     0.78832,     0.77372,     0.76642,     0.76364,     0.75912,     0.75182,     0.75182,     0.73723,     0.72993,     0.72993,     0.72993,     0.72993,     0.72993,     0.72263,     0.70803,     0.70073,     0.70073,     0.70073,     0.70073,     0.70073,     0.69103,     0.67883,\n",
            "            0.67153,     0.67153,     0.66423,     0.66423,     0.66423,     0.65693,     0.65693,     0.65693,     0.65693,     0.65693,     0.65693,     0.65693,     0.64964,     0.63504,     0.62774,     0.62774,     0.62774,     0.62774,     0.62774,     0.62774,     0.62774,     0.62774,     0.62774,\n",
            "            0.62774,     0.62774,     0.62774,     0.62044,     0.62044,     0.60881,     0.58394,     0.57153,     0.56934,     0.55474,     0.55474,     0.55474,     0.55474,     0.55474,     0.55474,     0.55474,     0.55474,     0.55474,     0.55474,     0.55474,     0.55474,     0.55474,     0.54745,\n",
            "            0.54745,     0.53882,     0.53285,     0.53285,     0.53285,     0.53285,     0.53285,     0.53285,     0.53285,     0.53285,     0.53144,     0.52555,     0.52555,     0.52084,     0.51825,     0.51825,     0.51825,     0.51825,     0.51825,     0.51825,     0.51825,     0.51825,     0.51825,\n",
            "            0.51095,     0.50365,     0.49635,     0.49635,     0.49635,     0.49635,     0.49635,     0.48905,     0.48905,     0.48905,     0.48905,     0.48905,     0.48905,     0.48905,     0.48905,     0.48905,     0.48905,     0.48175,     0.48175,     0.48175,     0.48175,     0.48175,     0.48175,\n",
            "            0.48175,     0.47475,     0.47445,     0.47213,     0.46254,     0.45985,     0.45985,     0.45985,     0.45985,     0.45648,     0.45255,     0.45255,     0.45255,     0.45255,     0.45255,     0.45255,     0.45255,     0.45255,     0.45255,     0.45255,      0.4505,     0.44526,     0.44526,\n",
            "            0.44526,     0.43796,     0.43418,     0.43066,     0.42925,     0.42336,     0.42336,     0.42336,     0.42336,     0.42336,     0.41606,     0.41606,     0.41606,     0.41606,     0.41137,     0.40876,     0.40876,     0.40876,     0.40876,     0.40876,     0.40876,     0.40876,     0.40876,\n",
            "            0.40876,     0.40816,     0.40632,     0.40447,     0.40262,     0.40146,     0.40146,     0.40146,     0.40146,     0.40146,     0.40146,     0.40146,     0.40146,     0.39416,     0.39416,     0.39416,     0.39416,     0.39416,     0.39416,     0.39416,     0.39416,     0.39416,     0.39416,\n",
            "            0.39416,     0.39416,     0.39416,     0.39127,     0.38769,     0.38686,     0.38686,     0.38473,     0.37956,     0.37956,     0.37795,     0.36496,     0.36447,      0.3571,     0.35473,     0.35236,     0.35036,     0.35036,     0.35036,     0.35036,     0.35036,     0.35036,     0.35036,\n",
            "            0.35036,      0.3487,     0.34518,     0.34307,     0.34106,     0.33673,     0.33577,     0.33577,     0.33577,     0.33577,     0.33577,     0.33577,     0.33577,     0.33577,     0.33577,     0.33577,     0.33577,     0.33577,     0.33577,     0.33577,     0.33577,     0.33577,     0.33577,\n",
            "            0.33577,     0.33577,     0.33577,     0.33577,     0.33577,     0.33577,     0.33577,     0.33577,     0.33577,     0.33577,     0.32847,     0.32847,     0.32847,     0.32847,     0.32847,     0.31387,     0.31387,     0.31387,     0.31375,     0.31002,     0.30657,     0.30529,     0.30102,\n",
            "            0.29834,     0.29676,     0.29518,     0.29361,     0.29203,     0.29197,     0.29197,     0.29197,     0.29197,     0.29197,     0.29197,     0.29197,     0.29197,     0.29197,     0.29197,     0.29162,     0.28467,     0.28467,     0.28467,     0.28294,     0.28094,     0.27893,     0.27737,\n",
            "            0.27737,     0.27737,     0.27737,     0.27737,     0.27702,     0.27594,     0.27486,     0.27378,     0.27271,     0.27163,     0.27055,     0.27007,     0.27007,     0.27007,     0.27007,       0.269,     0.26244,     0.26143,     0.26043,     0.25942,     0.25841,     0.25741,      0.2564,\n",
            "            0.25498,      0.2487,     0.24088,     0.24088,     0.24088,     0.24088,     0.23358,     0.23306,     0.23173,     0.23039,     0.22905,     0.22772,     0.22638,     0.22628,     0.22628,     0.22628,     0.22628,     0.22628,     0.22628,     0.22628,     0.22628,     0.22628,     0.22628,\n",
            "            0.22628,     0.22628,     0.22628,     0.22628,     0.22628,     0.22628,     0.22628,     0.22628,     0.22628,     0.22628,     0.22628,     0.22237,     0.21703,     0.21466,      0.2123,     0.20969,     0.20699,     0.20438,     0.20438,     0.20438,     0.20438,     0.20438,     0.20438,\n",
            "            0.20349,     0.20063,     0.19777,     0.19708,     0.19708,     0.19708,     0.19708,      0.1864,     0.18155,     0.17992,     0.17828,     0.17665,     0.17518,     0.17518,     0.17518,     0.17518,     0.17518,     0.17518,     0.17518,     0.17518,     0.17518,     0.17518,     0.17518,\n",
            "            0.17518,     0.17518,     0.17518,     0.17518,     0.17518,     0.17437,     0.17256,     0.17074,     0.16893,     0.16788,      0.1634,     0.16058,     0.16058,     0.16058,     0.16058,     0.16058,      0.1554,     0.15328,     0.15328,     0.15241,     0.14758,     0.14444,     0.14212,\n",
            "            0.13981,     0.13828,      0.1375,     0.13671,     0.13593,     0.13514,     0.13436,     0.13357,     0.13279,       0.132,     0.13139,     0.13139,      0.1256,     0.12409,     0.12409,     0.12361,     0.12306,     0.12251,     0.12197,     0.12142,     0.12088,     0.12033,     0.11978,\n",
            "            0.11924,     0.11869,     0.11814,      0.1176,     0.11705,     0.11663,     0.11631,       0.116,     0.11568,     0.11537,     0.11506,     0.11474,     0.11443,     0.11411,      0.1138,     0.11348,     0.11317,     0.11286,     0.11254,     0.11223,     0.11191,      0.1116,     0.11128,\n",
            "            0.11097,     0.11066,     0.11034,     0.11003,     0.10971,     0.10949,     0.10949,     0.10949,     0.10949,     0.10949,     0.10949,     0.10949,     0.10949,     0.10949,     0.10949,     0.10949,     0.10949,     0.10949,     0.10949,     0.10808,     0.10538,     0.10268,     0.10219,\n",
            "            0.10219,     0.10219,     0.10219,     0.10219,     0.10219,     0.10219,     0.10219,     0.10219,     0.10219,     0.10219,     0.10219,     0.10219,     0.10219,     0.10219,     0.10219,     0.10219,     0.10219,     0.10219,     0.10219,     0.10219,     0.10219,     0.10219,     0.10219,\n",
            "            0.10219,     0.10219,     0.10155,    0.099737,    0.097928,    0.096118,    0.092656,    0.087526,    0.087285,    0.087044,    0.086803,    0.086561,     0.08632,    0.086079,    0.085838,    0.085597,    0.085356,    0.085115,    0.084873,    0.084632,    0.084391,     0.08415,    0.083909,\n",
            "           0.083668,    0.083427,    0.083185,    0.082944,    0.082703,    0.082462,    0.082221,     0.08198,    0.081739,    0.081497,    0.081256,    0.081015,    0.080774,    0.080533,    0.080287,    0.075689,    0.072603,    0.071662,    0.070721,     0.06978,    0.068839,    0.067898,    0.066957,\n",
            "           0.066015,    0.064279,     0.06151,     0.05874,    0.057875,    0.057281,    0.056687,    0.056093,    0.055499,    0.054905,    0.054311,    0.053717,    0.053123,    0.052529,    0.051936,    0.051342,    0.051095,    0.051095,    0.051095,    0.051095,    0.051095,    0.051095,    0.051095,\n",
            "           0.051095,    0.051095,    0.051095,    0.051095,    0.050914,    0.050665,    0.050417,    0.050169,     0.04992,    0.049672,    0.049424,    0.049175,    0.048927,    0.048679,     0.04843,    0.048182,    0.047934,    0.047685,    0.047437,    0.047189,     0.04694,    0.046692,    0.046444,\n",
            "           0.046195,    0.045947,    0.045699,     0.04545,    0.045202,    0.044954,    0.044705,    0.044457,    0.044209,     0.04396,    0.043122,    0.041122,    0.039122,    0.037122,    0.036496,    0.036496,    0.036496,    0.036496,    0.036496,    0.036496,    0.036496,    0.036496,    0.036496,\n",
            "           0.036496,    0.036496,    0.036496,    0.036496,    0.036496,    0.036496,    0.036496,    0.036496,    0.036496,    0.035923,    0.034952,    0.033981,     0.03301,    0.032039,    0.031069,    0.030098,    0.028449,    0.021541,    0.020566,    0.019591,    0.018616,    0.017641,    0.016666,\n",
            "           0.015691,    0.014716,    0.014599,    0.014599,    0.014599,    0.014599,    0.014599,    0.014599,    0.014599,    0.014599,    0.014599,    0.014599,    0.014599,    0.014599,    0.014599,    0.014599,    0.014599,    0.014599,    0.014599,    0.014599,    0.014599,    0.014599,    0.014599,\n",
            "           0.014599,    0.014599,    0.014599,    0.014599,    0.014599,    0.014599,    0.014599,    0.014599,    0.014599,    0.014599,    0.014599,    0.014599,    0.014599,    0.014599,    0.014599,    0.014599,    0.014599,    0.014599,    0.014599,    0.014599,    0.014599,    0.014599,    0.014599,\n",
            "           0.014599,    0.014599,    0.014599,    0.014599,    0.014599,    0.014599,    0.014599,    0.014599,    0.014599,    0.014599,    0.014599,    0.014599,    0.014599,    0.014599,    0.014599,    0.014599,    0.014599,    0.014599,    0.014599,    0.014599,    0.014599,    0.014599,    0.014599,\n",
            "           0.014599,    0.014599,    0.014599,    0.014599,    0.014599,    0.014599,    0.014599,    0.014599,    0.014599,    0.014599,    0.014599,    0.014599,    0.014599,    0.014599,    0.014599,    0.014599,    0.014599,    0.014599,    0.014599,    0.014599,    0.014599,    0.014599,    0.014599,\n",
            "           0.014599,    0.014599,    0.014599,    0.014599,    0.014599,    0.014599,    0.014599,    0.014599,    0.014599,    0.014599,    0.014599,    0.014599,    0.014599,    0.014599,    0.014599,    0.014599,    0.014599,    0.014599,    0.014599,    0.014599,    0.014599,    0.014599,    0.014599,\n",
            "           0.014599,    0.014599,    0.014599,    0.014599,    0.014599,    0.014599,    0.014599,    0.014599,    0.014451,    0.014277,    0.014102,    0.013928,    0.013753,    0.013579,    0.013405,     0.01323,    0.013056,    0.012881,    0.012707,    0.012532,    0.012358,    0.012183,    0.012009,\n",
            "           0.011834,     0.01166,    0.011485,    0.011311,    0.011136,    0.010962,    0.010788,    0.010613,    0.010439,    0.010264,     0.01009,   0.0099153,   0.0097408,   0.0095663,   0.0093919,   0.0092174,   0.0090429,   0.0088685,    0.008694,   0.0085196,   0.0083451,   0.0081706,   0.0079962,\n",
            "          0.0078217,   0.0076472,   0.0074728,           0,           0,           0,           0,           0,           0,           0,           0,           0,           0,           0,           0,           0,           0,           0,           0,           0,           0,           0,           0,\n",
            "                  0,           0,           0,           0,           0,           0,           0,           0,           0,           0,           0,           0,           0,           0,           0,           0,           0,           0,           0,           0,           0,           0,           0,\n",
            "                  0,           0,           0,           0,           0,           0,           0,           0,           0,           0,           0,           0,           0,           0,           0,           0,           0,           0,           0,           0,           0,           0,           0,\n",
            "                  0,           0,           0,           0,           0,           0,           0,           0,           0,           0,           0,           0,           0,           0,           0,           0,           0,           0,           0,           0,           0,           0,           0,\n",
            "                  0,           0,           0,           0,           0,           0,           0,           0,           0,           0,           0,           0,           0,           0,           0,           0,           0,           0,           0,           0,           0,           0,           0,\n",
            "                  0,           0,           0,           0,           0,           0,           0,           0,           0,           0,           0,           0,           0,           0,           0,           0,           0,           0,           0,           0,           0,           0,           0,\n",
            "                  0,           0,           0,           0,           0,           0,           0,           0,           0,           0,           0,           0,           0,           0,           0,           0,           0,           0,           0,           0,           0,           0,           0,\n",
            "                  0,           0,           0,           0,           0,           0,           0,           0,           0,           0,           0,           0,           0,           0,           0,           0,           0,           0,           0,           0,           0,           0,           0,\n",
            "                  0,           0,           0,           0,           0,           0,           0,           0,           0,           0,           0]]), 'Confidence', 'Recall']]\n",
            "fitness: np.float64(0.17096522575983425)\n",
            "keys: ['metrics/precision(B)', 'metrics/recall(B)', 'metrics/mAP50(B)', 'metrics/mAP50-95(B)']\n",
            "maps: array([    0.15512])\n",
            "names: {0: 'Bone Loss'}\n",
            "nt_per_class: array([137])\n",
            "nt_per_image: array([122])\n",
            "results_dict: {'metrics/precision(B)': np.float64(0.38995834731743106), 'metrics/recall(B)': np.float64(0.37794978332025053), 'metrics/mAP50(B)': np.float64(0.3135312491282593), 'metrics/mAP50-95(B)': np.float64(0.1551245564966759), 'fitness': np.float64(0.17096522575983425)}\n",
            "save_dir: PosixPath('runs/detect/train2')\n",
            "speed: {'preprocess': 1.1833352664108525, 'inference': 10.00231617893172, 'loss': 0.011833001979893799, 'postprocess': 1.2963273339948616}\n",
            "stats: {'tp': [], 'conf': [], 'pred_cls': [], 'target_cls': [], 'target_img': []}\n",
            "task: 'detect'\n"
          ]
        }
      ]
    },
    {
      "cell_type": "code",
      "source": [
        "result = model.predict(source=f\"{dataset.location}/test/images\", save=True, conf=0.25)"
      ],
      "metadata": {
        "colab": {
          "base_uri": "https://localhost:8080/"
        },
        "id": "JPmSw9mZ0Ana",
        "outputId": "4f79c15e-7723-4253-87ca-2da2114d7daa"
      },
      "execution_count": 10,
      "outputs": [
        {
          "output_type": "stream",
          "name": "stdout",
          "text": [
            "\n",
            "image 1/259 /content/dadad-rvg-2/test/images/0015bed12a914892a65b4d0a175a4a6e_png.rf.66f4da266fe5f5657a1cbf23b4db8cd3.jpg: 640x640 1 Bone Loss, 16.3ms\n",
            "image 2/259 /content/dadad-rvg-2/test/images/026ee02f9f5c4dd19254f740570d1c70_png.rf.8c49848694d38dd6a6e24f43edd7f95e.jpg: 640x640 (no detections), 16.2ms\n",
            "image 3/259 /content/dadad-rvg-2/test/images/02c7f4704baa47a28146ec2d77e6d655_png.rf.2748850c5be8e645b33cf5bb385bc94b.jpg: 640x640 (no detections), 16.2ms\n",
            "image 4/259 /content/dadad-rvg-2/test/images/033ae76fed0c4cf987b22f5298358faf_png.rf.62a0a10760fee63a0db8ddebf2cc763e.jpg: 640x640 (no detections), 16.2ms\n",
            "image 5/259 /content/dadad-rvg-2/test/images/046da53160ef4664a580354f84b1c2ba_png.rf.ca35914ccf9450bb32517f05560287d0.jpg: 640x640 1 Bone Loss, 16.2ms\n",
            "image 6/259 /content/dadad-rvg-2/test/images/0fa48906b9a34a55bf1dc544b7dc355f_png.rf.f0ee378e96c78a94240a5584903c1d84.jpg: 640x640 (no detections), 17.1ms\n",
            "image 7/259 /content/dadad-rvg-2/test/images/13aa4417d65b48779ae55bf0de615e07_png.rf.2a3b5267eb6e717f505bf3781791fe1f.jpg: 640x640 (no detections), 15.7ms\n",
            "image 8/259 /content/dadad-rvg-2/test/images/1413a4ff05064e738d179681f2911b3d_png.rf.0c690d0e9d594a9d6a2d2155e00c494b.jpg: 640x640 (no detections), 15.2ms\n",
            "image 9/259 /content/dadad-rvg-2/test/images/1477b0768f154bdaa4926fcf36cccbdf_png.rf.b45a272e1c18a422593e94900982461b.jpg: 640x640 (no detections), 15.2ms\n",
            "image 10/259 /content/dadad-rvg-2/test/images/16496bf6e2ee4f1ab9d6d9fd8f58aa87_png.rf.76a5448c244d8ff6cfe057982e0b8972.jpg: 640x640 1 Bone Loss, 15.2ms\n",
            "image 11/259 /content/dadad-rvg-2/test/images/167c9027c8394a23b64c24292dd54631_png.rf.b49cf31bb65a621c9e128f5b55cb3045.jpg: 640x640 (no detections), 15.2ms\n",
            "image 12/259 /content/dadad-rvg-2/test/images/1827fba27ad64592b03b4d42dcdab143_png.rf.2c4dad4daee3f65fa0f9d5e93455ce3e.jpg: 640x640 (no detections), 15.2ms\n",
            "image 13/259 /content/dadad-rvg-2/test/images/1b3c7af167704362be9c9f82c35b5da9_png.rf.6694aca310416bf2301793fcac118aec.jpg: 640x640 (no detections), 15.2ms\n",
            "image 14/259 /content/dadad-rvg-2/test/images/1c531be6435c4edeb72fa243f9e15aeb_png.rf.a5c25cebe74f591f7340298f94beb0dc.jpg: 640x640 (no detections), 15.3ms\n",
            "image 15/259 /content/dadad-rvg-2/test/images/1ffed6088367471993fb91fdb39cfbb3_png.rf.76e2d8f1dfdaec1b4aabeeaf44298263.jpg: 640x640 1 Bone Loss, 15.4ms\n",
            "image 16/259 /content/dadad-rvg-2/test/images/23b3ed002b544b528f9733870074ce76_png.rf.3c7ad5b0ba56cfc5fa9498d38c0e2014.jpg: 640x640 (no detections), 10.2ms\n",
            "image 17/259 /content/dadad-rvg-2/test/images/250eba392013401abdec08f1818721f0_png.rf.373c7e51f201c32f62db5034e036f409.jpg: 640x640 (no detections), 10.2ms\n",
            "image 18/259 /content/dadad-rvg-2/test/images/26aec05080f744a38d569d6ae3e96464_png.rf.868c7e6f19319711fc3c124963a8e814.jpg: 640x640 1 Bone Loss, 10.1ms\n",
            "image 19/259 /content/dadad-rvg-2/test/images/27d273eeea3a4fd28902c543d0ef268f_png.rf.3b28356287684c39f7d09989b8375b03.jpg: 640x640 (no detections), 10.2ms\n",
            "image 20/259 /content/dadad-rvg-2/test/images/29144d261629410cad3d1c5f5aa53d1d_png.rf.d27f7b4a1b926d25e37a2b28524c9d8e.jpg: 640x640 (no detections), 10.2ms\n",
            "image 21/259 /content/dadad-rvg-2/test/images/2a7b616867c1463694ce4805555182c1_png.rf.43b3f71be7e6a63677fd2372b857265f.jpg: 640x640 1 Bone Loss, 10.0ms\n",
            "image 22/259 /content/dadad-rvg-2/test/images/2b14744df8b0463981f9dce9f4aaa013_png.rf.82147c003060a67454a01afb0cbc7768.jpg: 640x640 (no detections), 10.0ms\n",
            "image 23/259 /content/dadad-rvg-2/test/images/2cb657f6636647439e2c9f0af03c55a0_png.rf.31a416d0a1f1280eca73d60c3ecd627f.jpg: 640x640 1 Bone Loss, 10.0ms\n",
            "image 24/259 /content/dadad-rvg-2/test/images/317397b74c524400af62a9791d5bd084_png.rf.208db3921eebf6eb4015a4b4f3135d7e.jpg: 640x640 (no detections), 10.1ms\n",
            "image 25/259 /content/dadad-rvg-2/test/images/35699dd896f848899951565bf53dde2c_png.rf.3a6fa06cd446a87b4bda87f03e1770bf.jpg: 640x640 (no detections), 10.0ms\n",
            "image 26/259 /content/dadad-rvg-2/test/images/37c92971be1142209deb4edb10d9e1c6_png.rf.1d9e588af3d58dce55f67943f3d935f2.jpg: 640x640 (no detections), 8.9ms\n",
            "image 27/259 /content/dadad-rvg-2/test/images/37ee65e8c15f41a8b117871d397197e8_png.rf.6993d2b82b5ce1c5263bbe6be08a80b9.jpg: 640x640 (no detections), 8.2ms\n",
            "image 28/259 /content/dadad-rvg-2/test/images/39d5bc6002ee40b59fe81438edb2232c_png.rf.05c3e7496661f3c93f9aac615d30c003.jpg: 640x640 (no detections), 8.3ms\n",
            "image 29/259 /content/dadad-rvg-2/test/images/3c6c08859bfd44a280d743f92cd9449e_png.rf.fe52692b38bdf55734dc5b3b711d1bee.jpg: 640x640 (no detections), 8.3ms\n",
            "image 30/259 /content/dadad-rvg-2/test/images/3ce408363eee45c5902c86150f6576fd_png.rf.f0288452ab3ff38196358055a93eb180.jpg: 640x640 (no detections), 8.2ms\n",
            "image 31/259 /content/dadad-rvg-2/test/images/3face9913b4542798090a8ad06468f65_png.rf.0a5be6a1d3ac6c70bdc24ca67149e38b.jpg: 640x640 (no detections), 8.3ms\n",
            "image 32/259 /content/dadad-rvg-2/test/images/42ccb30f4e2d46af9c700fb7490d707b_png.rf.16cd6f48ea6671c676b253c7ef3e866c.jpg: 640x640 (no detections), 8.3ms\n",
            "image 33/259 /content/dadad-rvg-2/test/images/44bb8045a81c4df7bf089764335c1299_png.rf.dc0a377c0f3af688b925b3dc850a2475.jpg: 640x640 1 Bone Loss, 8.3ms\n",
            "image 34/259 /content/dadad-rvg-2/test/images/475ca6de943a408bbc3ecdb2bd4bb8b9_png.rf.2d9cf4eed6c5b88f34e5871012872519.jpg: 640x640 (no detections), 8.2ms\n",
            "image 35/259 /content/dadad-rvg-2/test/images/48c7e10f663448f3bb04e987952f2d3a_png.rf.c0ece45fc93d6197fe9e3fcabcdb4d34.jpg: 640x640 2 Bone Losss, 8.2ms\n",
            "image 36/259 /content/dadad-rvg-2/test/images/4a08b1b0a4684e9e825a28db98e15180_png.rf.4be63771815e52c8f20494288da05270.jpg: 640x640 (no detections), 8.2ms\n",
            "image 37/259 /content/dadad-rvg-2/test/images/4a3393fe38314e31926b532278a1310a_png.rf.a837cc0cc616020f38c843616a0c4ca2.jpg: 640x640 2 Bone Losss, 8.2ms\n",
            "image 38/259 /content/dadad-rvg-2/test/images/4c40b95fa6f24e248c70bc4c4c58c8d8_png.rf.ef0ea5a6a4ea1d522d6f417262d00087.jpg: 640x640 (no detections), 8.1ms\n",
            "image 39/259 /content/dadad-rvg-2/test/images/4d96489a9e3d4be78d800ba74a048a79_png.rf.56b778019805ace7317bf82252d6bf8b.jpg: 640x640 2 Bone Losss, 7.7ms\n",
            "image 40/259 /content/dadad-rvg-2/test/images/4ff57083cb0949a786dffc290be60f46_png.rf.5904a9dbec038e825a44b3803072b601.jpg: 640x640 (no detections), 7.7ms\n",
            "image 41/259 /content/dadad-rvg-2/test/images/504ed65452fc43abafdc999b85432789_png.rf.4cc6b4b07aba22c7310259ab04cdc450.jpg: 640x640 (no detections), 7.6ms\n",
            "image 42/259 /content/dadad-rvg-2/test/images/52afd693dd9941a69f974700452963fd_png.rf.e89dfb46996a23da15c095cec7c04c52.jpg: 640x640 (no detections), 7.7ms\n",
            "image 43/259 /content/dadad-rvg-2/test/images/53273475a19d432ba45648dc94bb4fbd_png.rf.f90612cd8fef641a6790c3269c11d06f.jpg: 640x640 (no detections), 8.1ms\n",
            "image 44/259 /content/dadad-rvg-2/test/images/53367a81b03b4f969f6ebd66972250b4_png.rf.d9dc3ea915cdd60f706db00ff96941c9.jpg: 640x640 (no detections), 8.0ms\n",
            "image 45/259 /content/dadad-rvg-2/test/images/55696e8f8b0748ee9511971abd5a6a0a_png.rf.25cae02e2f95246441c68574da5994e2.jpg: 640x640 (no detections), 8.2ms\n",
            "image 46/259 /content/dadad-rvg-2/test/images/56289ee6d7e74045a94e000b314b9f11_png.rf.4b42e0b8ab3ecfe555a276193e6d3705.jpg: 640x640 (no detections), 7.7ms\n",
            "image 47/259 /content/dadad-rvg-2/test/images/591ce7d30ee443d6a93f9d0ed78f5bd1_png.rf.0491b6cd21ddd18d2611652a0f0cd6ac.jpg: 640x640 (no detections), 7.6ms\n",
            "image 48/259 /content/dadad-rvg-2/test/images/5f10a5b540cd4d4c9b3e3b15a8fa1382_png.rf.f9b7d82ead9ee8d5e58aef53fbd1e3c8.jpg: 640x640 (no detections), 8.3ms\n",
            "image 49/259 /content/dadad-rvg-2/test/images/60d70fe0020e4b4099770db770792d83_png.rf.f8d118d049cfa2bd748215ccbc58cbb7.jpg: 640x640 (no detections), 8.2ms\n",
            "image 50/259 /content/dadad-rvg-2/test/images/61f1d6845fad4bfca84f95907a795867_png.rf.d8a50ddcedd5b3d658a0ff73dfd62cd8.jpg: 640x640 (no detections), 7.8ms\n",
            "image 51/259 /content/dadad-rvg-2/test/images/63adc950c1e1497599b5074e27f9bd5c_png.rf.209562f59b4a4231b3db5c352881306a.jpg: 640x640 (no detections), 7.7ms\n",
            "image 52/259 /content/dadad-rvg-2/test/images/698c77dca5844e5ca1e6047dcec101c8_png.rf.1fd62f9acd8672197bf68ee2dbf78681.jpg: 640x640 (no detections), 7.6ms\n",
            "image 53/259 /content/dadad-rvg-2/test/images/6a7a96b2f7ec4722a1b7a778308917fb_png.rf.26e48a89342f3e440f931e946cedb1b8.jpg: 640x640 (no detections), 8.0ms\n",
            "image 54/259 /content/dadad-rvg-2/test/images/6d063299dafb4d38b636c0e90d43740c_png.rf.7272adadf53efafec71e8bf373dc9534.jpg: 640x640 (no detections), 7.9ms\n",
            "image 55/259 /content/dadad-rvg-2/test/images/6fd193b1c44040adbb8c6a1829b60986_png.rf.e75e5c87422612c61c6f28ea5755368e.jpg: 640x640 1 Bone Loss, 8.0ms\n",
            "image 56/259 /content/dadad-rvg-2/test/images/7015454e81a741f9b4491b61c2fbec8b_png.rf.c25a512d1896d7530e5f1dbc4c0528dc.jpg: 640x640 3 Bone Losss, 7.7ms\n",
            "image 57/259 /content/dadad-rvg-2/test/images/724b3f39a03743b9857ff3567d2ea778_png.rf.bf0f7bd053be420e9a14c359ce39719c.jpg: 640x640 (no detections), 7.7ms\n",
            "image 58/259 /content/dadad-rvg-2/test/images/74b68ebe6ba04972b12c6f99f6e33836_png.rf.aa5709ce6b0ffd11407913739c6932b0.jpg: 640x640 2 Bone Losss, 8.1ms\n",
            "image 59/259 /content/dadad-rvg-2/test/images/79df85866f554dc9b8e706734c3c8556_png.rf.dc1f6c2a2f169db597cddfd86f1e3217.jpg: 640x640 (no detections), 8.0ms\n",
            "image 60/259 /content/dadad-rvg-2/test/images/7cad7e3ff4f7484890ee7c5e46adea10_png.rf.3e793a867ca3c509023d2deef87df687.jpg: 640x640 2 Bone Losss, 7.8ms\n",
            "image 61/259 /content/dadad-rvg-2/test/images/7fa4b99b982046d4b9672cdc0dc3656e_png.rf.e63406b5c2bea2a4309ded41b79ea296.jpg: 640x640 (no detections), 7.6ms\n",
            "image 62/259 /content/dadad-rvg-2/test/images/7fa8179a1ef348e6a27ab1bb6de74aab_png.rf.a1e62ad80d32de78e257dd1e55ae7bbf.jpg: 640x640 2 Bone Losss, 7.6ms\n",
            "image 63/259 /content/dadad-rvg-2/test/images/7fffb88f94a043f5918faadddbe032ff_png.rf.53fef5de500786b25d24e88c881b7afc.jpg: 640x640 (no detections), 15.6ms\n",
            "image 64/259 /content/dadad-rvg-2/test/images/80f92911a39c4df8b3761024c47215c6_png.rf.4fbf5423d514a343b01d4b7f015e3a81.jpg: 640x640 (no detections), 7.6ms\n",
            "image 65/259 /content/dadad-rvg-2/test/images/824ddca8f1834beebb547178ddbcaae6_png.rf.876c1175ed71964304400d3ff2e5ac82.jpg: 640x640 (no detections), 7.6ms\n",
            "image 66/259 /content/dadad-rvg-2/test/images/83f81e812cb54f51a8f2fdd790f47127_png.rf.7615eccc49e14ed5ce6e7887aac144de.jpg: 640x640 (no detections), 8.1ms\n",
            "image 67/259 /content/dadad-rvg-2/test/images/8b5d60ccd25c4ea793cb4e4bd69fe73d_png.rf.f8ddb7632986212d4acac8f403da394a.jpg: 640x640 (no detections), 8.0ms\n",
            "image 68/259 /content/dadad-rvg-2/test/images/8bfe3b33736b4ad3825d47878103a3b1_png.rf.1342ea54cf1a6be1c72d942fc0627db3.jpg: 640x640 (no detections), 8.0ms\n",
            "image 69/259 /content/dadad-rvg-2/test/images/8cb7db4408bd49ac82106ae8354522eb_png.rf.4c25f119b540018cab488a317d585e05.jpg: 640x640 (no detections), 7.8ms\n",
            "image 70/259 /content/dadad-rvg-2/test/images/8d9bee776204461eb438149f541f9bed_png.rf.808e1a65a81bcd9fd85dedb89628b933.jpg: 640x640 2 Bone Losss, 7.8ms\n",
            "image 71/259 /content/dadad-rvg-2/test/images/91053e3a05c24624b7969c1227579ffa_png.rf.9458f44e4fe365b70498dba60ff6ec06.jpg: 640x640 (no detections), 7.9ms\n",
            "image 72/259 /content/dadad-rvg-2/test/images/92525d7319c843d89a81ccec40d200fc_png.rf.a75bf0f7a93dcdc95f0cd4696b8a3ae6.jpg: 640x640 (no detections), 7.7ms\n",
            "image 73/259 /content/dadad-rvg-2/test/images/93658d6431114353ab7c4f07dcbff307_png.rf.e0b9453e6fe556e3614d2b5702921d43.jpg: 640x640 1 Bone Loss, 7.7ms\n",
            "image 74/259 /content/dadad-rvg-2/test/images/9927819456564c9a8be895187f3a2c9d_png.rf.5e3d4478fd72f3244f0f45c004260926.jpg: 640x640 (no detections), 7.7ms\n",
            "image 75/259 /content/dadad-rvg-2/test/images/9b45bf9f89664755876960584b811ee9_png.rf.46a6fd7a0e231d0ad9ad0d530c85df8f.jpg: 640x640 2 Bone Losss, 8.1ms\n",
            "image 76/259 /content/dadad-rvg-2/test/images/9b7c6f45aeb34793ad3e15b2341d8d71_png.rf.d142de1c77da4a2f3ba2d6e5b7835798.jpg: 640x640 (no detections), 7.9ms\n",
            "image 77/259 /content/dadad-rvg-2/test/images/9badf29bbd8a41cabc86045a3cff0956_png.rf.82654326507562411bff7ba8f415aae4.jpg: 640x640 2 Bone Losss, 7.8ms\n",
            "image 78/259 /content/dadad-rvg-2/test/images/9bf3d45d8063428e899fa008fc0cd734_png.rf.f2771ea8e405a77e29894e22c8d23570.jpg: 640x640 2 Bone Losss, 7.7ms\n",
            "image 79/259 /content/dadad-rvg-2/test/images/9c775ac1cfc24fcbaecc3747cff1c267_png.rf.8f1d57d2c56d768700b7d6a3faad146f.jpg: 640x640 (no detections), 7.6ms\n",
            "image 80/259 /content/dadad-rvg-2/test/images/IC20230330_223816_5951_85411875_jpg.rf.62b185f8d57129793a181aeb6d0436e6.jpg: 640x640 (no detections), 8.0ms\n",
            "image 81/259 /content/dadad-rvg-2/test/images/IC20230420_230016_4758_09266233_jpg.rf.55b8378bf8a6a3c26c5fb3f5b40fe901.jpg: 640x640 (no detections), 7.9ms\n",
            "image 82/259 /content/dadad-rvg-2/test/images/IC20230427_054548_9826_69280321_jpg.rf.95c5ebacf6285312e4a93ec3c8098d64.jpg: 640x640 (no detections), 10.0ms\n",
            "image 83/259 /content/dadad-rvg-2/test/images/IC20230427_054709_5637_94831536_jpg.rf.5b29ef4b45c058ecdbaf63370f269c31.jpg: 640x640 (no detections), 7.7ms\n",
            "image 84/259 /content/dadad-rvg-2/test/images/IC20230501_014642_5676_01518065_jpg.rf.3d20a7c64295210fedf2a8f877eead93.jpg: 640x640 (no detections), 7.9ms\n",
            "image 85/259 /content/dadad-rvg-2/test/images/IC20230501_014728_2902_72224455_jpg.rf.c49cf6c50080c88f3b1d61b38cf6b35f.jpg: 640x640 (no detections), 8.0ms\n",
            "image 86/259 /content/dadad-rvg-2/test/images/IC20230513_023859_2311_49249948_jpg.rf.a772c92eda190b739bf6503b47a80805.jpg: 640x640 (no detections), 7.8ms\n",
            "image 87/259 /content/dadad-rvg-2/test/images/IC20230517_230955_8028_62347117_jpg.rf.4433952a93112c365957c8543cd68b62.jpg: 640x640 (no detections), 7.7ms\n",
            "image 88/259 /content/dadad-rvg-2/test/images/IC20230530_235248_4021_29449372_jpg.rf.ceeab1f44dc7016b20f438dffc611a06.jpg: 640x640 (no detections), 8.0ms\n",
            "image 89/259 /content/dadad-rvg-2/test/images/IC20230530_235322_9265t_23104255_jpg.rf.ece3c8fdd3a8566a404efdd338b8cf06.jpg: 640x640 (no detections), 8.1ms\n",
            "image 90/259 /content/dadad-rvg-2/test/images/IC20230601_024443_4275_13924397_jpg.rf.72e34dbb2341f9143a0c5ba75a2fba30.jpg: 640x640 (no detections), 7.9ms\n",
            "image 91/259 /content/dadad-rvg-2/test/images/IC20230603_225410_6485_78760440_jpg.rf.f85199e828c507b5ab6980a7c45adbb7.jpg: 640x640 (no detections), 7.8ms\n",
            "image 92/259 /content/dadad-rvg-2/test/images/IC20230622_182637_2407t_80153485_jpg.rf.64cc1f504dd0631bae2224797e8003b3.jpg: 640x640 (no detections), 8.0ms\n",
            "image 93/259 /content/dadad-rvg-2/test/images/IC20230703_135837_1866t_84002089_jpg.rf.d5b2e7d4d9b0fc803de30c27f4192e69.jpg: 640x640 (no detections), 7.9ms\n",
            "image 94/259 /content/dadad-rvg-2/test/images/IC20230728_131323_8566_79608725_jpg.rf.e7743438170862db05a2aeaed20179df.jpg: 640x640 (no detections), 7.9ms\n",
            "image 95/259 /content/dadad-rvg-2/test/images/IS20230309_225414_7390t_82779726_jpg.rf.f37ccc0d8eaafa407d91bc798f297a26.jpg: 640x640 1 Bone Loss, 7.7ms\n",
            "image 96/259 /content/dadad-rvg-2/test/images/IS20230310_224218_5337t_50109667_jpg.rf.de1810ce75b4482a0fcc97b6770e1e58.jpg: 640x640 (no detections), 8.1ms\n",
            "image 97/259 /content/dadad-rvg-2/test/images/IS20230311_043248_8476t_16557136_jpg.rf.56d3fc6b5a7902a0560ec49d99acf62c.jpg: 640x640 (no detections), 8.1ms\n",
            "image 98/259 /content/dadad-rvg-2/test/images/IS20230311_225153_4499t_19151238_jpg.rf.9bd654a7626e9ab158d3ca27891173ed.jpg: 640x640 (no detections), 8.0ms\n",
            "image 99/259 /content/dadad-rvg-2/test/images/IS20230404_060047_5319t_86759102_jpg.rf.eab6add182dac9fb58b2f76e701d0a90.jpg: 640x640 (no detections), 7.8ms\n",
            "image 100/259 /content/dadad-rvg-2/test/images/IS20230405_231258_6960t_92972658_jpg.rf.0d5afdbefd9b8e89cd8d9946674de5b4.jpg: 640x640 (no detections), 8.1ms\n",
            "image 101/259 /content/dadad-rvg-2/test/images/IS20230407_013649_8394t_40199819_jpg.rf.9d8a8ddcca644ae3e76d1600ebfd9e80.jpg: 640x640 (no detections), 8.0ms\n",
            "image 102/259 /content/dadad-rvg-2/test/images/IS20230408_062748_7334t_86852367_jpg.rf.220b8a49134c98d79f52effa2acb9d7d.jpg: 640x640 (no detections), 8.0ms\n",
            "image 103/259 /content/dadad-rvg-2/test/images/IS20230411_230723_4803t_47538026_jpg.rf.bf670a7711c68dae09402191ce6b3631.jpg: 640x640 (no detections), 7.9ms\n",
            "image 104/259 /content/dadad-rvg-2/test/images/IS20230413_054738_4473t_59074883_jpg.rf.2b41e1d7415290693aab182c548156fe.jpg: 640x640 (no detections), 8.2ms\n",
            "image 105/259 /content/dadad-rvg-2/test/images/IS20230413_062357_9194t_37946641_jpg.rf.1d51c44bdc12f7a28cea7ecd532bdf74.jpg: 640x640 (no detections), 8.0ms\n",
            "image 106/259 /content/dadad-rvg-2/test/images/IS20230413_062425_4575t_25343062_jpg.rf.b6e0b778ee2464af3e105de189543f25.jpg: 640x640 (no detections), 8.0ms\n",
            "image 107/259 /content/dadad-rvg-2/test/images/IS20230415_223839_4547t_85342774_jpg.rf.653b29ab6d6f0715af8a5f3cd53519b1.jpg: 640x640 (no detections), 7.9ms\n",
            "image 108/259 /content/dadad-rvg-2/test/images/IS20230418_074312_6406t_36018789_jpg.rf.e9faf61eef325ed494357a6b341678d5.jpg: 640x640 (no detections), 8.1ms\n",
            "image 109/259 /content/dadad-rvg-2/test/images/IS20230418_075134_2970t_48700540_jpg.rf.94fb7332f28edb86bc9121adc7bb3542.jpg: 640x640 (no detections), 8.0ms\n",
            "image 110/259 /content/dadad-rvg-2/test/images/IS20230422_055323_9398t_38247900_jpg.rf.d2cd3881e97cfbefc7b52d391be1b9eb.jpg: 640x640 1 Bone Loss, 7.9ms\n",
            "image 111/259 /content/dadad-rvg-2/test/images/IS20230424_000738_2040t_69749964_jpg.rf.f825c9fb6e514cfde73795ac472cd53f.jpg: 640x640 (no detections), 7.8ms\n",
            "image 112/259 /content/dadad-rvg-2/test/images/IS20230424_235138_9316t_18823261_jpg.rf.d2060ceabcf14c266062c900a1620dfc.jpg: 640x640 (no detections), 8.2ms\n",
            "image 113/259 /content/dadad-rvg-2/test/images/IS20230426_053553_8015t_51316532_jpg.rf.2290936b0db8734442ba738f4e449a9e.jpg: 640x640 (no detections), 8.4ms\n",
            "image 114/259 /content/dadad-rvg-2/test/images/IS20230426_061002_6842t_26384645_jpg.rf.1806c2024a96de14f0ee5a32bbb92444.jpg: 640x640 (no detections), 8.2ms\n",
            "image 115/259 /content/dadad-rvg-2/test/images/IS20230427_055011_5110t_95273035_jpg.rf.227d7ed287dc4d8923fbca3aa8f1f600.jpg: 640x640 (no detections), 7.7ms\n",
            "image 116/259 /content/dadad-rvg-2/test/images/IS20230428_061000_1097t_29194375_jpg.rf.183a0957bb2c8dd483d5e442efaa0d52.jpg: 640x640 (no detections), 7.7ms\n",
            "image 117/259 /content/dadad-rvg-2/test/images/IS20230429_001527_8240t_02033386_jpg.rf.80dccd1d5fc37cf12a5c7ccd2120998b.jpg: 640x640 (no detections), 8.1ms\n",
            "image 118/259 /content/dadad-rvg-2/test/images/IS20230429_230148_1477t_82602137_jpg.rf.060a5c56b733b3c4cf5f692fb2d20b95.jpg: 640x640 (no detections), 7.9ms\n",
            "image 119/259 /content/dadad-rvg-2/test/images/IS20230501_010935_5581t_43444735_jpg.rf.5407ab9fc8ff9adb011f5242dfad5af2.jpg: 640x640 (no detections), 7.9ms\n",
            "image 120/259 /content/dadad-rvg-2/test/images/IS20230501_012039_7208t_54141187_jpg.rf.fe64fec6c520b5999fd65f4683113946.jpg: 640x640 (no detections), 7.7ms\n",
            "image 121/259 /content/dadad-rvg-2/test/images/IS20230501_015507_5043t_27359900_jpg.rf.ea07c766b1c53a571756c16eccc123ec.jpg: 640x640 (no detections), 8.1ms\n",
            "image 122/259 /content/dadad-rvg-2/test/images/IS20230502_225214_6836t_50958269_jpg.rf.b52cde52866f8d88068701970fca9de8.jpg: 640x640 (no detections), 8.0ms\n",
            "image 123/259 /content/dadad-rvg-2/test/images/IS20230503_052103_7906t_65047821_jpg.rf.1273ceb4b32b62e33a4163ee50ad9b7c.jpg: 640x640 (no detections), 7.9ms\n",
            "image 124/259 /content/dadad-rvg-2/test/images/IS20230503_231943_5581t_59981842_jpg.rf.e2561a51adeb1b71caf4017c5f0c4b94.jpg: 640x640 1 Bone Loss, 7.7ms\n",
            "image 125/259 /content/dadad-rvg-2/test/images/IS20230503_232031_2300t_38732454_jpg.rf.e325e381f1c811a510b3db19ab46c4bb.jpg: 640x640 (no detections), 8.0ms\n",
            "image 126/259 /content/dadad-rvg-2/test/images/IS20230504_002300_0409t_82405292_jpg.rf.3dcd1e7c405d5254ceed7b6379bb5d1b.jpg: 640x640 (no detections), 8.2ms\n",
            "image 127/259 /content/dadad-rvg-2/test/images/IS20230505_234045_0941t_82476308_jpg.rf.d4fc986f491eaa3203fcfa20632487d0.jpg: 640x640 (no detections), 8.0ms\n",
            "image 128/259 /content/dadad-rvg-2/test/images/IS20230510_032716_1616t_64846588_jpg.rf.df6e8995c86f5d77ccaa793e1783972a.jpg: 640x640 (no detections), 9.4ms\n",
            "image 129/259 /content/dadad-rvg-2/test/images/IS20230510_233202_4963t_35676481_jpg.rf.62339fd07c40a2779f7981e6972d889e.jpg: 640x640 (no detections), 14.5ms\n",
            "image 130/259 /content/dadad-rvg-2/test/images/IS20230510_233406_0958t_44661746_jpg.rf.174ecb3cb02619fe45cd61c6c1564752.jpg: 640x640 (no detections), 7.6ms\n",
            "image 131/259 /content/dadad-rvg-2/test/images/IS20230511_004438_3297t_36095277_jpg.rf.8275ce2d08d9b15b1a5ff4f39ec6029a.jpg: 640x640 (no detections), 7.5ms\n",
            "image 132/259 /content/dadad-rvg-2/test/images/IS20230514_225011_5043t_48035923_jpg.rf.1f07e9b1f5c6f3121e0aea5dc7e66aba.jpg: 640x640 (no detections), 7.5ms\n",
            "image 133/259 /content/dadad-rvg-2/test/images/IS20230514_235140_8264t_51956000_jpg.rf.c8a5405bea91bee99da9e7264f326fba.jpg: 640x640 (no detections), 8.0ms\n",
            "image 134/259 /content/dadad-rvg-2/test/images/IS20230515_220903_1022t_21986923_jpg.rf.bc1e2efb91d28c8bf7df3b63ec95900a.jpg: 640x640 (no detections), 8.0ms\n",
            "image 135/259 /content/dadad-rvg-2/test/images/IS20230517_000950_5741t_58907926_jpg.rf.4c42970c92c031693cb792066ffb895c.jpg: 640x640 (no detections), 7.9ms\n",
            "image 136/259 /content/dadad-rvg-2/test/images/IS20230521_004257_0578t_30733955_jpg.rf.2235793f1f8ea55a98c2b1279b5480b0.jpg: 640x640 (no detections), 7.7ms\n",
            "image 137/259 /content/dadad-rvg-2/test/images/IS20230523_002522_5812t_77816983_jpg.rf.037e5cc24fdecddf754ec725405bbbeb.jpg: 640x640 (no detections), 8.0ms\n",
            "image 138/259 /content/dadad-rvg-2/test/images/IS20230523_234522_2189t_01685453_jpg.rf.60c5037129cdc7970e153149099c13db.jpg: 640x640 (no detections), 8.0ms\n",
            "image 139/259 /content/dadad-rvg-2/test/images/IS20230523_235441_9134t_44935360_jpg.rf.b4f8dd422849bc995360a36799c600db.jpg: 640x640 (no detections), 8.0ms\n",
            "image 140/259 /content/dadad-rvg-2/test/images/IS20230524_000034_0222t_34335144_jpg.rf.b8e1c0666c3a0e3eeebb3c70685d9c99.jpg: 640x640 (no detections), 7.8ms\n",
            "image 141/259 /content/dadad-rvg-2/test/images/IS20230527_003819_4622t_39474579_jpg.rf.438c8a1cfbe1a168dd99ecd0467cd9a9.jpg: 640x640 (no detections), 7.7ms\n",
            "image 142/259 /content/dadad-rvg-2/test/images/IS20230527_012132_6208t_95379601_jpg.rf.1058a16c5a429271b7595b4076c0fa37.jpg: 640x640 (no detections), 8.1ms\n",
            "image 143/259 /content/dadad-rvg-2/test/images/IS20230528_000049_5021t_32515448_jpg.rf.b47022c4f6ae6049f02be4e6a774dfab.jpg: 640x640 1 Bone Loss, 8.0ms\n",
            "image 144/259 /content/dadad-rvg-2/test/images/IS20230528_015118_1315t_15114714_jpg.rf.ba5265c409321604a953cd85a7b9d795.jpg: 640x640 (no detections), 7.8ms\n",
            "image 145/259 /content/dadad-rvg-2/test/images/IS20230529_014002_0185t_25403012_jpg.rf.a54572b02c1022f9408786c5438c3508.jpg: 640x640 (no detections), 7.7ms\n",
            "image 146/259 /content/dadad-rvg-2/test/images/IS20230529_054045_6353t_47488163_jpg.rf.ca0d3c7ba31d6aa519fd8a7813fda6ca.jpg: 640x640 (no detections), 7.8ms\n",
            "image 147/259 /content/dadad-rvg-2/test/images/IS20230529_225755_3270t_47265362_jpg.rf.4c5f4d7f5f24807b8fe16d2872df122c.jpg: 640x640 (no detections), 8.1ms\n",
            "image 148/259 /content/dadad-rvg-2/test/images/IS20230529_234234_3644t_06097117_jpg.rf.b11699120aae8a26aa65c56f8097fdb8.jpg: 640x640 (no detections), 8.0ms\n",
            "image 149/259 /content/dadad-rvg-2/test/images/IS20230530_223044_2576t_61138607_jpg.rf.d2210fa7cb7a86ab97c519b97d4fbd1c.jpg: 640x640 (no detections), 7.9ms\n",
            "image 150/259 /content/dadad-rvg-2/test/images/IS20230530_225758_0039t_46107747_jpg.rf.4d4f24629e97c45eb8b48ac8a7563bcb.jpg: 640x640 1 Bone Loss, 7.7ms\n",
            "image 151/259 /content/dadad-rvg-2/test/images/IS20230531_004029_1116t_86217906_jpg.rf.09e823b97228351e28240dd153512d96.jpg: 640x640 (no detections), 8.1ms\n",
            "image 152/259 /content/dadad-rvg-2/test/images/IS20230601_005058_0928t_44178433_jpg.rf.6f7cc9ab32869794bfb053e71bf4350f.jpg: 640x640 (no detections), 8.0ms\n",
            "image 153/259 /content/dadad-rvg-2/test/images/IS20230605_005920_9642t_22918987_jpg.rf.f0045bf514f9d950e6ec60e6f3820ef3.jpg: 640x640 (no detections), 7.9ms\n",
            "image 154/259 /content/dadad-rvg-2/test/images/IS20230609_234705_7031t_84004849_jpg.rf.449b9f25d0c5207d3233880b8e71c6d0.jpg: 640x640 (no detections), 7.7ms\n",
            "image 155/259 /content/dadad-rvg-2/test/images/IS20230610_060920_9186t_06745735_jpg.rf.e84383351e2e460e0d63fe9c2e1d8706.jpg: 640x640 1 Bone Loss, 7.8ms\n",
            "image 156/259 /content/dadad-rvg-2/test/images/IS20230610_062613_1511t_24248246_jpg.rf.1b55e6953d47abda879fcc981434e605.jpg: 640x640 1 Bone Loss, 7.9ms\n",
            "image 157/259 /content/dadad-rvg-2/test/images/IS20230610_064000_3644t_78032490_jpg.rf.fab757c35a2a144dc34710a4f285c23d.jpg: 640x640 (no detections), 7.7ms\n",
            "image 158/259 /content/dadad-rvg-2/test/images/IS20230610_080010_1282t_89165186_jpg.rf.53b4c4d4acc677bf04e22ed936d3e307.jpg: 640x640 (no detections), 7.7ms\n",
            "image 159/259 /content/dadad-rvg-2/test/images/IS20230610_081555_7277t_58971433_jpg.rf.df12deb434b4250e5f34df33e4d539e6.jpg: 640x640 (no detections), 7.7ms\n",
            "image 160/259 /content/dadad-rvg-2/test/images/IS20230612_004814_6346t_13581117_jpg.rf.c388df9db1e590e5c753ce6866cf1a60.jpg: 640x640 1 Bone Loss, 8.0ms\n",
            "image 161/259 /content/dadad-rvg-2/test/images/IS20230612_014003_5691t_74656405_jpg.rf.04c14baa7a3847fdee19b2c9a3c61cce.jpg: 640x640 (no detections), 8.1ms\n",
            "image 162/259 /content/dadad-rvg-2/test/images/IS20230612_025447_6424t_74408594_jpg.rf.9822e85a306d45bd05b1d56b8a65515e.jpg: 640x640 (no detections), 7.7ms\n",
            "image 163/259 /content/dadad-rvg-2/test/images/IS20230615_004442_3069t_44070404_jpg.rf.4af1582e9a96a9875e57c869f3a7c5be.jpg: 640x640 (no detections), 7.7ms\n",
            "image 164/259 /content/dadad-rvg-2/test/images/IS20230615_004606_5325t_95945024_jpg.rf.42673bd03da95296d852f2d8ccc80eba.jpg: 640x640 (no detections), 7.7ms\n",
            "image 165/259 /content/dadad-rvg-2/test/images/IS20230619_134716_5900t_02391515_jpg.rf.22e55e9eb264a7f3b9368508f9dacfbf.jpg: 640x640 (no detections), 7.9ms\n",
            "image 166/259 /content/dadad-rvg-2/test/images/IS20230621_114104_0619t_31708398_jpg.rf.166d60052788b8f5e4076e05a45cf89c.jpg: 640x640 (no detections), 7.8ms\n",
            "image 167/259 /content/dadad-rvg-2/test/images/IS20230621_140942_3029t_06309344_jpg.rf.e2ffe5dcd603c7409f0c3e730cfb78b3.jpg: 640x640 (no detections), 7.7ms\n",
            "image 168/259 /content/dadad-rvg-2/test/images/IS20230621_143325_7489t_83035655_jpg.rf.48270303d6bab605c242bfe97c55e135.jpg: 640x640 (no detections), 7.7ms\n",
            "image 169/259 /content/dadad-rvg-2/test/images/IS20230622_112759_6952t_94031620_jpg.rf.7f6dd0c66663c8bffae29abc9bb49b08.jpg: 640x640 (no detections), 8.0ms\n",
            "image 170/259 /content/dadad-rvg-2/test/images/IS20230622_113129_9591t_67804183_jpg.rf.670fcfd70dbb2b755d670beae59f2aa6.jpg: 640x640 (no detections), 7.9ms\n",
            "image 171/259 /content/dadad-rvg-2/test/images/IS20230623_194524_5820t_71443884_jpg.rf.58d091e9112dce3b812b541f237dfb21.jpg: 640x640 (no detections), 8.3ms\n",
            "image 172/259 /content/dadad-rvg-2/test/images/IS20230624_120142_2301t_31693645_jpg.rf.9e0de53b881fcdc0437f0f12ae09290c.jpg: 640x640 (no detections), 7.8ms\n",
            "image 173/259 /content/dadad-rvg-2/test/images/IS20230624_143544_5116t_33118328_jpg.rf.e5519cb840f4f841d8100d3f3078dcbb.jpg: 640x640 (no detections), 8.2ms\n",
            "image 174/259 /content/dadad-rvg-2/test/images/IS20230624_190626_0325t_14856426_jpg.rf.03858bdbd5575339d5fc9333123554b6.jpg: 640x640 (no detections), 8.1ms\n",
            "image 175/259 /content/dadad-rvg-2/test/images/IS20230624_191747_6290t_94347589_jpg.rf.eefc9ef8c4b2c62457c0863411039a3a.jpg: 640x640 (no detections), 7.9ms\n",
            "image 176/259 /content/dadad-rvg-2/test/images/IS20230629_182611_2643t_53058614_jpg.rf.1c7ac267d8650ae81ff1b80590f57c64.jpg: 640x640 (no detections), 7.7ms\n",
            "image 177/259 /content/dadad-rvg-2/test/images/IS20230629_184753_5958t_24828781_jpg.rf.da9a06e7ccbfc7a3ba0991a057bcbce3.jpg: 640x640 (no detections), 8.1ms\n",
            "image 178/259 /content/dadad-rvg-2/test/images/IS20230702_122858_7124t_22858807_jpg.rf.6ee16e9cc778102b7b4f3e607e6b94f1.jpg: 640x640 (no detections), 8.1ms\n",
            "image 179/259 /content/dadad-rvg-2/test/images/IS20230702_132036_5530t_73503196_jpg.rf.a107b343ff22254cd3850fed97966b44.jpg: 640x640 (no detections), 7.9ms\n",
            "image 180/259 /content/dadad-rvg-2/test/images/IS20230703_144830_3270t_65620597_jpg.rf.0fac3092d79db76b4080bb246e4d5a7d.jpg: 640x640 (no detections), 7.8ms\n",
            "image 181/259 /content/dadad-rvg-2/test/images/IS20230707_122219_7903t_19467384_jpg.rf.93ebf2ab1ba1dbd36452b2e30b191650.jpg: 640x640 (no detections), 7.9ms\n",
            "image 182/259 /content/dadad-rvg-2/test/images/IS20230707_122458_2811t_29861351_jpg.rf.8e27171faeac255a06598e372ef86c26.jpg: 640x640 (no detections), 8.2ms\n",
            "image 183/259 /content/dadad-rvg-2/test/images/IS20230707_143114_4234t_02826525_jpg.rf.06d57deac0624e75410a29e10dff9437.jpg: 640x640 (no detections), 8.0ms\n",
            "image 184/259 /content/dadad-rvg-2/test/images/IS20230707_184249_0109t_67849160_jpg.rf.6886c2cc12f0421a2f6907f9fe0dbe38.jpg: 640x640 1 Bone Loss, 8.0ms\n",
            "image 185/259 /content/dadad-rvg-2/test/images/IS20230707_185147_1892t_71024336_jpg.rf.532646d2b63f6b7df60b73252db7c81e.jpg: 640x640 (no detections), 7.9ms\n",
            "image 186/259 /content/dadad-rvg-2/test/images/IS20230707_190138_1221t_64679911_jpg.rf.8a3aeacb00e3bdf1fcdbb41baf72767e.jpg: 640x640 (no detections), 7.9ms\n",
            "image 187/259 /content/dadad-rvg-2/test/images/IS20230708_121728_6045t_17034325_jpg.rf.80870813274b1317234053946742b01f.jpg: 640x640 (no detections), 7.9ms\n",
            "image 188/259 /content/dadad-rvg-2/test/images/IS20230709_133827_5213t_33105787_jpg.rf.ed241326c8efe22d78a73581eb6e291a.jpg: 640x640 1 Bone Loss, 7.8ms\n",
            "image 189/259 /content/dadad-rvg-2/test/images/IS20230709_134238_7729t_42489247_jpg.rf.b7464a59b89a65b0702695f1f6fdef36.jpg: 640x640 (no detections), 7.7ms\n",
            "image 190/259 /content/dadad-rvg-2/test/images/IS20230710_113735_4273t_93081267_jpg.rf.347ad0c419d2919579a9538571259a00.jpg: 640x640 (no detections), 7.7ms\n",
            "image 191/259 /content/dadad-rvg-2/test/images/IS20230711_105858_8523t_35794039_jpg.rf.3ebd2be15473889ec15ee81ef2989bbb.jpg: 640x640 (no detections), 8.1ms\n",
            "image 192/259 /content/dadad-rvg-2/test/images/IS20230713_120402_2958t_90173895_jpg.rf.a2cf9bf27a9b0f8ca73ebb083a4ba95d.jpg: 640x640 (no detections), 8.0ms\n",
            "image 193/259 /content/dadad-rvg-2/test/images/IS20230714_165727_7960t_74351990_jpg.rf.84d88baf70c66171f3befec4ee2ffe58.jpg: 640x640 (no detections), 8.0ms\n",
            "image 194/259 /content/dadad-rvg-2/test/images/IS20230715_115917_0277t_73347545_jpg.rf.4638d35ab93002d473aa8876b02ed5fa.jpg: 640x640 (no detections), 12.7ms\n",
            "image 195/259 /content/dadad-rvg-2/test/images/IS20230715_180423_2343t_35684262_jpg.rf.03d2d5c76387f63efdef967da7fbb9f8.jpg: 640x640 1 Bone Loss, 8.8ms\n",
            "image 196/259 /content/dadad-rvg-2/test/images/IS20230718_175440_2638t_91515609_jpg.rf.4e35f2b2df4f2e33fe6e0836d4540e68.jpg: 640x640 (no detections), 7.5ms\n",
            "image 197/259 /content/dadad-rvg-2/test/images/IS20230718_184437_0132t_26672635_jpg.rf.bcde8fef820f05aadd6b24b4c1a51d16.jpg: 640x640 (no detections), 7.5ms\n",
            "image 198/259 /content/dadad-rvg-2/test/images/IS20230720_125427_4100t_04332165_jpg.rf.d0c72bf1c38318f00f33b6e410201ee6.jpg: 640x640 (no detections), 8.2ms\n",
            "image 199/259 /content/dadad-rvg-2/test/images/IS20230720_125651_0980t_38268028_jpg.rf.7435f81df02e6fc11f5e6b56b5e5dad9.jpg: 640x640 3 Bone Losss, 7.9ms\n",
            "image 200/259 /content/dadad-rvg-2/test/images/IS20230720_125941_9906t_89520246_jpg.rf.f2bbfe14e3b778d9784043dcbc5453f7.jpg: 640x640 (no detections), 7.9ms\n",
            "image 201/259 /content/dadad-rvg-2/test/images/IS20230720_132400_2606t_94510978_jpg.rf.02ddeef1bbae16bb44acab541c3c92da.jpg: 640x640 1 Bone Loss, 7.7ms\n",
            "image 202/259 /content/dadad-rvg-2/test/images/IS20230726_132430_6775t_65430448_jpg.rf.7b8937a7c1ac7134f5503331943bd816.jpg: 640x640 (no detections), 7.9ms\n",
            "image 203/259 /content/dadad-rvg-2/test/images/IS20230726_133751_0550t_21893696_jpg.rf.fb05eb9d3a438665e128379d384847b3.jpg: 640x640 (no detections), 7.9ms\n",
            "image 204/259 /content/dadad-rvg-2/test/images/IS20230727_174226_7947t_76903404_jpg.rf.3fe0f9ed8d571f089133befa46f2d104.jpg: 640x640 (no detections), 7.8ms\n",
            "image 205/259 /content/dadad-rvg-2/test/images/IS20230727_174301_5129t_08421326_jpg.rf.cc9eeff54e622f4cad9e4dc0afd33571.jpg: 640x640 (no detections), 7.7ms\n",
            "image 206/259 /content/dadad-rvg-2/test/images/IS20230728_142537_1486t_03428218_jpg.rf.d1239d09fd331e4d954b3ae4cf1355d1.jpg: 640x640 1 Bone Loss, 7.7ms\n",
            "image 207/259 /content/dadad-rvg-2/test/images/IS20230728_170635_4385t_84487107_jpg.rf.11e7156a89cf5bd404a97b94931ee778.jpg: 640x640 (no detections), 8.1ms\n",
            "image 208/259 /content/dadad-rvg-2/test/images/IS20230801_132938_6305t_42160874_jpg.rf.206ad04b51bd9daecdf2318a111a6711.jpg: 640x640 (no detections), 8.1ms\n",
            "image 209/259 /content/dadad-rvg-2/test/images/IS20230804_122155_5586t_87351414_jpg.rf.44b0550e128965f3763401003586735c.jpg: 640x640 (no detections), 7.9ms\n",
            "image 210/259 /content/dadad-rvg-2/test/images/IS20230805_141456_5450t_62191923_jpg.rf.4b59bdf306f9bcb62fda043cfd80c8cb.jpg: 640x640 (no detections), 7.8ms\n",
            "image 211/259 /content/dadad-rvg-2/test/images/IS20230807_112801_4942t_84976164_jpg.rf.ca1a1259ffcc8a8c9065f8142671ff44.jpg: 640x640 (no detections), 7.8ms\n",
            "image 212/259 /content/dadad-rvg-2/test/images/IS20230808_095836_5636t_17222887_jpg.rf.3ea65867128116fed6fc7fac06b23d20.jpg: 640x640 (no detections), 8.2ms\n",
            "image 213/259 /content/dadad-rvg-2/test/images/IS20230809_182417_8084t_11125820_jpg.rf.a93ff232c90d8f5c4f5d6f9f63b9f4d8.jpg: 640x640 (no detections), 7.9ms\n",
            "image 214/259 /content/dadad-rvg-2/test/images/IS20230810_155312_2782t_71788308_jpg.rf.64f9e3271fd95d8510a78e91b9c0d4cf.jpg: 640x640 (no detections), 8.0ms\n",
            "image 215/259 /content/dadad-rvg-2/test/images/IS20230814_110516_2141t_74552573_jpg.rf.379f7221e1370ee7660a3187f115b1c0.jpg: 640x640 (no detections), 7.8ms\n",
            "image 216/259 /content/dadad-rvg-2/test/images/SVMyMDE4MDEyMV8xNDA5MzJfMDg0MV8wMDAwMDI4RjE1MTY1MjU4NTIxNDQ3MjM1NDE2_jpg.rf.d60900e29a0d932cb23051e56ea5d028.jpg: 640x640 (no detections), 8.1ms\n",
            "image 217/259 /content/dadad-rvg-2/test/images/SVMyMDE4MDkwNF8xMjE5MTBfMDE2OV8wMDAwMTcwMjE1MzYwNjA4NjkxNDQ3MjA0NjM4_jpg.rf.c0f8b8b40f6d9d462a86c4edde547c34.jpg: 640x640 (no detections), 8.0ms\n",
            "image 218/259 /content/dadad-rvg-2/test/images/SVMyMDE5MDMwM18xMTE5NThfMDkyOF8wMDAwNUQ5MzE1NTE1OTcwNTQxNDQ3NDUxMTA4_jpg.rf.cf3c215c999ee1c928df4c7a39f584ab.jpg: 640x640 1 Bone Loss, 7.8ms\n",
            "image 219/259 /content/dadad-rvg-2/test/images/SVMyMDE5MDQwNl8xNzE5NDdfMDQxN18wMDAwNjBDNjE1NTQ1NTIzNTkxNDQ3NDU4Nzg3_jpg.rf.f57d9032f42e5583a3985a30a8c24a14.jpg: 640x640 (no detections), 7.7ms\n",
            "image 220/259 /content/dadad-rvg-2/test/images/SVMyMDIwMDgwNF8xMDUzNTBfMDk3MV8wMDAwNTkyRjE1OTY1MzI2MzMxNDQ3MjExNTY5_jpg.rf.2a1c7d0ad22af4193d5ceb5a6fe2c36b.jpg: 640x640 (no detections), 7.6ms\n",
            "image 221/259 /content/dadad-rvg-2/test/images/SVMyMDIwMTIwM18xMDU2MjFfMDM5Ml8wMDAwNUZGQTE2MDY5NzYxNTUxNDQ3OTAzMTE-_jpg.rf.e2f3f4aeb3fac95dbd9f8422e645cee1.jpg: 640x640 (no detections), 8.1ms\n",
            "image 222/259 /content/dadad-rvg-2/test/images/X2ltYWdlcyBvZl9SQUpFU0hOQVJVTEFfMjAyMjA3MjlfMTQ1MzIyMTY1OTA4NTE0MDE0NDcyOTQ4MzY-_jpg.rf.9b0a774eed29d7644ab3049578e2f7ad.jpg: 640x640 2 Bone Losss, 8.0ms\n",
            "image 223/259 /content/dadad-rvg-2/test/images/X2ltYWdlcyBvZl9SQUpFU0hOQVJVTEFfMjAyMjEwMDdfMTUzNTUyLkpQRzE2NjUxMzU4MDU2MzNmZjRiZGExOTYy_jpg.rf.d9cb8832ee8922cb8795d8a458abdde3.jpg: 640x640 (no detections), 7.9ms\n",
            "image 224/259 /content/dadad-rvg-2/test/images/a1cea2d174ee47568f1645ae7d7516a8_png.rf.716ec006a0b7bc55150ed185dbe0a97c.jpg: 640x640 (no detections), 7.7ms\n",
            "image 225/259 /content/dadad-rvg-2/test/images/aa9696e25d584327ad66c1a9f139c2f0_png.rf.153eff98892d2ea198e54d968b6ad5bd.jpg: 640x640 1 Bone Loss, 8.1ms\n",
            "image 226/259 /content/dadad-rvg-2/test/images/aab033f0f3ad415b96387520308367ae_png.rf.5fcb5ac800391a830dc52822fb88abc2.jpg: 640x640 (no detections), 8.1ms\n",
            "image 227/259 /content/dadad-rvg-2/test/images/ad49042bd1884e09a0e61a61d05e1648_png.rf.e141a4b1a1925ae415d1ec8616c463f7.jpg: 640x640 1 Bone Loss, 8.0ms\n",
            "image 228/259 /content/dadad-rvg-2/test/images/ae627d5f3ed64069a2b3bf091061b3e7_png.rf.8e3d47164826500a00c181b759e9922c.jpg: 640x640 (no detections), 7.8ms\n",
            "image 229/259 /content/dadad-rvg-2/test/images/aef663ab54e740c6a1112018b0ebc901_png.rf.a5460b51516bca425410f6deda6a118f.jpg: 640x640 (no detections), 7.7ms\n",
            "image 230/259 /content/dadad-rvg-2/test/images/b326eb721e798b0c1c5809559fec6140_jpg.rf.7789be86e7cae4b00b388bcacf3ff0a6.jpg: 640x640 (no detections), 7.9ms\n",
            "image 231/259 /content/dadad-rvg-2/test/images/b54918e421b14849acaca2fb5af56f43_png.rf.d72c6ccc5b451a8008dd0403ca8e44e3.jpg: 640x640 1 Bone Loss, 8.0ms\n",
            "image 232/259 /content/dadad-rvg-2/test/images/b5e6d1a728b249f2acdcf84325ded25b_png.rf.3c6385a454b3d43ef9dd2998cc8189cf.jpg: 640x640 (no detections), 7.8ms\n",
            "image 233/259 /content/dadad-rvg-2/test/images/b8334979fa8c402faf7352d35fe4e293_png.rf.29ef3c7fe9e714e89e9720dba3f64bd2.jpg: 640x640 2 Bone Losss, 7.8ms\n",
            "image 234/259 /content/dadad-rvg-2/test/images/b9e2790ca4984239827e702721a9e634_png.rf.603a261161d351f42d385cde631d5a65.jpg: 640x640 1 Bone Loss, 7.6ms\n",
            "image 235/259 /content/dadad-rvg-2/test/images/bbe4a3249edf4913a5695a97195c50f2_png.rf.960e85d6ead50e0cbccf1796bedd20fd.jpg: 640x640 1 Bone Loss, 7.6ms\n",
            "image 236/259 /content/dadad-rvg-2/test/images/befe330e6e864273b8d92659d7473ccb_png.rf.ebdecc9ef5df01e39750e191932a05d3.jpg: 640x640 (no detections), 7.6ms\n",
            "image 237/259 /content/dadad-rvg-2/test/images/bf2f4393b2ee483083cfc84555379c9c_png.rf.059ced16c2ac2466749f04ce4867b736.jpg: 640x640 1 Bone Loss, 8.3ms\n",
            "image 238/259 /content/dadad-rvg-2/test/images/cTExNTEwMzkxNzg4MTQ0NDI1NzYwMQ-_jpg.rf.3037271e6b2bc30b371bb604d8154410.jpg: 640x640 (no detections), 8.2ms\n",
            "image 239/259 /content/dadad-rvg-2/test/images/cc273cb2add640c1ba8e25a07fdeede9_png.rf.b6bd9ec50490f34e4cc9c777da7fa1a7.jpg: 640x640 (no detections), 7.8ms\n",
            "image 240/259 /content/dadad-rvg-2/test/images/cc4d3a96f22447079a25d2ccad67c92e_png.rf.8982c23630e8e0ea49325ee70ecc8c8c.jpg: 640x640 (no detections), 7.7ms\n",
            "image 241/259 /content/dadad-rvg-2/test/images/d0bc93a178ba4e8aa0e4d8dbcea49b2d_png.rf.b736903bef813a456d12b1dd95e832ee.jpg: 640x640 1 Bone Loss, 7.7ms\n",
            "image 242/259 /content/dadad-rvg-2/test/images/d3daa1aa16754fc98cb71f9a6d66679e_png.rf.f784200979892710f843ac731a9b2856.jpg: 640x640 (no detections), 7.9ms\n",
            "image 243/259 /content/dadad-rvg-2/test/images/d5dbf95437794bacb797635eca8d3ac3_png.rf.0dc9fc3e20ef733bfc8c60fe3cddaf34.jpg: 640x640 (no detections), 8.0ms\n",
            "image 244/259 /content/dadad-rvg-2/test/images/d631fb8e3b464c4898f163f79b0cf84b_png.rf.9356d2d976c78f4f53e40013c637c75e.jpg: 640x640 (no detections), 7.9ms\n",
            "image 245/259 /content/dadad-rvg-2/test/images/d76ea68cfe1a4948a38416b314062794_png.rf.87428f528dfd6cd60c9ac3dd0c796315.jpg: 640x640 (no detections), 7.8ms\n",
            "image 246/259 /content/dadad-rvg-2/test/images/e20c6968de974715b5789687bc35771e_png.rf.3eda22ca72fe71a8fab995cd0e3aaaa6.jpg: 640x640 (no detections), 7.7ms\n",
            "image 247/259 /content/dadad-rvg-2/test/images/e30b11da3c0f4a10be496d3a4541c6f8_png.rf.bd3e189571b1d2b23c6e2fb66c27687d.jpg: 640x640 (no detections), 8.2ms\n",
            "image 248/259 /content/dadad-rvg-2/test/images/e3b6d698eafb4d0d90033c47028d8010_png.rf.b8f3dea01ea06a589c5552de28a5c21c.jpg: 640x640 (no detections), 8.0ms\n",
            "image 249/259 /content/dadad-rvg-2/test/images/eee02ab14f3146c1b025c8e2b29c53fb_png.rf.0f31c539bc997fedc547a873004203e1.jpg: 640x640 1 Bone Loss, 7.9ms\n",
            "image 250/259 /content/dadad-rvg-2/test/images/ef3f57208f9d44ccaa77069675410fea_png.rf.bf7bbc95c82d3f1ca045fc5537d2bb8d.jpg: 640x640 (no detections), 7.8ms\n",
            "image 251/259 /content/dadad-rvg-2/test/images/f18699b675234910b18c4ffb0e1884fd_png.rf.2ae0939735323b35bceea94ae95af134.jpg: 640x640 (no detections), 7.9ms\n",
            "image 252/259 /content/dadad-rvg-2/test/images/f1b09ccff9434eb68d526e916985997c_png.rf.268ff2b7ba64263236fd687cfecb019b.jpg: 640x640 1 Bone Loss, 7.9ms\n",
            "image 253/259 /content/dadad-rvg-2/test/images/f242b1e5120f432a8b5d6eb55244b74d_png.rf.c18b35be7dbf413fa236101d55cd8538.jpg: 640x640 (no detections), 7.8ms\n",
            "image 254/259 /content/dadad-rvg-2/test/images/f4d6c0a237b14173a764efb1ef0cc4cb_png.rf.53bd0ac530ef9327768a35a34ffebd7b.jpg: 640x640 (no detections), 7.7ms\n",
            "image 255/259 /content/dadad-rvg-2/test/images/f53d249b182b44ec86513f20436bf7c7_png.rf.c33731ba67e71666a2ed5cdbb7cfbcca.jpg: 640x640 (no detections), 8.0ms\n",
            "image 256/259 /content/dadad-rvg-2/test/images/f61f54d9cd654fe582ee27c9fa3d7f26_png.rf.f94ac7ae749448659980174f3be87fd3.jpg: 640x640 (no detections), 8.0ms\n",
            "image 257/259 /content/dadad-rvg-2/test/images/f852f6e32b9641a6a1e43bd421595487_png.rf.589b9558dbba9a60a81a88a1eb5d8b59.jpg: 640x640 (no detections), 8.0ms\n",
            "image 258/259 /content/dadad-rvg-2/test/images/f905de691bf14364864f5ddc048ab2c0_png.rf.ed47d743026f72d8f2bf2291e72dd2eb.jpg: 640x640 (no detections), 11.5ms\n",
            "image 259/259 /content/dadad-rvg-2/test/images/faf52a0353974554826114afbaf323f5_png.rf.a376dc1e605143977a481f99f28eab6d.jpg: 640x640 (no detections), 7.6ms\n",
            "Speed: 2.2ms preprocess, 8.6ms inference, 0.8ms postprocess per image at shape (1, 3, 640, 640)\n",
            "Results saved to \u001b[1mruns/detect/train3\u001b[0m\n"
          ]
        }
      ]
    },
    {
      "cell_type": "code",
      "source": [
        "result = model.predict(source=\"/content/test.rf.afb6b55dee9684ebd6976f3ec55a16bf.jpg\",save=True, conf=0.25)"
      ],
      "metadata": {
        "colab": {
          "base_uri": "https://localhost:8080/"
        },
        "id": "9z2wu0_Y3oFW",
        "outputId": "d130b443-aad0-4732-eea2-070050e6ef5b"
      },
      "execution_count": 11,
      "outputs": [
        {
          "output_type": "stream",
          "name": "stdout",
          "text": [
            "\n",
            "image 1/1 /content/test.rf.afb6b55dee9684ebd6976f3ec55a16bf.jpg: 640x640 (no detections), 17.0ms\n",
            "Speed: 6.8ms preprocess, 17.0ms inference, 1.1ms postprocess per image at shape (1, 3, 640, 640)\n",
            "Results saved to \u001b[1mruns/detect/train4\u001b[0m\n"
          ]
        }
      ]
    },
    {
      "cell_type": "code",
      "source": [
        "model.save(\"best.pt\")\n"
      ],
      "metadata": {
        "id": "lJR0q8yLUNRE"
      },
      "execution_count": 12,
      "outputs": []
    },
    {
      "cell_type": "code",
      "source": [
        "from google.colab import files\n",
        "files.download(\"best.pt\")\n"
      ],
      "metadata": {
        "colab": {
          "base_uri": "https://localhost:8080/",
          "height": 17
        },
        "id": "zs5Wm5WJVLdW",
        "outputId": "d12a8e94-ccee-4f38-a38b-94a3df9686f0"
      },
      "execution_count": 13,
      "outputs": [
        {
          "output_type": "display_data",
          "data": {
            "text/plain": [
              "<IPython.core.display.Javascript object>"
            ],
            "application/javascript": [
              "\n",
              "    async function download(id, filename, size) {\n",
              "      if (!google.colab.kernel.accessAllowed) {\n",
              "        return;\n",
              "      }\n",
              "      const div = document.createElement('div');\n",
              "      const label = document.createElement('label');\n",
              "      label.textContent = `Downloading \"${filename}\": `;\n",
              "      div.appendChild(label);\n",
              "      const progress = document.createElement('progress');\n",
              "      progress.max = size;\n",
              "      div.appendChild(progress);\n",
              "      document.body.appendChild(div);\n",
              "\n",
              "      const buffers = [];\n",
              "      let downloaded = 0;\n",
              "\n",
              "      const channel = await google.colab.kernel.comms.open(id);\n",
              "      // Send a message to notify the kernel that we're ready.\n",
              "      channel.send({})\n",
              "\n",
              "      for await (const message of channel.messages) {\n",
              "        // Send a message to notify the kernel that we're ready.\n",
              "        channel.send({})\n",
              "        if (message.buffers) {\n",
              "          for (const buffer of message.buffers) {\n",
              "            buffers.push(buffer);\n",
              "            downloaded += buffer.byteLength;\n",
              "            progress.value = downloaded;\n",
              "          }\n",
              "        }\n",
              "      }\n",
              "      const blob = new Blob(buffers, {type: 'application/binary'});\n",
              "      const a = document.createElement('a');\n",
              "      a.href = window.URL.createObjectURL(blob);\n",
              "      a.download = filename;\n",
              "      div.appendChild(a);\n",
              "      a.click();\n",
              "      div.remove();\n",
              "    }\n",
              "  "
            ]
          },
          "metadata": {}
        },
        {
          "output_type": "display_data",
          "data": {
            "text/plain": [
              "<IPython.core.display.Javascript object>"
            ],
            "application/javascript": [
              "download(\"download_7fc13eea-a149-47dc-ba07-50f706e8f4e4\", \"best.pt\", 22393367)"
            ]
          },
          "metadata": {}
        }
      ]
    }
  ]
}